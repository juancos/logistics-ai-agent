{
 "cells": [
  {
   "cell_type": "code",
   "execution_count": 1,
   "metadata": {},
   "outputs": [],
   "source": [
    "#Carga de las librerias y definicion de las rutas asociadas\n",
    "import pandas as pd\n",
    "import numpy as np\n",
    "from pathlib import Path\n",
    "import glob\n"
   ]
  },
  {
   "cell_type": "code",
   "execution_count": 2,
   "metadata": {},
   "outputs": [],
   "source": [
    "#Carga de archivos de ventas y de compras 2024-2025\n",
    "# Ruta base\n",
    "ruta_base = Path(\"../data/raw\")\n",
    "\n",
    "# Archivos de ventas\n",
    "archivos_ventas = sorted(ruta_base.glob(\"ventas_dcto_items_2024*.xlsx\")) + \\\n",
    "                  sorted(ruta_base.glob(\"ventas_dcto_items_2025*.xlsx\"))\n",
    "\n",
    "# Archivos de compras\n",
    "archivos_compras = sorted(ruta_base.glob(\"compras_dcto_items_2024*.xlsx\")) + \\\n",
    "                   sorted(ruta_base.glob(\"compras_dcto_items_2025*.xlsx\"))\n",
    "\n",
    "# Lectura en DataFrames\n",
    "ventas_items = pd.concat([pd.read_excel(f, engine=\"openpyxl\") for f in archivos_ventas], ignore_index=True)\n",
    "compras_items = pd.concat([pd.read_excel(f, engine=\"openpyxl\") for f in archivos_compras], ignore_index=True)\n"
   ]
  },
  {
   "cell_type": "code",
   "execution_count": 5,
   "metadata": {},
   "outputs": [
    {
     "name": "stdout",
     "output_type": "stream",
     "text": [
      "📦 Primeras filas de artículos:\n"
     ]
    },
    {
     "data": {
      "application/vnd.microsoft.datawrangler.viewer.v0+json": {
       "columns": [
        {
         "name": "index",
         "rawType": "int64",
         "type": "integer"
        },
        {
         "name": "codigo",
         "rawType": "object",
         "type": "string"
        },
        {
         "name": "barras",
         "rawType": "object",
         "type": "unknown"
        },
        {
         "name": "nombre",
         "rawType": "object",
         "type": "string"
        },
        {
         "name": "unidad",
         "rawType": "object",
         "type": "string"
        },
        {
         "name": "iva",
         "rawType": "int64",
         "type": "integer"
        },
        {
         "name": "activo",
         "rawType": "object",
         "type": "string"
        },
        {
         "name": "referencia",
         "rawType": "object",
         "type": "unknown"
        },
        {
         "name": "kit",
         "rawType": "bool",
         "type": "boolean"
        },
        {
         "name": "volumen",
         "rawType": "int64",
         "type": "integer"
        },
        {
         "name": "peso",
         "rawType": "float64",
         "type": "float"
        },
        {
         "name": "codbscula",
         "rawType": "object",
         "type": "unknown"
        },
        {
         "name": "reginvima",
         "rawType": "object",
         "type": "unknown"
        },
        {
         "name": "xunidad",
         "rawType": "bool",
         "type": "boolean"
        }
       ],
       "ref": "6ed5f49e-9c0b-4360-b1a6-3e3f6550ce4e",
       "rows": [
        [
         "0",
         "          130220",
         "   8851081200245",
         "SALSA CHILE BEST CHOICE X 880 GRS",
         "UNIDAD",
         "19",
         "S",
         null,
         "False",
         "20",
         "0.0",
         null,
         null,
         "True"
        ],
        [
         "1",
         "          150704",
         null,
         "ALM. CROISSANT JAMON Y QUESO",
         "UNIDAD",
         "8",
         "S",
         null,
         "False",
         "20",
         "0.0",
         null,
         null,
         "True"
        ],
        [
         "2",
         "          150703",
         "   7708687881488",
         "CB. CREMA CHOCO AVELLANA-ALMENDRA S/A 72",
         "UNIDAD",
         "19",
         "N",
         null,
         "False",
         "20",
         "0.0",
         null,
         null,
         "True"
        ],
        [
         "3",
         "          150701",
         "   8410226017645",
         "ACEITUNA NEGRA SIN HUESOxUn",
         "UNIDAD",
         "19",
         "N",
         null,
         "False",
         "20",
         "0.0",
         null,
         null,
         "True"
        ],
        [
         "4",
         "          150705",
         "   8410226069064",
         "ACEITUNA PICARDIASxUn",
         "UNIDAD",
         "19",
         "N",
         null,
         "False",
         "20",
         "0.0",
         null,
         null,
         "True"
        ]
       ],
       "shape": {
        "columns": 13,
        "rows": 5
       }
      },
      "text/html": [
       "<div>\n",
       "<style scoped>\n",
       "    .dataframe tbody tr th:only-of-type {\n",
       "        vertical-align: middle;\n",
       "    }\n",
       "\n",
       "    .dataframe tbody tr th {\n",
       "        vertical-align: top;\n",
       "    }\n",
       "\n",
       "    .dataframe thead th {\n",
       "        text-align: right;\n",
       "    }\n",
       "</style>\n",
       "<table border=\"1\" class=\"dataframe\">\n",
       "  <thead>\n",
       "    <tr style=\"text-align: right;\">\n",
       "      <th></th>\n",
       "      <th>codigo</th>\n",
       "      <th>barras</th>\n",
       "      <th>nombre</th>\n",
       "      <th>unidad</th>\n",
       "      <th>iva</th>\n",
       "      <th>activo</th>\n",
       "      <th>referencia</th>\n",
       "      <th>kit</th>\n",
       "      <th>volumen</th>\n",
       "      <th>peso</th>\n",
       "      <th>codbscula</th>\n",
       "      <th>reginvima</th>\n",
       "      <th>xunidad</th>\n",
       "    </tr>\n",
       "  </thead>\n",
       "  <tbody>\n",
       "    <tr>\n",
       "      <th>0</th>\n",
       "      <td>130220</td>\n",
       "      <td>8851081200245</td>\n",
       "      <td>SALSA CHILE BEST CHOICE X 880 GRS</td>\n",
       "      <td>UNIDAD</td>\n",
       "      <td>19</td>\n",
       "      <td>S</td>\n",
       "      <td>NaN</td>\n",
       "      <td>False</td>\n",
       "      <td>20</td>\n",
       "      <td>0.0</td>\n",
       "      <td>NaN</td>\n",
       "      <td>NaN</td>\n",
       "      <td>True</td>\n",
       "    </tr>\n",
       "    <tr>\n",
       "      <th>1</th>\n",
       "      <td>150704</td>\n",
       "      <td>NaN</td>\n",
       "      <td>ALM. CROISSANT JAMON Y QUESO</td>\n",
       "      <td>UNIDAD</td>\n",
       "      <td>8</td>\n",
       "      <td>S</td>\n",
       "      <td>NaN</td>\n",
       "      <td>False</td>\n",
       "      <td>20</td>\n",
       "      <td>0.0</td>\n",
       "      <td>NaN</td>\n",
       "      <td>NaN</td>\n",
       "      <td>True</td>\n",
       "    </tr>\n",
       "    <tr>\n",
       "      <th>2</th>\n",
       "      <td>150703</td>\n",
       "      <td>7708687881488</td>\n",
       "      <td>CB. CREMA CHOCO AVELLANA-ALMENDRA S/A 72</td>\n",
       "      <td>UNIDAD</td>\n",
       "      <td>19</td>\n",
       "      <td>N</td>\n",
       "      <td>NaN</td>\n",
       "      <td>False</td>\n",
       "      <td>20</td>\n",
       "      <td>0.0</td>\n",
       "      <td>NaN</td>\n",
       "      <td>NaN</td>\n",
       "      <td>True</td>\n",
       "    </tr>\n",
       "    <tr>\n",
       "      <th>3</th>\n",
       "      <td>150701</td>\n",
       "      <td>8410226017645</td>\n",
       "      <td>ACEITUNA NEGRA SIN HUESOxUn</td>\n",
       "      <td>UNIDAD</td>\n",
       "      <td>19</td>\n",
       "      <td>N</td>\n",
       "      <td>NaN</td>\n",
       "      <td>False</td>\n",
       "      <td>20</td>\n",
       "      <td>0.0</td>\n",
       "      <td>NaN</td>\n",
       "      <td>NaN</td>\n",
       "      <td>True</td>\n",
       "    </tr>\n",
       "    <tr>\n",
       "      <th>4</th>\n",
       "      <td>150705</td>\n",
       "      <td>8410226069064</td>\n",
       "      <td>ACEITUNA PICARDIASxUn</td>\n",
       "      <td>UNIDAD</td>\n",
       "      <td>19</td>\n",
       "      <td>N</td>\n",
       "      <td>NaN</td>\n",
       "      <td>False</td>\n",
       "      <td>20</td>\n",
       "      <td>0.0</td>\n",
       "      <td>NaN</td>\n",
       "      <td>NaN</td>\n",
       "      <td>True</td>\n",
       "    </tr>\n",
       "  </tbody>\n",
       "</table>\n",
       "</div>"
      ],
      "text/plain": [
       "             codigo            barras  \\\n",
       "0            130220     8851081200245   \n",
       "1            150704               NaN   \n",
       "2            150703     7708687881488   \n",
       "3            150701     8410226017645   \n",
       "4            150705     8410226069064   \n",
       "\n",
       "                                     nombre  unidad  iva activo referencia  \\\n",
       "0         SALSA CHILE BEST CHOICE X 880 GRS  UNIDAD   19      S        NaN   \n",
       "1              ALM. CROISSANT JAMON Y QUESO  UNIDAD    8      S        NaN   \n",
       "2  CB. CREMA CHOCO AVELLANA-ALMENDRA S/A 72  UNIDAD   19      N        NaN   \n",
       "3               ACEITUNA NEGRA SIN HUESOxUn  UNIDAD   19      N        NaN   \n",
       "4                     ACEITUNA PICARDIASxUn  UNIDAD   19      N        NaN   \n",
       "\n",
       "     kit  volumen  peso codbscula reginvima  xunidad  \n",
       "0  False       20   0.0       NaN       NaN     True  \n",
       "1  False       20   0.0       NaN       NaN     True  \n",
       "2  False       20   0.0       NaN       NaN     True  \n",
       "3  False       20   0.0       NaN       NaN     True  \n",
       "4  False       20   0.0       NaN       NaN     True  "
      ]
     },
     "metadata": {},
     "output_type": "display_data"
    },
    {
     "name": "stdout",
     "output_type": "stream",
     "text": [
      "\n",
      "📌 Columnas disponibles en 'articulos':\n",
      "Index(['codigo', 'barras', 'nombre', 'unidad', 'iva', 'activo', 'referencia',\n",
      "       'kit', 'volumen', 'peso', 'codbscula', 'reginvima', 'xunidad'],\n",
      "      dtype='object')\n"
     ]
    }
   ],
   "source": [
    "# Cargar archivo de artículos\n",
    "ruta_articulos = ruta_base / \"articulos.xlsx\"\n",
    "articulos = pd.read_excel(ruta_articulos, engine=\"openpyxl\")\n",
    "\n",
    "# Mostrar primeras filas para exploración\n",
    "print(\"📦 Primeras filas de artículos:\")\n",
    "display(articulos.head())\n",
    "\n",
    "# Ver columnas disponibles\n",
    "print(\"\\n📌 Columnas disponibles en 'articulos':\")\n",
    "print(articulos.columns)\n"
   ]
  },
  {
   "cell_type": "code",
   "execution_count": 4,
   "metadata": {},
   "outputs": [
    {
     "name": "stdout",
     "output_type": "stream",
     "text": [
      "📌 Columnas de ventas_items:\n",
      "Index(['cod_cliente', 'cliente', 'documento', 'defecha',\n",
      "       'cod_articulo_servicio', 'nombre_articulo_servicio', 'cantidad',\n",
      "       'porc_iva', 'vrgravado', 'vrnogravado', 'descuento', 'subtotal',\n",
      "       'costo', 'utilidadps', 'utilidadpc', 'tipodocumento', 'cuenta',\n",
      "       'nomcuenta', 'icolicoresunitario', 'bodega', 'vendedor', 'distrito'],\n",
      "      dtype='object')\n",
      "\n",
      "📌 Columnas de compras_items:\n",
      "Index(['cod_cliente', 'cliente', 'documento', 'defecha',\n",
      "       'cod_articulo_servicio', 'nombre_articulo_servicio', 'cantidad',\n",
      "       'porc_iva', 'vrgravado', 'vrnogravado', 'descuento', 'subtotal',\n",
      "       'tipodocumento', 'tipotercero'],\n",
      "      dtype='object')\n"
     ]
    }
   ],
   "source": [
    "#Identificacion de los nombres de las columnas disponibles \n",
    "print(\"📌 Columnas de ventas_items:\")\n",
    "print(ventas_items.columns)\n",
    "\n",
    "print(\"\\n📌 Columnas de compras_items:\")\n",
    "print(compras_items.columns)\n",
    "\n"
   ]
  },
  {
   "cell_type": "code",
   "execution_count": 6,
   "metadata": {},
   "outputs": [],
   "source": [
    "#Agregar la columna \"mes\" a las ventas y las compras \n",
    "# Asegúrate de convertir 'defecha' a formato datetime\n",
    "ventas_items['defecha'] = pd.to_datetime(ventas_items['defecha'])\n",
    "compras_items['defecha'] = pd.to_datetime(compras_items['defecha'])\n",
    "\n",
    "# Crear columna 'mes' con formato AAAA-MM\n",
    "ventas_items['mes'] = ventas_items['defecha'].dt.to_period('M').astype(str)\n",
    "compras_items['mes'] = compras_items['defecha'].dt.to_period('M').astype(str)\n"
   ]
  },
  {
   "cell_type": "code",
   "execution_count": 7,
   "metadata": {},
   "outputs": [],
   "source": [
    "#Calcular ventas y compras mensuales\n",
    "# Ventas por SKU y mes\n",
    "ventas_mensuales = ventas_items.groupby(['mes', 'cod_articulo_servicio', 'nombre_articulo_servicio'])['cantidad'].sum().reset_index()\n",
    "ventas_mensuales.rename(columns={'cantidad': 'ventas_mensuales'}, inplace=True)\n",
    "\n",
    "# Compras promedio mensual (proxy de inventario)\n",
    "compras_mensuales = compras_items.groupby(['mes', 'cod_articulo_servicio', 'nombre_articulo_servicio'])['cantidad'].mean().reset_index()\n",
    "compras_mensuales.rename(columns={'cantidad': 'inventario_promedio_mensual'}, inplace=True)\n"
   ]
  },
  {
   "cell_type": "code",
   "execution_count": 8,
   "metadata": {},
   "outputs": [],
   "source": [
    "#Calcular la rotacion mensual \n",
    "rotacion_mensual = ventas_mensuales.merge(\n",
    "    compras_mensuales,\n",
    "    on=['mes', 'cod_articulo_servicio', 'nombre_articulo_servicio'],\n",
    "    how='left'\n",
    ")\n",
    "\n",
    "# Cálculo de rotación\n",
    "rotacion_mensual['rotacion_inventario_mensual'] = rotacion_mensual['ventas_mensuales'] / rotacion_mensual['inventario_promedio_mensual']\n"
   ]
  },
  {
   "cell_type": "code",
   "execution_count": 9,
   "metadata": {},
   "outputs": [],
   "source": [
    "#Enriquecer la informacion en conjunto con la informacion de \"archivos\"\n",
    "rotacion_mensual = rotacion_mensual.merge(\n",
    "    articulos,\n",
    "    left_on='cod_articulo_servicio',\n",
    "    right_on='codigo',\n",
    "    how='left'\n",
    ")\n"
   ]
  },
  {
   "cell_type": "code",
   "execution_count": 10,
   "metadata": {},
   "outputs": [],
   "source": [
    "# Filtrar valores finitos\n",
    "rotacion_mensual_filtrada = rotacion_mensual[np.isfinite(rotacion_mensual['rotacion_inventario_mensual'])]\n",
    "rotacion_mensual_filtrada = rotacion_mensual_filtrada[rotacion_mensual_filtrada['rotacion_inventario_mensual'] >= 0]"
   ]
  },
  {
   "cell_type": "code",
   "execution_count": 11,
   "metadata": {},
   "outputs": [],
   "source": [
    "#Identificacion de los percentiles\n",
    "# Calcular percentiles\n",
    "umbral_bajo = rotacion_mensual_filtrada['rotacion_inventario_mensual'].quantile(0.33)\n",
    "umbral_medio = rotacion_mensual_filtrada['rotacion_inventario_mensual'].quantile(0.66)\n"
   ]
  },
  {
   "cell_type": "code",
   "execution_count": 13,
   "metadata": {},
   "outputs": [
    {
     "data": {
      "image/png": "[encoded data removed]",
      "text/plain": [
       "<Figure size 1000x600 with 1 Axes>"
      ]
     },
     "metadata": {},
     "output_type": "display_data"
    }
   ],
   "source": [
    "#Ver la distribucion de los datos\n",
    "import matplotlib.pyplot as plt\n",
    "\n",
    "# Histograma de la variable de rotación\n",
    "plt.figure(figsize=(10, 6))\n",
    "plt.hist(rotacion_mensual_filtrada['rotacion_inventario_mensual'], bins=50, color='skyblue', edgecolor='black')\n",
    "plt.title(\"Distribución de la Rotación de Inventario Mensual (Activos 2024–2025)\")\n",
    "plt.xlabel(\"Rotación mensual\")\n",
    "plt.ylabel(\"Cantidad de productos\")\n",
    "plt.grid(True)\n",
    "plt.show()\n"
   ]
  },
  {
   "cell_type": "code",
   "execution_count": 19,
   "metadata": {},
   "outputs": [
    {
     "data": {
      "application/vnd.microsoft.datawrangler.viewer.v0+json": {
       "columns": [
        {
         "name": "index",
         "rawType": "object",
         "type": "string"
        },
        {
         "name": "rotacion_inventario_mensual",
         "rawType": "float64",
         "type": "float"
        }
       ],
       "ref": "32e75213-fc7b-4e0a-87db-5fd3b55488ab",
       "rows": [
        [
         "count",
         "3940.0"
        ],
        [
         "mean",
         "1.49"
        ],
        [
         "std",
         "1.66"
        ],
        [
         "min",
         "0.0"
        ],
        [
         "25%",
         "0.5"
        ],
        [
         "50%",
         "1.0"
        ],
        [
         "75%",
         "2.0"
        ],
        [
         "max",
         "18.67"
        ]
       ],
       "shape": {
        "columns": 1,
        "rows": 8
       }
      },
      "text/plain": [
       "count    3940.00\n",
       "mean        1.49\n",
       "std         1.66\n",
       "min         0.00\n",
       "25%         0.50\n",
       "50%         1.00\n",
       "75%         2.00\n",
       "max        18.67\n",
       "Name: rotacion_inventario_mensual, dtype: float64"
      ]
     },
     "execution_count": 19,
     "metadata": {},
     "output_type": "execute_result"
    }
   ],
   "source": [
    "# Ver resumen estadístico de la rotación mensual (2024–2025 activos)\n",
    "rotacion_mensual_filtrada['rotacion_inventario_mensual'].describe().round(2)\n"
   ]
  },
  {
   "cell_type": "code",
   "execution_count": 21,
   "metadata": {},
   "outputs": [
    {
     "name": "stdout",
     "output_type": "stream",
     "text": [
      "📉 Umbral para categoría Baja: 0 ≤ rotación ≤ 0.67\n",
      "🔁 Umbral para categoría Media: 0.67 < rotación ≤ 1.36\n",
      "🚀 Umbral para categoría Alta: rotación > 1.36\n"
     ]
    }
   ],
   "source": [
    "print(f\"📉 Umbral para categoría Baja: 0 ≤ rotación ≤ {umbral_bajo:.2f}\")\n",
    "print(f\"🔁 Umbral para categoría Media: {umbral_bajo:.2f} < rotación ≤ {umbral_medio:.2f}\")\n",
    "print(f\"🚀 Umbral para categoría Alta: rotación > {umbral_medio:.2f}\")\n",
    "\n"
   ]
  },
  {
   "cell_type": "code",
   "execution_count": 12,
   "metadata": {},
   "outputs": [],
   "source": [
    "# Clasificar\n",
    "def clasificar_rotacion(valor):\n",
    "    if valor <= umbral_bajo:\n",
    "        return 'Baja'\n",
    "    elif valor <= umbral_medio:\n",
    "        return 'Media'\n",
    "    else:\n",
    "        return 'Alta'\n",
    "\n",
    "rotacion_mensual_filtrada['categoria_rotacion_mensual'] = rotacion_mensual_filtrada['rotacion_inventario_mensual'].apply(clasificar_rotacion)\n"
   ]
  },
  {
   "cell_type": "code",
   "execution_count": 14,
   "metadata": {},
   "outputs": [],
   "source": [
    "rotacion_mensual_filtrada['Validar Rotación Mensual'] = ''\n",
    "rotacion_mensual_filtrada['Requiere Revisión'] = ''\n",
    "rotacion_mensual_filtrada['Observaciones'] = ''\n",
    "rotacion_mensual_filtrada['Acciones Sugeridas'] = ''\n",
    "rotacion_mensual_filtrada['Notas de Apoyo'] = ''\n"
   ]
  },
  {
   "cell_type": "code",
   "execution_count": 15,
   "metadata": {},
   "outputs": [],
   "source": [
    "#Orden de las columnas asociadas \n",
    "columnas_orden = [\n",
    "    'cod_articulo_servicio', 'nombre_articulo_servicio', 'rotacion_inventario_mensual',\n",
    "    'categoria_rotacion_mensual', 'unidad', 'iva', 'activo',\n",
    "    'Validar Rotación Mensual', 'Requiere Revisión',\n",
    "    'Observaciones', 'Acciones Sugeridas', 'Notas de Apoyo'\n",
    "]\n",
    "rotacion_final = rotacion_mensual_filtrada[columnas_orden]\n"
   ]
  },
  {
   "cell_type": "code",
   "execution_count": 16,
   "metadata": {},
   "outputs": [],
   "source": [
    "\n",
    "#Exportacion de los archivos a excel\n",
    "output_path = \"../outputs/reports/rotacion_mensual_validacion_2024_2025.xlsx\"\n",
    "rotacion_final.to_excel(output_path, index=False)\n"
   ]
  }
 ],
 "metadata": {
  "kernelspec": {
   "display_name": "3.10.14",
   "language": "python",
   "name": "python3"
  },
  "language_info": {
   "codemirror_mode": {
    "name": "ipython",
    "version": 3
   },
   "file_extension": ".py",
   "mimetype": "text/x-python",
   "name": "python",
   "nbconvert_exporter": "python",
   "pygments_lexer": "ipython3",
   "version": "3.10.14"
  }
 },
 "nbformat": 4,
 "nbformat_minor": 2
}
