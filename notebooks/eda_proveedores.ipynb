{
 "cells": [
  {
   "cell_type": "markdown",
   "metadata": {},
   "source": [
    "Este gráfico presenta la evolución del valor total de compras realizadas mes a mes desde el año 2019 hasta 2025. El objetivo de este análisis es identificar patrones temporales, estacionalidades o comportamientos anómalos que ayuden a tomar decisiones más informadas.\n",
    "\n",
    "🔍 Observaciones clave:\n",
    "\n",
    "Se observa una alta volatilidad mensual, con picos de compra pronunciados en ciertos meses específicos, lo cual podría estar asociado a promociones, campañas estacionales o acumulación de pedidos.\n",
    "A partir de 2022 y 2023 se registran los valores más altos de compra mensual, lo que sugiere un posible crecimiento o concentración de la demanda en esos años."
   ]
  },
  {
   "cell_type": "code",
   "execution_count": 2,
   "metadata": {},
   "outputs": [
    {
     "data": {
      "application/vnd.microsoft.datawrangler.viewer.v0+json": {
       "columns": [
        {
         "name": "index",
         "rawType": "int64",
         "type": "integer"
        },
        {
         "name": "codigo",
         "rawType": "object",
         "type": "string"
        },
        {
         "name": "razonsocial",
         "rawType": "object",
         "type": "string"
        },
        {
         "name": "direccion",
         "rawType": "object",
         "type": "string"
        },
        {
         "name": "nombre ciudad",
         "rawType": "object",
         "type": "string"
        },
        {
         "name": "codciudad",
         "rawType": "int64",
         "type": "integer"
        },
        {
         "name": "plazo",
         "rawType": "int64",
         "type": "integer"
        },
        {
         "name": "telefonos",
         "rawType": "object",
         "type": "string"
        },
        {
         "name": "contacto",
         "rawType": "object",
         "type": "unknown"
        },
        {
         "name": "telefonos.1",
         "rawType": "object",
         "type": "unknown"
        },
        {
         "name": "telefonos.2",
         "rawType": "object",
         "type": "unknown"
        },
        {
         "name": "email",
         "rawType": "object",
         "type": "unknown"
        },
        {
         "name": "nit",
         "rawType": "object",
         "type": "string"
        },
        {
         "name": "dv",
         "rawType": "int64",
         "type": "integer"
        },
        {
         "name": "pais",
         "rawType": "object",
         "type": "string"
        }
       ],
       "ref": "8bf001f6-be21-4c40-bc69-655d9e286e20",
       "rows": [
        [
         "0",
         "        PR 10338",
         "A&M INTERNACIONAL DE COMERCIO SAS",
         "CL 70A # 12-25",
         "BOGOTA D. C.",
         "11001",
         "0",
         "6157778/3102391183",
         null,
         "3102391183",
         "6157778",
         "AYMINT@YAHOO.ES",
         "830133260",
         "0",
         "CO - COLOMBIA"
        ],
        [
         "1",
         "        PR 30014",
         "ACERO AVENDANO LUZ STELLA",
         "CLL 70D BIS 107A-85 P-3",
         "BOGOTA D. C.",
         "11001",
         "15",
         "549 1442-        -        -        -",
         null,
         null,
         null,
         null,
         "51952915",
         "4",
         "CO - COLOMBIA"
        ],
        [
         "2",
         "        PR 10001",
         "ACERO AVENDAÑO LUZ STELLA/FIBRAS",
         "CALLE 70 D BIS  107 A 85",
         "BOGOTA D. C.",
         "11001",
         "0",
         "549 1442-        -        -        -",
         null,
         null,
         null,
         null,
         "51952915",
         "0",
         "CO - COLOMBIA"
        ],
        [
         "3",
         "PR  100000000040",
         "ACERO LUGO JOSE HUGO",
         "CL 26 SUR 93 D 68 IN 4 CA 106",
         "BOGOTA D. C.",
         "11001",
         "0",
         "3597399   3202326789",
         null,
         null,
         null,
         null,
         "79435630",
         "5",
         "CO - COLOMBIA"
        ],
        [
         "4",
         "        PR 10355",
         "ACEVEDO AGUDELO CARLOS ARTURO",
         "AV 6 NORTE 23D-66",
         "CALI",
         "76001",
         "0",
         "6608973-6608969",
         null,
         null,
         null,
         null,
         "70548572",
         "9",
         "CO - COLOMBIA"
        ]
       ],
       "shape": {
        "columns": 14,
        "rows": 5
       }
      },
      "text/html": [
       "<div>\n",
       "<style scoped>\n",
       "    .dataframe tbody tr th:only-of-type {\n",
       "        vertical-align: middle;\n",
       "    }\n",
       "\n",
       "    .dataframe tbody tr th {\n",
       "        vertical-align: top;\n",
       "    }\n",
       "\n",
       "    .dataframe thead th {\n",
       "        text-align: right;\n",
       "    }\n",
       "</style>\n",
       "<table border=\"1\" class=\"dataframe\">\n",
       "  <thead>\n",
       "    <tr style=\"text-align: right;\">\n",
       "      <th></th>\n",
       "      <th>codigo</th>\n",
       "      <th>razonsocial</th>\n",
       "      <th>direccion</th>\n",
       "      <th>nombre ciudad</th>\n",
       "      <th>codciudad</th>\n",
       "      <th>plazo</th>\n",
       "      <th>telefonos</th>\n",
       "      <th>contacto</th>\n",
       "      <th>telefonos.1</th>\n",
       "      <th>telefonos.2</th>\n",
       "      <th>email</th>\n",
       "      <th>nit</th>\n",
       "      <th>dv</th>\n",
       "      <th>pais</th>\n",
       "    </tr>\n",
       "  </thead>\n",
       "  <tbody>\n",
       "    <tr>\n",
       "      <th>0</th>\n",
       "      <td>PR 10338</td>\n",
       "      <td>A&amp;M INTERNACIONAL DE COMERCIO SAS</td>\n",
       "      <td>CL 70A # 12-25</td>\n",
       "      <td>BOGOTA D. C.</td>\n",
       "      <td>11001</td>\n",
       "      <td>0</td>\n",
       "      <td>6157778/3102391183</td>\n",
       "      <td>NaN</td>\n",
       "      <td>3102391183</td>\n",
       "      <td>6157778</td>\n",
       "      <td>AYMINT@YAHOO.ES</td>\n",
       "      <td>830133260</td>\n",
       "      <td>0</td>\n",
       "      <td>CO - COLOMBIA</td>\n",
       "    </tr>\n",
       "    <tr>\n",
       "      <th>1</th>\n",
       "      <td>PR 30014</td>\n",
       "      <td>ACERO AVENDANO LUZ STELLA</td>\n",
       "      <td>CLL 70D BIS 107A-85 P-3</td>\n",
       "      <td>BOGOTA D. C.</td>\n",
       "      <td>11001</td>\n",
       "      <td>15</td>\n",
       "      <td>549 1442-        -        -        -</td>\n",
       "      <td>NaN</td>\n",
       "      <td>NaN</td>\n",
       "      <td>NaN</td>\n",
       "      <td>NaN</td>\n",
       "      <td>51952915</td>\n",
       "      <td>4</td>\n",
       "      <td>CO - COLOMBIA</td>\n",
       "    </tr>\n",
       "    <tr>\n",
       "      <th>2</th>\n",
       "      <td>PR 10001</td>\n",
       "      <td>ACERO AVENDAÑO LUZ STELLA/FIBRAS</td>\n",
       "      <td>CALLE 70 D BIS  107 A 85</td>\n",
       "      <td>BOGOTA D. C.</td>\n",
       "      <td>11001</td>\n",
       "      <td>0</td>\n",
       "      <td>549 1442-        -        -        -</td>\n",
       "      <td>NaN</td>\n",
       "      <td>NaN</td>\n",
       "      <td>NaN</td>\n",
       "      <td>NaN</td>\n",
       "      <td>51952915</td>\n",
       "      <td>0</td>\n",
       "      <td>CO - COLOMBIA</td>\n",
       "    </tr>\n",
       "    <tr>\n",
       "      <th>3</th>\n",
       "      <td>PR  100000000040</td>\n",
       "      <td>ACERO LUGO JOSE HUGO</td>\n",
       "      <td>CL 26 SUR 93 D 68 IN 4 CA 106</td>\n",
       "      <td>BOGOTA D. C.</td>\n",
       "      <td>11001</td>\n",
       "      <td>0</td>\n",
       "      <td>3597399   3202326789</td>\n",
       "      <td>NaN</td>\n",
       "      <td>NaN</td>\n",
       "      <td>NaN</td>\n",
       "      <td>NaN</td>\n",
       "      <td>79435630</td>\n",
       "      <td>5</td>\n",
       "      <td>CO - COLOMBIA</td>\n",
       "    </tr>\n",
       "    <tr>\n",
       "      <th>4</th>\n",
       "      <td>PR 10355</td>\n",
       "      <td>ACEVEDO AGUDELO CARLOS ARTURO</td>\n",
       "      <td>AV 6 NORTE 23D-66</td>\n",
       "      <td>CALI</td>\n",
       "      <td>76001</td>\n",
       "      <td>0</td>\n",
       "      <td>6608973-6608969</td>\n",
       "      <td>NaN</td>\n",
       "      <td>NaN</td>\n",
       "      <td>NaN</td>\n",
       "      <td>NaN</td>\n",
       "      <td>70548572</td>\n",
       "      <td>9</td>\n",
       "      <td>CO - COLOMBIA</td>\n",
       "    </tr>\n",
       "  </tbody>\n",
       "</table>\n",
       "</div>"
      ],
      "text/plain": [
       "             codigo                        razonsocial  \\\n",
       "0          PR 10338  A&M INTERNACIONAL DE COMERCIO SAS   \n",
       "1          PR 30014          ACERO AVENDANO LUZ STELLA   \n",
       "2          PR 10001   ACERO AVENDAÑO LUZ STELLA/FIBRAS   \n",
       "3  PR  100000000040               ACERO LUGO JOSE HUGO   \n",
       "4          PR 10355      ACEVEDO AGUDELO CARLOS ARTURO   \n",
       "\n",
       "                       direccion nombre ciudad  codciudad  plazo  \\\n",
       "0                 CL 70A # 12-25  BOGOTA D. C.      11001      0   \n",
       "1        CLL 70D BIS 107A-85 P-3  BOGOTA D. C.      11001     15   \n",
       "2       CALLE 70 D BIS  107 A 85  BOGOTA D. C.      11001      0   \n",
       "3  CL 26 SUR 93 D 68 IN 4 CA 106  BOGOTA D. C.      11001      0   \n",
       "4              AV 6 NORTE 23D-66          CALI      76001      0   \n",
       "\n",
       "                              telefonos contacto telefonos.1 telefonos.2  \\\n",
       "0                    6157778/3102391183      NaN  3102391183     6157778   \n",
       "1  549 1442-        -        -        -      NaN         NaN         NaN   \n",
       "2  549 1442-        -        -        -      NaN         NaN         NaN   \n",
       "3                  3597399   3202326789      NaN         NaN         NaN   \n",
       "4                       6608973-6608969      NaN         NaN         NaN   \n",
       "\n",
       "             email        nit  dv           pais  \n",
       "0  AYMINT@YAHOO.ES  830133260   0  CO - COLOMBIA  \n",
       "1              NaN   51952915   4  CO - COLOMBIA  \n",
       "2              NaN   51952915   0  CO - COLOMBIA  \n",
       "3              NaN   79435630   5  CO - COLOMBIA  \n",
       "4              NaN   70548572   9  CO - COLOMBIA  "
      ]
     },
     "execution_count": 2,
     "metadata": {},
     "output_type": "execute_result"
    }
   ],
   "source": [
    "#Carga de datos de proveedores para analisis asociado en Premium Choice\n",
    "import pandas as pd\n",
    "from pathlib import Path\n",
    "\n",
    "# Ruta del archivo\n",
    "ruta_proveedores = Path(\"../data/raw/proveedores.xlsx\")\n",
    "\n",
    "# Cargar archivo\n",
    "df_proveedores = pd.read_excel(ruta_proveedores, engine=\"openpyxl\")\n",
    "\n",
    "# Verificar carga\n",
    "df_proveedores.head()\n"
   ]
  },
  {
   "cell_type": "code",
   "execution_count": 3,
   "metadata": {},
   "outputs": [
    {
     "name": "stdout",
     "output_type": "stream",
     "text": [
      "<class 'pandas.core.frame.DataFrame'>\n",
      "RangeIndex: 731 entries, 0 to 730\n",
      "Data columns (total 14 columns):\n",
      " #   Column         Non-Null Count  Dtype \n",
      "---  ------         --------------  ----- \n",
      " 0   codigo         731 non-null    object\n",
      " 1   razonsocial    731 non-null    object\n",
      " 2   direccion      603 non-null    object\n",
      " 3   nombre ciudad  729 non-null    object\n",
      " 4   codciudad      731 non-null    int64 \n",
      " 5   plazo          731 non-null    int64 \n",
      " 6   telefonos      611 non-null    object\n",
      " 7   contacto       59 non-null     object\n",
      " 8   telefonos.1    71 non-null     object\n",
      " 9   telefonos.2    17 non-null     object\n",
      " 10  email          243 non-null    object\n",
      " 11  nit            729 non-null    object\n",
      " 12  dv             731 non-null    int64 \n",
      " 13  pais           728 non-null    object\n",
      "dtypes: int64(3), object(11)\n",
      "memory usage: 80.1+ KB\n"
     ]
    },
    {
     "data": {
      "text/plain": [
       "1"
      ]
     },
     "execution_count": 3,
     "metadata": {},
     "output_type": "execute_result"
    }
   ],
   "source": [
    "#Exploracion inicial de los proveedores asociados a Premium Choice \n",
    "# Información general\n",
    "df_proveedores.info()\n",
    "\n",
    "# Ver los nombres de columnas\n",
    "df_proveedores.columns.tolist()\n",
    "\n",
    "# Estadísticas descriptivas (si hay columnas numéricas)\n",
    "df_proveedores.describe(include=\"all\")\n",
    "\n",
    "# Revisar valores nulos\n",
    "df_proveedores.isnull().sum()\n",
    "\n",
    "# Verificar duplicados\n",
    "df_proveedores.duplicated().sum()\n"
   ]
  },
  {
   "cell_type": "markdown",
   "metadata": {},
   "source": [
    "Esta visualización permite identificar las columnas con mayor presencia de datos faltantes, lo cual es esencial para la limpieza, depuración y posterior confiabilidad del análisis.\n",
    "\n",
    "📊 Gráfico generado: Cantidad de valores nulos por columna\n",
    "\n",
    "El gráfico de barras presenta el total de valores nulos por cada campo del archivo de proveedores, ordenado de mayor a menor.\n",
    "Las columnas con mayor ausencia de datos son:\n",
    "telefonos.2 (más de 700 registros incompletos)\n",
    "contacto y telefonos.1 (más de 650 nulos cada una)\n",
    "email y direccion también presentan vacíos considerables.\n",
    "🧠 Implicaciones clave:\n",
    "\n",
    "Estas columnas pueden requerir:\n",
    "Imputación de datos si se consideran relevantes para el análisis o para la operación.\n",
    "Eliminación o sustitución si no aportan valor o son irreparables."
   ]
  },
  {
   "cell_type": "code",
   "execution_count": 15,
   "metadata": {},
   "outputs": [
    {
     "data": {
      "image/png": "[encoded data removed]",
      "text/plain": [
       "<Figure size 640x480 with 1 Axes>"
      ]
     },
     "metadata": {},
     "output_type": "display_data"
    }
   ],
   "source": [
    "#Visualizacion de datos con el mayor numero de valores faltantes \n",
    "df_proveedores.isnull().sum().sort_values(ascending=False).plot(kind='bar', title='Valores nulos por columna')\n",
    "plt.ylabel('Cantidad de valores nulos')\n",
    "plt.show()\n"
   ]
  },
  {
   "cell_type": "code",
   "execution_count": 16,
   "metadata": {},
   "outputs": [
    {
     "data": {
      "text/plain": [
       "69"
      ]
     },
     "execution_count": 16,
     "metadata": {},
     "output_type": "execute_result"
    }
   ],
   "source": [
    "#Verificacion de la autenticidad de los proveedores a partir de los NIT duplicados \n",
    "df_proveedores['nit'].duplicated().sum()\n"
   ]
  },
  {
   "cell_type": "code",
   "execution_count": 17,
   "metadata": {},
   "outputs": [
    {
     "data": {
      "image/png": "[encoded data removed]",
      "text/plain": [
       "<Figure size 640x480 with 1 Axes>"
      ]
     },
     "metadata": {},
     "output_type": "display_data"
    }
   ],
   "source": [
    "#Identificacion del comportamiento financiero de los proveedores\n",
    "df_proveedores['plazo'].value_counts().sort_index().plot(kind='bar', title='Distribución de plazos ofrecidos')\n",
    "plt.xlabel('Días de plazo')\n",
    "plt.ylabel('Cantidad de proveedores')\n",
    "plt.show()\n"
   ]
  },
  {
   "cell_type": "code",
   "execution_count": 18,
   "metadata": {},
   "outputs": [
    {
     "data": {
      "image/png": "[encoded data removed]",
      "text/plain": [
       "<Figure size 640x480 with 1 Axes>"
      ]
     },
     "metadata": {},
     "output_type": "display_data"
    }
   ],
   "source": [
    "#Frecuencia de email nulos vs no nulos \n",
    "df_proveedores['email'].isnull().value_counts().plot(kind='pie', autopct='%1.1f%%', labels=['Tiene email', 'Sin email'], title='Disponibilidad de correo electrónico')\n",
    "plt.ylabel('')\n",
    "plt.show()\n"
   ]
  },
  {
   "cell_type": "code",
   "execution_count": 19,
   "metadata": {},
   "outputs": [
    {
     "data": {
      "application/vnd.microsoft.datawrangler.viewer.v0+json": {
       "columns": [
        {
         "name": "contacto",
         "rawType": "object",
         "type": "string"
        },
        {
         "name": "count",
         "rawType": "int64",
         "type": "integer"
        }
       ],
       "ref": "28b456bd-2f44-499e-bfec-71536ec0a265",
       "rows": [
        [
         "ROBERTO MORENO",
         "2"
        ],
        [
         "JOHANA CARDENAS",
         "1"
        ],
        [
         "RAUL RAMOS GERENTE OPERATIVO",
         "1"
        ],
        [
         "JUAN CAMILO JARAMILLO MEJIA",
         "1"
        ],
        [
         "ALEJANDRA MOLANO (ANALISTA CONTABLE)ANA CRISTINA TERAN(TESORERA)",
         "1"
        ],
        [
         "ERICK BEHAR VILLEGAS",
         "1"
        ],
        [
         "CAROL HERNANDEZ",
         "1"
        ],
        [
         "ANGIE GUTIEREZ ROJAS(AUX.CARTERA)",
         "1"
        ],
        [
         "PETER HUHN",
         "1"
        ],
        [
         "ESTEFANIA BERNAL",
         "1"
        ]
       ],
       "shape": {
        "columns": 1,
        "rows": 10
       }
      },
      "text/plain": [
       "contacto\n",
       "ROBERTO MORENO                                                      2\n",
       "JOHANA CARDENAS                                                     1\n",
       "RAUL RAMOS GERENTE OPERATIVO                                        1\n",
       "JUAN CAMILO JARAMILLO MEJIA                                         1\n",
       "ALEJANDRA MOLANO (ANALISTA CONTABLE)ANA CRISTINA TERAN(TESORERA)    1\n",
       "ERICK BEHAR VILLEGAS                                                1\n",
       "CAROL HERNANDEZ                                                     1\n",
       "ANGIE GUTIEREZ ROJAS(AUX.CARTERA)                                   1\n",
       "PETER HUHN                                                          1\n",
       "ESTEFANIA BERNAL                                                    1\n",
       "Name: count, dtype: int64"
      ]
     },
     "execution_count": 19,
     "metadata": {},
     "output_type": "execute_result"
    }
   ],
   "source": [
    "#Top 10 de los contactos repetidos \n",
    "df_proveedores['contacto'].value_counts().head(10)\n"
   ]
  },
  {
   "cell_type": "code",
   "execution_count": 21,
   "metadata": {},
   "outputs": [],
   "source": [
    "#Normalizacion de los nombres de ciudad y de pais \n",
    "df_proveedores['nombre ciudad'] = df_proveedores['nombre ciudad'].str.strip().str.upper()\n",
    "df_proveedores['pais'] = df_proveedores['pais'].str.strip().str.upper()\n",
    "\n"
   ]
  },
  {
   "cell_type": "code",
   "execution_count": 7,
   "metadata": {},
   "outputs": [
    {
     "data": {
      "application/vnd.microsoft.datawrangler.viewer.v0+json": {
       "columns": [
        {
         "name": "pais",
         "rawType": "object",
         "type": "string"
        },
        {
         "name": "count",
         "rawType": "int64",
         "type": "integer"
        }
       ],
       "ref": "5e5f8364-af14-408c-9589-ba17ed59f2c4",
       "rows": [
        [
         "CO - COLOMBIA",
         "721"
        ],
        [
         "IT - ITALIA",
         "5"
        ],
        [
         "PT - PORTUGAL",
         "1"
        ],
        [
         "DK - DINAMARCA",
         "1"
        ]
       ],
       "shape": {
        "columns": 1,
        "rows": 4
       }
      },
      "text/plain": [
       "pais\n",
       "CO - COLOMBIA     721\n",
       "IT - ITALIA         5\n",
       "PT - PORTUGAL       1\n",
       "DK - DINAMARCA      1\n",
       "Name: count, dtype: int64"
      ]
     },
     "execution_count": 7,
     "metadata": {},
     "output_type": "execute_result"
    }
   ],
   "source": [
    "#Distribucion de los proveedores por pais \n",
    "df_proveedores['pais'] = df_proveedores['pais'].str.strip()  # por si hay espacios\n",
    "df_proveedores['pais'].value_counts().head(10)\n",
    "\n",
    "\n"
   ]
  },
  {
   "cell_type": "code",
   "execution_count": 8,
   "metadata": {},
   "outputs": [
    {
     "data": {
      "image/png": "[encoded data removed]",
      "text/plain": [
       "<Figure size 640x480 with 1 Axes>"
      ]
     },
     "metadata": {},
     "output_type": "display_data"
    }
   ],
   "source": [
    "#Top de los paises que representa el mayor numero de proveedores\n",
    "import matplotlib.pyplot as plt\n",
    "\n",
    "df_proveedores['pais'].value_counts().head(10).plot(kind='barh', title='Top países con más proveedores')\n",
    "plt.xlabel('Cantidad de proveedores')\n",
    "plt.gca().invert_yaxis()\n",
    "plt.show()\n"
   ]
  },
  {
   "cell_type": "code",
   "execution_count": 9,
   "metadata": {},
   "outputs": [
    {
     "data": {
      "application/vnd.microsoft.datawrangler.viewer.v0+json": {
       "columns": [
        {
         "name": "index",
         "rawType": "object",
         "type": "string"
        },
        {
         "name": "0",
         "rawType": "int64",
         "type": "integer"
        }
       ],
       "ref": "69dc2f26-45ee-4d12-9ef1-064c446aa821",
       "rows": [
        [
         "telefonos.2",
         "714"
        ],
        [
         "contacto",
         "672"
        ],
        [
         "telefonos.1",
         "660"
        ],
        [
         "email",
         "488"
        ],
        [
         "direccion",
         "128"
        ],
        [
         "telefonos",
         "120"
        ],
        [
         "pais",
         "3"
        ],
        [
         "nombre ciudad",
         "2"
        ],
        [
         "nit",
         "2"
        ],
        [
         "codigo",
         "0"
        ],
        [
         "razonsocial",
         "0"
        ],
        [
         "codciudad",
         "0"
        ],
        [
         "plazo",
         "0"
        ],
        [
         "dv",
         "0"
        ]
       ],
       "shape": {
        "columns": 1,
        "rows": 14
       }
      },
      "text/plain": [
       "telefonos.2      714\n",
       "contacto         672\n",
       "telefonos.1      660\n",
       "email            488\n",
       "direccion        128\n",
       "telefonos        120\n",
       "pais               3\n",
       "nombre ciudad      2\n",
       "nit                2\n",
       "codigo             0\n",
       "razonsocial        0\n",
       "codciudad          0\n",
       "plazo              0\n",
       "dv                 0\n",
       "dtype: int64"
      ]
     },
     "execution_count": 9,
     "metadata": {},
     "output_type": "execute_result"
    }
   ],
   "source": [
    "#Verificacion de los valores nulos asociados en el dataframe\n",
    "df_proveedores.isnull().sum().sort_values(ascending=False)\n"
   ]
  },
  {
   "cell_type": "code",
   "execution_count": 10,
   "metadata": {},
   "outputs": [
    {
     "data": {
      "image/png": "[encoded data removed]",
      "text/plain": [
       "<Figure size 640x480 with 1 Axes>"
      ]
     },
     "metadata": {},
     "output_type": "display_data"
    }
   ],
   "source": [
    "#Top de las ciudades que representan mas proveedores\n",
    "df_proveedores['nombre ciudad'] = df_proveedores['nombre ciudad'].str.strip()\n",
    "df_proveedores['nombre ciudad'].value_counts().head(10).plot(kind='barh', title='Top ciudades con más proveedores')\n",
    "plt.xlabel('Cantidad de proveedores')\n",
    "plt.gca().invert_yaxis()\n",
    "plt.show()\n"
   ]
  },
  {
   "cell_type": "code",
   "execution_count": 11,
   "metadata": {},
   "outputs": [
    {
     "data": {
      "image/png": "[encoded data removed]",
      "text/plain": [
       "<Figure size 640x480 with 1 Axes>"
      ]
     },
     "metadata": {},
     "output_type": "display_data"
    }
   ],
   "source": [
    "#Distribucion de plazos de pago ofrecidos por los proveedores \n",
    "df_proveedores['plazo'].value_counts().sort_index().plot(kind='bar', title='Distribución de plazos ofrecidos')\n",
    "plt.xlabel('Días de plazo')\n",
    "plt.ylabel('Cantidad de proveedores')\n",
    "plt.show()\n"
   ]
  },
  {
   "cell_type": "code",
   "execution_count": 13,
   "metadata": {},
   "outputs": [
    {
     "name": "stdout",
     "output_type": "stream",
     "text": [
      "Proveedores con email: 243\n",
      "Proveedores con contacto asignado: 59\n"
     ]
    }
   ],
   "source": [
    "#Conteo de los proveedores por el tipo de contacto \n",
    "print(f\"Proveedores con email: {(df_proveedores['email'].notnull()).sum()}\")\n",
    "print(f\"Proveedores con contacto asignado: {(df_proveedores['contacto'].notnull()).sum()}\")\n",
    "\n"
   ]
  },
  {
   "cell_type": "code",
   "execution_count": 14,
   "metadata": {},
   "outputs": [
    {
     "data": {
      "text/plain": [
       "(661, 731)"
      ]
     },
     "execution_count": 14,
     "metadata": {},
     "output_type": "execute_result"
    }
   ],
   "source": [
    "#Validacion de proveedores de unidad NIT \n",
    "df_proveedores['nit'].nunique(), df_proveedores.shape[0]\n"
   ]
  }
 ],
 "metadata": {
  "kernelspec": {
   "display_name": "3.10.14",
   "language": "python",
   "name": "python3"
  },
  "language_info": {
   "codemirror_mode": {
    "name": "ipython",
    "version": 3
   },
   "file_extension": ".py",
   "mimetype": "text/x-python",
   "name": "python",
   "nbconvert_exporter": "python",
   "pygments_lexer": "ipython3",
   "version": "3.10.14"
  }
 },
 "nbformat": 4,
 "nbformat_minor": 2
}
