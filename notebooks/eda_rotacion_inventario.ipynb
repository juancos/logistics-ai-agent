{
 "cells": [
  {
   "cell_type": "code",
   "execution_count": 4,
   "metadata": {},
   "outputs": [
    {
     "name": "stdout",
     "output_type": "stream",
     "text": [
      "✅ Ventas: (631714, 22)\n",
      "✅ Compras: (40418, 14)\n"
     ]
    }
   ],
   "source": [
    "# Paso 1: Importar librerías\n",
    "import pandas as pd\n",
    "from pathlib import Path\n",
    "import glob\n",
    "\n",
    "# Paso 2: Definir ruta base\n",
    "ruta_base = Path(\"../data/raw\")\n",
    "\n",
    "# Paso 3: Cargar archivos de compras y ventas por ítem\n",
    "archivos_ventas = sorted(ruta_base.glob(\"ventas_dcto_items_20*.xlsx\"))\n",
    "archivos_compras = sorted(ruta_base.glob(\"compras_dcto_items_20*.xlsx\"))\n",
    "\n",
    "ventas_items = pd.concat([pd.read_excel(f, engine=\"openpyxl\") for f in archivos_ventas], ignore_index=True)\n",
    "compras_items = pd.concat([pd.read_excel(f, engine=\"openpyxl\") for f in archivos_compras], ignore_index=True)\n",
    "\n",
    "# Confirmación\n",
    "print(\"✅ Ventas:\", ventas_items.shape)\n",
    "print(\"✅ Compras:\", compras_items.shape)\n"
   ]
  },
  {
   "cell_type": "code",
   "execution_count": 5,
   "metadata": {},
   "outputs": [],
   "source": [
    "# Filtrar solo archivos de 2024 y 2025\n",
    "archivos_ventas = sorted(ruta_base.glob(\"ventas_dcto_items_2024*.xlsx\")) + \\\n",
    "                  sorted(ruta_base.glob(\"ventas_dcto_items_2025*.xlsx\"))\n",
    "\n",
    "archivos_compras = sorted(ruta_base.glob(\"compras_dcto_items_2024*.xlsx\")) + \\\n",
    "                   sorted(ruta_base.glob(\"compras_dcto_items_2025*.xlsx\"))\n"
   ]
  },
  {
   "cell_type": "code",
   "execution_count": 6,
   "metadata": {},
   "outputs": [
    {
     "name": "stdout",
     "output_type": "stream",
     "text": [
      "🔹 Columnas de ventas_items:\n",
      "Index(['cod_cliente', 'cliente', 'documento', 'defecha',\n",
      "       'cod_articulo_servicio', 'nombre_articulo_servicio', 'cantidad',\n",
      "       'porc_iva', 'vrgravado', 'vrnogravado', 'descuento', 'subtotal',\n",
      "       'costo', 'utilidadps', 'utilidadpc', 'tipodocumento', 'cuenta',\n",
      "       'nomcuenta', 'icolicoresunitario', 'bodega', 'vendedor', 'distrito'],\n",
      "      dtype='object')\n",
      "\n",
      "🔹 Columnas de compras_items:\n",
      "Index(['cod_cliente', 'cliente', 'documento', 'defecha',\n",
      "       'cod_articulo_servicio', 'nombre_articulo_servicio', 'cantidad',\n",
      "       'porc_iva', 'vrgravado', 'vrnogravado', 'descuento', 'subtotal',\n",
      "       'tipodocumento', 'tipotercero'],\n",
      "      dtype='object')\n"
     ]
    }
   ],
   "source": [
    "# Ver las primeras filas de los archivos de ventas y compras para inspeccionar las columnas\n",
    "print(\"🔹 Columnas de ventas_items:\")\n",
    "print(ventas_items.columns)\n",
    "\n",
    "print(\"\\n🔹 Columnas de compras_items:\")\n",
    "print(compras_items.columns)\n",
    "\n"
   ]
  },
  {
   "cell_type": "code",
   "execution_count": 7,
   "metadata": {},
   "outputs": [],
   "source": [
    "#Preparacion de la fecha y las columnas auxiliares\n",
    "# Convertir 'defecha' a datetime\n",
    "ventas_items['defecha'] = pd.to_datetime(ventas_items['defecha'])\n",
    "compras_items['defecha'] = pd.to_datetime(compras_items['defecha'])\n",
    "\n",
    "# Extraer año y mes\n",
    "ventas_items['año'] = ventas_items['defecha'].dt.year\n",
    "ventas_items['mes'] = ventas_items['defecha'].dt.to_period('M')\n",
    "\n",
    "compras_items['año'] = compras_items['defecha'].dt.year\n",
    "compras_items['mes'] = compras_items['defecha'].dt.to_period('M')\n"
   ]
  },
  {
   "cell_type": "code",
   "execution_count": 8,
   "metadata": {},
   "outputs": [],
   "source": [
    "# Filtrar solo años 2024 y 2025\n",
    "ventas_items = ventas_items[ventas_items['año'].isin([2024, 2025])]\n",
    "compras_items = compras_items[compras_items['año'].isin([2024, 2025])]\n",
    "\n",
    "#Eliminar registros de ventas con cantidades negativas o 0 \n",
    "ventas_items = ventas_items[ventas_items['cantidad'] > 0]\n"
   ]
  },
  {
   "cell_type": "code",
   "execution_count": 9,
   "metadata": {},
   "outputs": [],
   "source": [
    "# Ventas por año y SKU\n",
    "ventas_anuales = ventas_items.groupby(['año', 'cod_articulo_servicio', 'nombre_articulo_servicio'])['cantidad'].sum().reset_index()\n",
    "ventas_anuales.rename(columns={'cantidad': 'ventas_anuales'}, inplace=True)\n",
    "\n",
    "# Compras por año y SKU (como proxy de inventario promedio)\n",
    "compras_anuales = compras_items.groupby(['año', 'cod_articulo_servicio', 'nombre_articulo_servicio'])['cantidad'].mean().reset_index()\n",
    "compras_anuales.rename(columns={'cantidad': 'inventario_promedio_anual'}, inplace=True)\n"
   ]
  },
  {
   "cell_type": "code",
   "execution_count": 10,
   "metadata": {},
   "outputs": [],
   "source": [
    "# Unir ventas y compras anuales por SKU\n",
    "rotacion_anual = ventas_anuales.merge(compras_anuales, on=['año', 'cod_articulo_servicio', 'nombre_articulo_servicio'], how='left')\n",
    "\n",
    "# Calcular rotación anual\n",
    "rotacion_anual['rotacion_inventario_anual'] = rotacion_anual['ventas_anuales'] / rotacion_anual['inventario_promedio_anual']\n"
   ]
  },
  {
   "cell_type": "code",
   "execution_count": 16,
   "metadata": {},
   "outputs": [],
   "source": [
    "#Agrupacion por SKU y nombres para el calculo de ventas y de compras \n",
    "# Ventas por año y SKU\n",
    "ventas_anuales = ventas_items.groupby(['año', 'cod_articulo_servicio', 'nombre_articulo_servicio'])['cantidad'].sum().reset_index()\n",
    "ventas_anuales.rename(columns={'cantidad': 'ventas_anuales'}, inplace=True)\n",
    "\n",
    "# Compras por año y SKU (como proxy de inventario promedio)\n",
    "compras_anuales = compras_items.groupby(['año', 'cod_articulo_servicio', 'nombre_articulo_servicio'])['cantidad'].mean().reset_index()\n",
    "compras_anuales.rename(columns={'cantidad': 'inventario_promedio_anual'}, inplace=True)\n"
   ]
  },
  {
   "cell_type": "code",
   "execution_count": 12,
   "metadata": {},
   "outputs": [
    {
     "data": {
      "application/vnd.microsoft.datawrangler.viewer.v0+json": {
       "columns": [
        {
         "name": "index",
         "rawType": "object",
         "type": "string"
        },
        {
         "name": "rotacion_inventario_anual",
         "rawType": "float64",
         "type": "float"
        }
       ],
       "ref": "a200c3f5-f6e6-4546-ad39-c6b39e7fba73",
       "rows": [
        [
         "count",
         "1244.0"
        ],
        [
         "mean",
         "5.453478785305298"
        ],
        [
         "std",
         "9.28599935355535"
        ],
        [
         "min",
         "-0.54"
        ],
        [
         "25%",
         "1.0"
        ],
        [
         "50%",
         "2.717587289369669"
        ],
        [
         "75%",
         "5.896182839912281"
        ],
        [
         "max",
         "111.96937085495311"
        ]
       ],
       "shape": {
        "columns": 1,
        "rows": 8
       }
      },
      "text/plain": [
       "count    1244.000000\n",
       "mean        5.453479\n",
       "std         9.285999\n",
       "min        -0.540000\n",
       "25%         1.000000\n",
       "50%         2.717587\n",
       "75%         5.896183\n",
       "max       111.969371\n",
       "Name: rotacion_inventario_anual, dtype: float64"
      ]
     },
     "execution_count": 12,
     "metadata": {},
     "output_type": "execute_result"
    }
   ],
   "source": [
    "# Estadísticas básicas de la rotación\n",
    "rotacion_anual['rotacion_inventario_anual'].describe()\n"
   ]
  },
  {
   "cell_type": "code",
   "execution_count": 17,
   "metadata": {},
   "outputs": [],
   "source": [
    "# Calcular los percentiles 33 y 66 para rotación anual\n",
    "p33 = rotacion_anual['rotacion_inventario_anual'].quantile(0.33)\n",
    "p66 = rotacion_anual['rotacion_inventario_anual'].quantile(0.66)\n"
   ]
  },
  {
   "cell_type": "code",
   "execution_count": 18,
   "metadata": {},
   "outputs": [
    {
     "data": {
      "image/png": "[encoded data removed]",
      "text/plain": [
       "<Figure size 1000x600 with 1 Axes>"
      ]
     },
     "metadata": {},
     "output_type": "display_data"
    }
   ],
   "source": [
    "import matplotlib.pyplot as plt\n",
    "\n",
    "plt.figure(figsize=(10,6))\n",
    "plt.hist(rotacion_anual['rotacion_inventario_anual'], bins=50, color='skyblue', edgecolor='black')\n",
    "plt.axvline(p33, color='orange', linestyle='--', label='Percentil 33')\n",
    "plt.axvline(p66, color='green', linestyle='--', label='Percentil 66')\n",
    "plt.title(\"Distribución de la Rotación de Inventario Anual\")\n",
    "plt.xlabel(\"Rotación\")\n",
    "plt.ylabel(\"Cantidad de productos\")\n",
    "plt.legend()\n",
    "plt.grid(True)\n",
    "plt.show()\n"
   ]
  },
  {
   "cell_type": "code",
   "execution_count": 19,
   "metadata": {},
   "outputs": [
    {
     "name": "stdout",
     "output_type": "stream",
     "text": [
      "P33: 1.5168968797054394, P66: 4.034368203974503\n"
     ]
    }
   ],
   "source": [
    "#Identificar los valores de los percentiles para tener claridad de los umbrales \n",
    "print(f\"P33: {p33}, P66: {p66}\")\n"
   ]
  },
  {
   "cell_type": "code",
   "execution_count": 20,
   "metadata": {},
   "outputs": [
    {
     "name": "stdout",
     "output_type": "stream",
     "text": [
      "año                             0\n",
      "cod_articulo_servicio           0\n",
      "nombre_articulo_servicio        0\n",
      "ventas_anuales                  0\n",
      "inventario_promedio_anual    1697\n",
      "rotacion_inventario_anual    1697\n",
      "dtype: int64\n"
     ]
    }
   ],
   "source": [
    "#Revisar que no hayan datos NAN y de rotacion\n",
    "print(rotacion_anual.isnull().sum())\n"
   ]
  },
  {
   "cell_type": "code",
   "execution_count": 21,
   "metadata": {},
   "outputs": [],
   "source": [
    "#Identificar los productos que cuentan con valores validos de rotacion antes de exportar\n",
    "rotacion_anual_limpia = rotacion_anual.dropna(subset=['rotacion_inventario_anual'])\n"
   ]
  },
  {
   "cell_type": "code",
   "execution_count": 22,
   "metadata": {},
   "outputs": [],
   "source": [
    "rotacion_anual_limpia.to_excel(\"rotacion_inventario_anual_categorizado.xlsx\", index=False)\n"
   ]
  },
  {
   "cell_type": "code",
   "execution_count": 23,
   "metadata": {},
   "outputs": [],
   "source": [
    "# Calcular percentiles para segmentación\n",
    "p33 = rotacion_anual['rotacion_inventario_anual'].quantile(0.33)\n",
    "p66 = rotacion_anual['rotacion_inventario_anual'].quantile(0.66)\n",
    "\n",
    "# Crear columna de categoría\n",
    "def clasificar_rotacion(valor):\n",
    "    if valor <= p33:\n",
    "        return 'Baja'\n",
    "    elif valor <= p66:\n",
    "        return 'Media'\n",
    "    else:\n",
    "        return 'Alta'\n",
    "\n",
    "rotacion_anual['categoria_rotacion'] = rotacion_anual['rotacion_inventario_anual'].apply(clasificar_rotacion)\n"
   ]
  },
  {
   "cell_type": "code",
   "execution_count": 24,
   "metadata": {},
   "outputs": [],
   "source": [
    "rotacion_anual.to_excel(\"rotacion_inventario_anual_categorizado.xlsx\", index=False)\n"
   ]
  },
  {
   "cell_type": "code",
   "execution_count": 25,
   "metadata": {},
   "outputs": [],
   "source": [
    "ventas_mensuales = ventas_items.groupby(['mes', 'cod_articulo_servicio', 'nombre_articulo_servicio'])['cantidad'].sum().reset_index()\n",
    "ventas_mensuales.rename(columns={'cantidad': 'ventas_mensuales'}, inplace=True)\n"
   ]
  },
  {
   "cell_type": "code",
   "execution_count": 26,
   "metadata": {},
   "outputs": [],
   "source": [
    "compras_mensuales = compras_items.groupby(['mes', 'cod_articulo_servicio', 'nombre_articulo_servicio'])['cantidad'].mean().reset_index()\n",
    "compras_mensuales.rename(columns={'cantidad': 'inventario_promedio_mensual'}, inplace=True)\n"
   ]
  },
  {
   "cell_type": "code",
   "execution_count": 27,
   "metadata": {},
   "outputs": [],
   "source": [
    "rotacion_mensual = ventas_mensuales.merge(\n",
    "    compras_mensuales,\n",
    "    on=['mes', 'cod_articulo_servicio', 'nombre_articulo_servicio'],\n",
    "    how='left'\n",
    ")\n",
    "\n",
    "rotacion_mensual['rotacion_inventario_mensual'] = rotacion_mensual['ventas_mensuales'] / rotacion_mensual['inventario_promedio_mensual']\n"
   ]
  },
  {
   "cell_type": "code",
   "execution_count": 32,
   "metadata": {},
   "outputs": [
    {
     "name": "stderr",
     "output_type": "stream",
     "text": [
      "/Users/juanpardo/.pyenv/versions/3.10.14/lib/python3.10/site-packages/pandas/core/nanops.py:1016: RuntimeWarning: invalid value encountered in subtract\n",
      "  sqr = _ensure_numeric((avg - values) ** 2)\n"
     ]
    },
    {
     "data": {
      "application/vnd.microsoft.datawrangler.viewer.v0+json": {
       "columns": [
        {
         "name": "index",
         "rawType": "object",
         "type": "string"
        },
        {
         "name": "rotacion_inventario_mensual",
         "rawType": "float64",
         "type": "float"
        }
       ],
       "ref": "6e360021-b03e-4203-a363-d4e978de7687",
       "rows": [
        [
         "count",
         "3945.0"
        ],
        [
         "mean",
         "inf"
        ],
        [
         "std",
         null
        ],
        [
         "min",
         "-0.6666666666666666"
        ],
        [
         "25%",
         "0.5"
        ],
        [
         "50%",
         "1.0"
        ],
        [
         "75%",
         "2.0"
        ],
        [
         "max",
         "inf"
        ]
       ],
       "shape": {
        "columns": 1,
        "rows": 8
       }
      },
      "text/plain": [
       "count    3945.000000\n",
       "mean             inf\n",
       "std              NaN\n",
       "min        -0.666667\n",
       "25%         0.500000\n",
       "50%         1.000000\n",
       "75%         2.000000\n",
       "max              inf\n",
       "Name: rotacion_inventario_mensual, dtype: float64"
      ]
     },
     "execution_count": 32,
     "metadata": {},
     "output_type": "execute_result"
    }
   ],
   "source": [
    "rotacion_mensual['rotacion_inventario_mensual'].describe()\n"
   ]
  },
  {
   "cell_type": "code",
   "execution_count": 34,
   "metadata": {},
   "outputs": [],
   "source": [
    "import numpy as np\n",
    "\n",
    "# Filtrar solo valores finitos (descarta inf, -inf, NaN)\n",
    "rotacion_mensual_filtrada = rotacion_mensual[np.isfinite(rotacion_mensual['rotacion_inventario_mensual'])]\n"
   ]
  },
  {
   "cell_type": "code",
   "execution_count": 37,
   "metadata": {},
   "outputs": [],
   "source": [
    "rotacion_mensual_filtrada = rotacion_mensual_filtrada[rotacion_mensual_filtrada['rotacion_inventario_mensual'] >= 0]\n",
    "\n"
   ]
  },
  {
   "cell_type": "code",
   "execution_count": 40,
   "metadata": {},
   "outputs": [
    {
     "data": {
      "application/vnd.microsoft.datawrangler.viewer.v0+json": {
       "columns": [
        {
         "name": "index",
         "rawType": "object",
         "type": "string"
        },
        {
         "name": "rotacion_inventario_mensual",
         "rawType": "float64",
         "type": "float"
        }
       ],
       "ref": "6d2b3ed1-90d4-41df-b8e6-4dd983bf06ad",
       "rows": [
        [
         "count",
         "3942.0"
        ],
        [
         "mean",
         "1.4994634722752753"
        ],
        [
         "std",
         "1.6797945080833123"
        ],
        [
         "min",
         "0.0006313131313131314"
        ],
        [
         "25%",
         "0.5"
        ],
        [
         "50%",
         "1.0"
        ],
        [
         "75%",
         "2.0"
        ],
        [
         "max",
         "18.666666666666668"
        ]
       ],
       "shape": {
        "columns": 1,
        "rows": 8
       }
      },
      "text/plain": [
       "count    3942.000000\n",
       "mean        1.499463\n",
       "std         1.679795\n",
       "min         0.000631\n",
       "25%         0.500000\n",
       "50%         1.000000\n",
       "75%         2.000000\n",
       "max        18.666667\n",
       "Name: rotacion_inventario_mensual, dtype: float64"
      ]
     },
     "execution_count": 40,
     "metadata": {},
     "output_type": "execute_result"
    }
   ],
   "source": [
    "rotacion_mensual_filtrada['rotacion_inventario_mensual'].describe()\n"
   ]
  },
  {
   "cell_type": "code",
   "execution_count": 38,
   "metadata": {},
   "outputs": [
    {
     "data": {
      "image/png": "[encoded data removed]",
      "text/plain": [
       "<Figure size 1000x600 with 1 Axes>"
      ]
     },
     "metadata": {},
     "output_type": "display_data"
    }
   ],
   "source": [
    "plt.figure(figsize=(10,6))\n",
    "plt.hist(rotacion_mensual_filtrada['rotacion_inventario_mensual'], bins=50, color='skyblue', edgecolor='black')\n",
    "plt.title(\"Distribución de la Rotación de Inventario Mensual (Limpia)\")\n",
    "plt.xlabel(\"Rotación mensual\")\n",
    "plt.ylabel(\"Cantidad de productos\")\n",
    "plt.grid(True)\n",
    "plt.show()\n"
   ]
  },
  {
   "cell_type": "code",
   "execution_count": 30,
   "metadata": {},
   "outputs": [],
   "source": [
    "rotacion_mensual_limpia = rotacion_mensual.dropna(subset=['rotacion_inventario_mensual'])\n"
   ]
  },
  {
   "cell_type": "code",
   "execution_count": 43,
   "metadata": {},
   "outputs": [
    {
     "name": "stdout",
     "output_type": "stream",
     "text": [
      "Umbral para categoría Baja: 0 ≤ rotación ≤ 0.67\n",
      "Umbral para categoría Media: 0.67 < rotación ≤ 1.38\n",
      "Umbral para categoría Alta: rotación > 1.38\n"
     ]
    }
   ],
   "source": [
    "# Calcular valores exactos de los percentiles\n",
    "umbral_bajo = rotacion_mensual_filtrada['rotacion_inventario_mensual'].quantile(0.33)\n",
    "umbral_medio = rotacion_mensual_filtrada['rotacion_inventario_mensual'].quantile(0.66)\n",
    "\n",
    "print(f\"Umbral para categoría Baja: 0 ≤ rotación ≤ {umbral_bajo:.2f}\")\n",
    "print(f\"Umbral para categoría Media: {umbral_bajo:.2f} < rotación ≤ {umbral_medio:.2f}\")\n",
    "print(f\"Umbral para categoría Alta: rotación > {umbral_medio:.2f}\")\n"
   ]
  },
  {
   "cell_type": "code",
   "execution_count": 41,
   "metadata": {},
   "outputs": [],
   "source": [
    "#Calculo de percentiles asociados a la distribucion para ver la rotacion mensual del inventario \n",
    "# Calcular percentiles\n",
    "p33 = rotacion_mensual_filtrada['rotacion_inventario_mensual'].quantile(0.33)\n",
    "p66 = rotacion_mensual_filtrada['rotacion_inventario_mensual'].quantile(0.66)\n",
    "\n",
    "# Función para clasificar según rotación mensual\n",
    "def clasificar_rotacion_mensual(valor):\n",
    "    if valor <= p33:\n",
    "        return 'Baja'\n",
    "    elif valor <= p66:\n",
    "        return 'Media'\n",
    "    else:\n",
    "        return 'Alta'\n",
    "\n",
    "# Crear columna de categoría\n",
    "rotacion_mensual_filtrada['categoria_rotacion_mensual'] = rotacion_mensual_filtrada['rotacion_inventario_mensual'].apply(clasificar_rotacion_mensual)\n"
   ]
  },
  {
   "cell_type": "code",
   "execution_count": 42,
   "metadata": {},
   "outputs": [],
   "source": [
    "rotacion_mensual_filtrada.to_excel(\"rotacion_inventario_mensual_categorizado.xlsx\", index=False)\n"
   ]
  },
  {
   "cell_type": "code",
   "execution_count": 31,
   "metadata": {},
   "outputs": [],
   "source": [
    "p33_m = rotacion_mensual_limpia['rotacion_inventario_mensual'].quantile(0.33)\n",
    "p66_m = rotacion_mensual_limpia['rotacion_inventario_mensual'].quantile(0.66)\n"
   ]
  },
  {
   "cell_type": "code",
   "execution_count": 28,
   "metadata": {},
   "outputs": [
    {
     "name": "stderr",
     "output_type": "stream",
     "text": [
      "/var/folders/fl/4p9gdc5d3wj63rppd6xjpnmh0000gn/T/ipykernel_956/1653222009.py:18: SettingWithCopyWarning: \n",
      "A value is trying to be set on a copy of a slice from a DataFrame.\n",
      "Try using .loc[row_indexer,col_indexer] = value instead\n",
      "\n",
      "See the caveats in the documentation: https://pandas.pydata.org/pandas-docs/stable/user_guide/indexing.html#returning-a-view-versus-a-copy\n",
      "  rotacion_mensual_limpia['categoria_rotacion_mensual'] = rotacion_mensual_limpia['rotacion_inventario_mensual'].apply(clasificar_rotacion_mensual)\n"
     ]
    }
   ],
   "source": [
    "# Eliminar filas con valores nulos en rotación mensual\n",
    "rotacion_mensual_limpia = rotacion_mensual.dropna(subset=['rotacion_inventario_mensual'])\n",
    "\n",
    "# Calcular los percentiles para definir los umbrales\n",
    "p33_m = rotacion_mensual_limpia['rotacion_inventario_mensual'].quantile(0.33)\n",
    "p66_m = rotacion_mensual_limpia['rotacion_inventario_mensual'].quantile(0.66)\n",
    "\n",
    "# Función para clasificar la rotación\n",
    "def clasificar_rotacion_mensual(valor):\n",
    "    if valor <= p33_m:\n",
    "        return 'Baja'\n",
    "    elif valor <= p66_m:\n",
    "        return 'Media'\n",
    "    else:\n",
    "        return 'Alta'\n",
    "\n",
    "# Crear nueva columna con la categoría\n",
    "rotacion_mensual_limpia['categoria_rotacion_mensual'] = rotacion_mensual_limpia['rotacion_inventario_mensual'].apply(clasificar_rotacion_mensual)\n",
    "\n",
    "# Exportar a Excel\n",
    "rotacion_mensual_limpia.to_excel(\"rotacion_inventario_mensual_categorizado.xlsx\", index=False)\n"
   ]
  },
  {
   "cell_type": "code",
   "execution_count": 29,
   "metadata": {},
   "outputs": [],
   "source": [
    "# Exportar rotación anual\n",
    "rotacion_anual.to_excel(\"rotacion_inventario_anual.xlsx\", index=False)\n",
    "\n",
    "# Exportar rotación mensual\n",
    "rotacion_mensual.to_excel(\"rotacion_inventario_mensual.xlsx\", index=False)\n"
   ]
  }
 ],
 "metadata": {
  "kernelspec": {
   "display_name": "3.10.14",
   "language": "python",
   "name": "python3"
  },
  "language_info": {
   "codemirror_mode": {
    "name": "ipython",
    "version": 3
   },
   "file_extension": ".py",
   "mimetype": "text/x-python",
   "name": "python",
   "nbconvert_exporter": "python",
   "pygments_lexer": "ipython3",
   "version": "3.10.14"
  }
 },
 "nbformat": 4,
 "nbformat_minor": 2
}
