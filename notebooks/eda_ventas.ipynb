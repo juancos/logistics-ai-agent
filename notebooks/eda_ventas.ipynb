{
 "cells": [
  {
   "cell_type": "code",
   "execution_count": 1,
   "metadata": {},
   "outputs": [
    {
     "name": "stdout",
     "output_type": "stream",
     "text": [
      "Requirement already satisfied: xlrd in /Users/juanpardo/.pyenv/versions/3.10.14/lib/python3.10/site-packages (2.0.1)\n",
      "\n",
      "\u001b[1m[\u001b[0m\u001b[34;49mnotice\u001b[0m\u001b[1;39;49m]\u001b[0m\u001b[39;49m A new release of pip is available: \u001b[0m\u001b[31;49m25.0.1\u001b[0m\u001b[39;49m -> \u001b[0m\u001b[32;49m25.1.1\u001b[0m\n",
      "\u001b[1m[\u001b[0m\u001b[34;49mnotice\u001b[0m\u001b[1;39;49m]\u001b[0m\u001b[39;49m To update, run: \u001b[0m\u001b[32;49mpip install --upgrade pip\u001b[0m\n",
      "❌ Error cargando ../data/raw/ventas_dcto_2024_1de4.xls: [Errno 2] No such file or directory: '../data/raw/ventas_dcto_2024_1de4.xls'\n",
      "❌ Error cargando ../data/raw/ventas_dcto_2024_2de4.xls: [Errno 2] No such file or directory: '../data/raw/ventas_dcto_2024_2de4.xls'\n",
      "❌ Error cargando ../data/raw/ventas_dcto_2024_3de4.xls: [Errno 2] No such file or directory: '../data/raw/ventas_dcto_2024_3de4.xls'\n",
      "❌ Error cargando ../data/raw/ventas_dcto_2024_4de4.xls: [Errno 2] No such file or directory: '../data/raw/ventas_dcto_2024_4de4.xls'\n"
     ]
    },
    {
     "ename": "ValueError",
     "evalue": "No objects to concatenate",
     "output_type": "error",
     "traceback": [
      "\u001b[0;31m---------------------------------------------------------------------------\u001b[0m",
      "\u001b[0;31mValueError\u001b[0m                                Traceback (most recent call last)",
      "Cell \u001b[0;32mIn[1], line 29\u001b[0m\n\u001b[1;32m     26\u001b[0m         \u001b[38;5;28mprint\u001b[39m(\u001b[38;5;124mf\u001b[39m\u001b[38;5;124m\"\u001b[39m\u001b[38;5;124m❌ Error cargando \u001b[39m\u001b[38;5;132;01m{\u001b[39;00marchivo\u001b[38;5;132;01m}\u001b[39;00m\u001b[38;5;124m: \u001b[39m\u001b[38;5;132;01m{\u001b[39;00me\u001b[38;5;132;01m}\u001b[39;00m\u001b[38;5;124m\"\u001b[39m)\n\u001b[1;32m     28\u001b[0m \u001b[38;5;66;03m# Concatenar todos en uno solo\u001b[39;00m\n\u001b[0;32m---> 29\u001b[0m df_ventas_2024 \u001b[38;5;241m=\u001b[39m \u001b[43mpd\u001b[49m\u001b[38;5;241;43m.\u001b[39;49m\u001b[43mconcat\u001b[49m\u001b[43m(\u001b[49m\u001b[43mdfs\u001b[49m\u001b[43m,\u001b[49m\u001b[43m \u001b[49m\u001b[43mignore_index\u001b[49m\u001b[38;5;241;43m=\u001b[39;49m\u001b[38;5;28;43;01mTrue\u001b[39;49;00m\u001b[43m)\u001b[49m\n\u001b[1;32m     30\u001b[0m \u001b[38;5;28mprint\u001b[39m(\u001b[38;5;124mf\u001b[39m\u001b[38;5;124m\"\u001b[39m\u001b[38;5;130;01m\\n\u001b[39;00m\u001b[38;5;124m🧩 DataFrame combinado shape: \u001b[39m\u001b[38;5;132;01m{\u001b[39;00mdf_ventas_2024\u001b[38;5;241m.\u001b[39mshape\u001b[38;5;132;01m}\u001b[39;00m\u001b[38;5;124m\"\u001b[39m)\n",
      "File \u001b[0;32m~/.pyenv/versions/3.10.14/lib/python3.10/site-packages/pandas/core/reshape/concat.py:382\u001b[0m, in \u001b[0;36mconcat\u001b[0;34m(objs, axis, join, ignore_index, keys, levels, names, verify_integrity, sort, copy)\u001b[0m\n\u001b[1;32m    379\u001b[0m \u001b[38;5;28;01melif\u001b[39;00m copy \u001b[38;5;129;01mand\u001b[39;00m using_copy_on_write():\n\u001b[1;32m    380\u001b[0m     copy \u001b[38;5;241m=\u001b[39m \u001b[38;5;28;01mFalse\u001b[39;00m\n\u001b[0;32m--> 382\u001b[0m op \u001b[38;5;241m=\u001b[39m \u001b[43m_Concatenator\u001b[49m\u001b[43m(\u001b[49m\n\u001b[1;32m    383\u001b[0m \u001b[43m    \u001b[49m\u001b[43mobjs\u001b[49m\u001b[43m,\u001b[49m\n\u001b[1;32m    384\u001b[0m \u001b[43m    \u001b[49m\u001b[43maxis\u001b[49m\u001b[38;5;241;43m=\u001b[39;49m\u001b[43maxis\u001b[49m\u001b[43m,\u001b[49m\n\u001b[1;32m    385\u001b[0m \u001b[43m    \u001b[49m\u001b[43mignore_index\u001b[49m\u001b[38;5;241;43m=\u001b[39;49m\u001b[43mignore_index\u001b[49m\u001b[43m,\u001b[49m\n\u001b[1;32m    386\u001b[0m \u001b[43m    \u001b[49m\u001b[43mjoin\u001b[49m\u001b[38;5;241;43m=\u001b[39;49m\u001b[43mjoin\u001b[49m\u001b[43m,\u001b[49m\n\u001b[1;32m    387\u001b[0m \u001b[43m    \u001b[49m\u001b[43mkeys\u001b[49m\u001b[38;5;241;43m=\u001b[39;49m\u001b[43mkeys\u001b[49m\u001b[43m,\u001b[49m\n\u001b[1;32m    388\u001b[0m \u001b[43m    \u001b[49m\u001b[43mlevels\u001b[49m\u001b[38;5;241;43m=\u001b[39;49m\u001b[43mlevels\u001b[49m\u001b[43m,\u001b[49m\n\u001b[1;32m    389\u001b[0m \u001b[43m    \u001b[49m\u001b[43mnames\u001b[49m\u001b[38;5;241;43m=\u001b[39;49m\u001b[43mnames\u001b[49m\u001b[43m,\u001b[49m\n\u001b[1;32m    390\u001b[0m \u001b[43m    \u001b[49m\u001b[43mverify_integrity\u001b[49m\u001b[38;5;241;43m=\u001b[39;49m\u001b[43mverify_integrity\u001b[49m\u001b[43m,\u001b[49m\n\u001b[1;32m    391\u001b[0m \u001b[43m    \u001b[49m\u001b[43mcopy\u001b[49m\u001b[38;5;241;43m=\u001b[39;49m\u001b[43mcopy\u001b[49m\u001b[43m,\u001b[49m\n\u001b[1;32m    392\u001b[0m \u001b[43m    \u001b[49m\u001b[43msort\u001b[49m\u001b[38;5;241;43m=\u001b[39;49m\u001b[43msort\u001b[49m\u001b[43m,\u001b[49m\n\u001b[1;32m    393\u001b[0m \u001b[43m\u001b[49m\u001b[43m)\u001b[49m\n\u001b[1;32m    395\u001b[0m \u001b[38;5;28;01mreturn\u001b[39;00m op\u001b[38;5;241m.\u001b[39mget_result()\n",
      "File \u001b[0;32m~/.pyenv/versions/3.10.14/lib/python3.10/site-packages/pandas/core/reshape/concat.py:445\u001b[0m, in \u001b[0;36m_Concatenator.__init__\u001b[0;34m(self, objs, axis, join, keys, levels, names, ignore_index, verify_integrity, copy, sort)\u001b[0m\n\u001b[1;32m    442\u001b[0m \u001b[38;5;28mself\u001b[39m\u001b[38;5;241m.\u001b[39mverify_integrity \u001b[38;5;241m=\u001b[39m verify_integrity\n\u001b[1;32m    443\u001b[0m \u001b[38;5;28mself\u001b[39m\u001b[38;5;241m.\u001b[39mcopy \u001b[38;5;241m=\u001b[39m copy\n\u001b[0;32m--> 445\u001b[0m objs, keys \u001b[38;5;241m=\u001b[39m \u001b[38;5;28;43mself\u001b[39;49m\u001b[38;5;241;43m.\u001b[39;49m\u001b[43m_clean_keys_and_objs\u001b[49m\u001b[43m(\u001b[49m\u001b[43mobjs\u001b[49m\u001b[43m,\u001b[49m\u001b[43m \u001b[49m\u001b[43mkeys\u001b[49m\u001b[43m)\u001b[49m\n\u001b[1;32m    447\u001b[0m \u001b[38;5;66;03m# figure out what our result ndim is going to be\u001b[39;00m\n\u001b[1;32m    448\u001b[0m ndims \u001b[38;5;241m=\u001b[39m \u001b[38;5;28mself\u001b[39m\u001b[38;5;241m.\u001b[39m_get_ndims(objs)\n",
      "File \u001b[0;32m~/.pyenv/versions/3.10.14/lib/python3.10/site-packages/pandas/core/reshape/concat.py:507\u001b[0m, in \u001b[0;36m_Concatenator._clean_keys_and_objs\u001b[0;34m(self, objs, keys)\u001b[0m\n\u001b[1;32m    504\u001b[0m     objs_list \u001b[38;5;241m=\u001b[39m \u001b[38;5;28mlist\u001b[39m(objs)\n\u001b[1;32m    506\u001b[0m \u001b[38;5;28;01mif\u001b[39;00m \u001b[38;5;28mlen\u001b[39m(objs_list) \u001b[38;5;241m==\u001b[39m \u001b[38;5;241m0\u001b[39m:\n\u001b[0;32m--> 507\u001b[0m     \u001b[38;5;28;01mraise\u001b[39;00m \u001b[38;5;167;01mValueError\u001b[39;00m(\u001b[38;5;124m\"\u001b[39m\u001b[38;5;124mNo objects to concatenate\u001b[39m\u001b[38;5;124m\"\u001b[39m)\n\u001b[1;32m    509\u001b[0m \u001b[38;5;28;01mif\u001b[39;00m keys \u001b[38;5;129;01mis\u001b[39;00m \u001b[38;5;28;01mNone\u001b[39;00m:\n\u001b[1;32m    510\u001b[0m     objs_list \u001b[38;5;241m=\u001b[39m \u001b[38;5;28mlist\u001b[39m(com\u001b[38;5;241m.\u001b[39mnot_none(\u001b[38;5;241m*\u001b[39mobjs_list))\n",
      "\u001b[0;31mValueError\u001b[0m: No objects to concatenate"
     ]
    }
   ],
   "source": [
    "#Carga del archivo asociado con las ventas para el analisis exploratorio de Premium Choice\n",
    "#Creacion de un primer bloque que lea los 4 archivos de ventas por separado, genere combinaciones en un único dataframe, haga una verificacion general. \n",
    "!pip install xlrd\n",
    "# 🔁 Unificación de archivos de ventas del año 2024\n",
    "import pandas as pd\n",
    "import os\n",
    "\n",
    "# Lista de archivos a combinar\n",
    "archivos_ventas_2024 = [\n",
    "    \"../data/raw/ventas_dcto_2024_1de4.xls\",\n",
    "    \"../data/raw/ventas_dcto_2024_2de4.xls\",\n",
    "    \"../data/raw/ventas_dcto_2024_3de4.xls\",\n",
    "    \"../data/raw/ventas_dcto_2024_4de4.xls\"\n",
    "]\n",
    "\n",
    "# Lista para almacenar los DataFrames individuales\n",
    "dfs = []\n",
    "\n",
    "# Cargar cada archivo y añadirlo a la lista\n",
    "for archivo in archivos_ventas_2024:\n",
    "    try:\n",
    "        df_temp = pd.read_excel(archivo)\n",
    "        print(f\"✅ Cargado: {archivo} con shape {df_temp.shape}\")\n",
    "        dfs.append(df_temp)\n",
    "    except Exception as e:\n",
    "        print(f\"❌ Error cargando {archivo}: {e}\")\n",
    "\n",
    "# Concatenar todos en uno solo\n",
    "df_ventas_2024 = pd.concat(dfs, ignore_index=True)\n",
    "print(f\"\\n🧩 DataFrame combinado shape: {df_ventas_2024.shape}\")\n",
    "\n",
    "\n",
    "\n"
   ]
  },
  {
   "cell_type": "code",
   "execution_count": 5,
   "metadata": {},
   "outputs": [
    {
     "name": "stdout",
     "output_type": "stream",
     "text": [
      "📐 Dimensiones del archivo de ventas:\n",
      "Filas: 59011, Columnas: 16\n",
      "\n",
      "📌 Columnas disponibles:\n",
      "• cod_cliente\n",
      "• cliente\n",
      "• documento\n",
      "• defecha\n",
      "• vr_gravado\n",
      "• vr_nogravado\n",
      "• subtotal\n",
      "• costo\n",
      "• utilidadps\n",
      "• utilidadpc\n",
      "• iva\n",
      "• total\n",
      "• tipodocumento\n",
      "• bodega\n",
      "• vendedor\n",
      "• distrito\n",
      "\n",
      "🧠 Tipos de datos:\n",
      "cod_cliente              object\n",
      "cliente                  object\n",
      "documento                object\n",
      "defecha          datetime64[ns]\n",
      "vr_gravado              float64\n",
      "vr_nogravado            float64\n",
      "subtotal                float64\n",
      "costo                   float64\n",
      "utilidadps              float64\n",
      "utilidadpc              float64\n",
      "iva                       int64\n",
      "total                   float64\n",
      "tipodocumento            object\n",
      "bodega                  float64\n",
      "vendedor                 object\n",
      "distrito                 object\n",
      "dtype: object\n",
      "\n",
      "👁️ Primeras filas:\n"
     ]
    },
    {
     "data": {
      "application/vnd.microsoft.datawrangler.viewer.v0+json": {
       "columns": [
        {
         "name": "index",
         "rawType": "int64",
         "type": "integer"
        },
        {
         "name": "cod_cliente",
         "rawType": "object",
         "type": "string"
        },
        {
         "name": "cliente",
         "rawType": "object",
         "type": "string"
        },
        {
         "name": "documento",
         "rawType": "object",
         "type": "string"
        },
        {
         "name": "defecha",
         "rawType": "datetime64[ns]",
         "type": "datetime"
        },
        {
         "name": "vr_gravado",
         "rawType": "float64",
         "type": "float"
        },
        {
         "name": "vr_nogravado",
         "rawType": "float64",
         "type": "float"
        },
        {
         "name": "subtotal",
         "rawType": "float64",
         "type": "float"
        },
        {
         "name": "costo",
         "rawType": "float64",
         "type": "float"
        },
        {
         "name": "utilidadps",
         "rawType": "float64",
         "type": "float"
        },
        {
         "name": "utilidadpc",
         "rawType": "float64",
         "type": "float"
        },
        {
         "name": "iva",
         "rawType": "int64",
         "type": "integer"
        },
        {
         "name": "total",
         "rawType": "float64",
         "type": "float"
        },
        {
         "name": "tipodocumento",
         "rawType": "object",
         "type": "string"
        },
        {
         "name": "bodega",
         "rawType": "float64",
         "type": "float"
        },
        {
         "name": "vendedor",
         "rawType": "object",
         "type": "string"
        },
        {
         "name": "distrito",
         "rawType": "object",
         "type": "unknown"
        }
       ],
       "ref": "2ac11f9c-7e8d-4867-ba05-400f63ef8a77",
       "rows": [
        [
         "0",
         "CL  100000001646",
         "SALOMON LAMA SAS",
         "  1PCH  32706",
         "2024-01-09 00:00:00",
         "248850.0",
         "0.0",
         "248850.0",
         "198755.01",
         "50094.99",
         "25.204",
         "47282",
         "296132.0",
         "F.COMER",
         "44.0",
         "ALZATE  ELENA",
         null
        ],
        [
         "1",
         "CL  100000001067",
         "SUPERTIENDAS CAÑAVERAL SAS",
         "  1PCH  32707",
         "2024-01-09 00:00:00",
         "0.0",
         "80400.0",
         "80400.0",
         "47056.26",
         "33343.74",
         "70.859",
         "0",
         "80400.0",
         "F.COMER",
         "53.0",
         "ALZATE  ELENA",
         "INSTITUCIONAL"
        ],
        [
         "2",
         "CL  100000001781",
         "KNITTING PET SAS",
         "  1PCH  32708",
         "2024-01-09 00:00:00",
         "377444.0",
         "0.0",
         "377444.0",
         "171740.52",
         "205703.48",
         "119.776",
         "71714",
         "449158.0",
         "F.COMER",
         "44.0",
         "HERNANDEZ BECERRA AMANDA LUCIA",
         null
        ],
        [
         "3",
         "CL  100000001224",
         "MAKALI S.A.S",
         "  1PCH  32709",
         "2024-01-09 00:00:00",
         "745090.0",
         "0.0",
         "745090.0",
         "221969.46",
         "523120.54",
         "235.672",
         "141567",
         "886657.0",
         "F.COMER",
         "44.0",
         "ALZATE  ELENA",
         "INSTITUCIONAL"
        ],
        [
         "4",
         "CL  100000001626",
         "COCOFIT MERCADO SALUDABLE S.A.S.",
         "  1PCH  32710",
         "2024-01-09 00:00:00",
         "394540.0",
         "0.0",
         "394540.0",
         "141849.24",
         "252690.76",
         "178.14",
         "74963",
         "469503.0",
         "F.COMER",
         "44.0",
         "HERNANDEZ BECERRA AMANDA LUCIA",
         "INSTITUCIONAL"
        ]
       ],
       "shape": {
        "columns": 16,
        "rows": 5
       }
      },
      "text/html": [
       "<div>\n",
       "<style scoped>\n",
       "    .dataframe tbody tr th:only-of-type {\n",
       "        vertical-align: middle;\n",
       "    }\n",
       "\n",
       "    .dataframe tbody tr th {\n",
       "        vertical-align: top;\n",
       "    }\n",
       "\n",
       "    .dataframe thead th {\n",
       "        text-align: right;\n",
       "    }\n",
       "</style>\n",
       "<table border=\"1\" class=\"dataframe\">\n",
       "  <thead>\n",
       "    <tr style=\"text-align: right;\">\n",
       "      <th></th>\n",
       "      <th>cod_cliente</th>\n",
       "      <th>cliente</th>\n",
       "      <th>documento</th>\n",
       "      <th>defecha</th>\n",
       "      <th>vr_gravado</th>\n",
       "      <th>vr_nogravado</th>\n",
       "      <th>subtotal</th>\n",
       "      <th>costo</th>\n",
       "      <th>utilidadps</th>\n",
       "      <th>utilidadpc</th>\n",
       "      <th>iva</th>\n",
       "      <th>total</th>\n",
       "      <th>tipodocumento</th>\n",
       "      <th>bodega</th>\n",
       "      <th>vendedor</th>\n",
       "      <th>distrito</th>\n",
       "    </tr>\n",
       "  </thead>\n",
       "  <tbody>\n",
       "    <tr>\n",
       "      <th>0</th>\n",
       "      <td>CL  100000001646</td>\n",
       "      <td>SALOMON LAMA SAS</td>\n",
       "      <td>1PCH  32706</td>\n",
       "      <td>2024-01-09</td>\n",
       "      <td>248850.0</td>\n",
       "      <td>0.0</td>\n",
       "      <td>248850.0</td>\n",
       "      <td>198755.01</td>\n",
       "      <td>50094.99</td>\n",
       "      <td>25.204</td>\n",
       "      <td>47282</td>\n",
       "      <td>296132.0</td>\n",
       "      <td>F.COMER</td>\n",
       "      <td>44.0</td>\n",
       "      <td>ALZATE  ELENA</td>\n",
       "      <td>NaN</td>\n",
       "    </tr>\n",
       "    <tr>\n",
       "      <th>1</th>\n",
       "      <td>CL  100000001067</td>\n",
       "      <td>SUPERTIENDAS CAÑAVERAL SAS</td>\n",
       "      <td>1PCH  32707</td>\n",
       "      <td>2024-01-09</td>\n",
       "      <td>0.0</td>\n",
       "      <td>80400.0</td>\n",
       "      <td>80400.0</td>\n",
       "      <td>47056.26</td>\n",
       "      <td>33343.74</td>\n",
       "      <td>70.859</td>\n",
       "      <td>0</td>\n",
       "      <td>80400.0</td>\n",
       "      <td>F.COMER</td>\n",
       "      <td>53.0</td>\n",
       "      <td>ALZATE  ELENA</td>\n",
       "      <td>INSTITUCIONAL</td>\n",
       "    </tr>\n",
       "    <tr>\n",
       "      <th>2</th>\n",
       "      <td>CL  100000001781</td>\n",
       "      <td>KNITTING PET SAS</td>\n",
       "      <td>1PCH  32708</td>\n",
       "      <td>2024-01-09</td>\n",
       "      <td>377444.0</td>\n",
       "      <td>0.0</td>\n",
       "      <td>377444.0</td>\n",
       "      <td>171740.52</td>\n",
       "      <td>205703.48</td>\n",
       "      <td>119.776</td>\n",
       "      <td>71714</td>\n",
       "      <td>449158.0</td>\n",
       "      <td>F.COMER</td>\n",
       "      <td>44.0</td>\n",
       "      <td>HERNANDEZ BECERRA AMANDA LUCIA</td>\n",
       "      <td>NaN</td>\n",
       "    </tr>\n",
       "    <tr>\n",
       "      <th>3</th>\n",
       "      <td>CL  100000001224</td>\n",
       "      <td>MAKALI S.A.S</td>\n",
       "      <td>1PCH  32709</td>\n",
       "      <td>2024-01-09</td>\n",
       "      <td>745090.0</td>\n",
       "      <td>0.0</td>\n",
       "      <td>745090.0</td>\n",
       "      <td>221969.46</td>\n",
       "      <td>523120.54</td>\n",
       "      <td>235.672</td>\n",
       "      <td>141567</td>\n",
       "      <td>886657.0</td>\n",
       "      <td>F.COMER</td>\n",
       "      <td>44.0</td>\n",
       "      <td>ALZATE  ELENA</td>\n",
       "      <td>INSTITUCIONAL</td>\n",
       "    </tr>\n",
       "    <tr>\n",
       "      <th>4</th>\n",
       "      <td>CL  100000001626</td>\n",
       "      <td>COCOFIT MERCADO SALUDABLE S.A.S.</td>\n",
       "      <td>1PCH  32710</td>\n",
       "      <td>2024-01-09</td>\n",
       "      <td>394540.0</td>\n",
       "      <td>0.0</td>\n",
       "      <td>394540.0</td>\n",
       "      <td>141849.24</td>\n",
       "      <td>252690.76</td>\n",
       "      <td>178.140</td>\n",
       "      <td>74963</td>\n",
       "      <td>469503.0</td>\n",
       "      <td>F.COMER</td>\n",
       "      <td>44.0</td>\n",
       "      <td>HERNANDEZ BECERRA AMANDA LUCIA</td>\n",
       "      <td>INSTITUCIONAL</td>\n",
       "    </tr>\n",
       "  </tbody>\n",
       "</table>\n",
       "</div>"
      ],
      "text/plain": [
       "        cod_cliente                           cliente      documento  \\\n",
       "0  CL  100000001646                  SALOMON LAMA SAS    1PCH  32706   \n",
       "1  CL  100000001067        SUPERTIENDAS CAÑAVERAL SAS    1PCH  32707   \n",
       "2  CL  100000001781                  KNITTING PET SAS    1PCH  32708   \n",
       "3  CL  100000001224                      MAKALI S.A.S    1PCH  32709   \n",
       "4  CL  100000001626  COCOFIT MERCADO SALUDABLE S.A.S.    1PCH  32710   \n",
       "\n",
       "     defecha  vr_gravado  vr_nogravado  subtotal      costo  utilidadps  \\\n",
       "0 2024-01-09    248850.0           0.0  248850.0  198755.01    50094.99   \n",
       "1 2024-01-09         0.0       80400.0   80400.0   47056.26    33343.74   \n",
       "2 2024-01-09    377444.0           0.0  377444.0  171740.52   205703.48   \n",
       "3 2024-01-09    745090.0           0.0  745090.0  221969.46   523120.54   \n",
       "4 2024-01-09    394540.0           0.0  394540.0  141849.24   252690.76   \n",
       "\n",
       "   utilidadpc     iva     total tipodocumento  bodega  \\\n",
       "0      25.204   47282  296132.0       F.COMER    44.0   \n",
       "1      70.859       0   80400.0       F.COMER    53.0   \n",
       "2     119.776   71714  449158.0       F.COMER    44.0   \n",
       "3     235.672  141567  886657.0       F.COMER    44.0   \n",
       "4     178.140   74963  469503.0       F.COMER    44.0   \n",
       "\n",
       "                         vendedor       distrito  \n",
       "0                   ALZATE  ELENA            NaN  \n",
       "1                   ALZATE  ELENA  INSTITUCIONAL  \n",
       "2  HERNANDEZ BECERRA AMANDA LUCIA            NaN  \n",
       "3                   ALZATE  ELENA  INSTITUCIONAL  \n",
       "4  HERNANDEZ BECERRA AMANDA LUCIA  INSTITUCIONAL  "
      ]
     },
     "metadata": {},
     "output_type": "display_data"
    }
   ],
   "source": [
    "#Vista general del archivo de ventas\n",
    "# 📊 Vista general del DataFrame de ventas 2024\n",
    "print(\"📐 Dimensiones del archivo de ventas:\")\n",
    "print(f\"Filas: {df_ventas_2024.shape[0]}, Columnas: {df_ventas_2024.shape[1]}\")\n",
    "\n",
    "print(\"\\n📌 Columnas disponibles:\")\n",
    "for col in df_ventas_2024.columns:\n",
    "    print(f\"• {col}\")\n",
    "\n",
    "print(\"\\n🧠 Tipos de datos:\")\n",
    "print(df_ventas_2024.dtypes)\n",
    "\n",
    "print(\"\\n👁️ Primeras filas:\")\n",
    "display(df_ventas_2024.head())\n"
   ]
  },
  {
   "cell_type": "code",
   "execution_count": 6,
   "metadata": {},
   "outputs": [
    {
     "name": "stdout",
     "output_type": "stream",
     "text": [
      "⚠️ Valores nulos por columna:\n",
      "cod_cliente          0\n",
      "cliente              0\n",
      "documento            0\n",
      "defecha              0\n",
      "vr_gravado           0\n",
      "vr_nogravado         0\n",
      "subtotal             0\n",
      "costo                0\n",
      "utilidadps           0\n",
      "utilidadpc           0\n",
      "iva                  0\n",
      "total                0\n",
      "tipodocumento        0\n",
      "bodega              49\n",
      "vendedor           127\n",
      "distrito         55130\n",
      "dtype: int64\n",
      "\n",
      "📉 Porcentaje de valores nulos:\n",
      "cod_cliente       0.00\n",
      "cliente           0.00\n",
      "documento         0.00\n",
      "defecha           0.00\n",
      "vr_gravado        0.00\n",
      "vr_nogravado      0.00\n",
      "subtotal          0.00\n",
      "costo             0.00\n",
      "utilidadps        0.00\n",
      "utilidadpc        0.00\n",
      "iva               0.00\n",
      "total             0.00\n",
      "tipodocumento     0.00\n",
      "bodega            0.08\n",
      "vendedor          0.22\n",
      "distrito         93.42\n",
      "dtype: float64\n",
      "\n",
      "🔁 Filas duplicadas:\n",
      "0\n",
      "\n",
      "🔢 Cardinalidad por columna:\n",
      "cod_cliente       2322\n",
      "cliente            380\n",
      "documento        59011\n",
      "defecha            364\n",
      "vr_gravado       27843\n",
      "vr_nogravado      2919\n",
      "subtotal         30531\n",
      "costo             6086\n",
      "utilidadps       31766\n",
      "utilidadpc        4897\n",
      "iva              17776\n",
      "total            28880\n",
      "tipodocumento        4\n",
      "bodega              11\n",
      "vendedor            33\n",
      "distrito             1\n",
      "dtype: int64\n"
     ]
    }
   ],
   "source": [
    "#Calidad de datos del archivo de ventas\n",
    "#Identificacion de la calidad de datos del archivo de ventas asociadas a Premium Choice\n",
    "# 🚨 Valores nulos\n",
    "print(\"⚠️ Valores nulos por columna:\")\n",
    "print(df_ventas_2024.isnull().sum())\n",
    "\n",
    "print(\"\\n📉 Porcentaje de valores nulos:\")\n",
    "print((df_ventas_2024.isnull().mean() * 100).round(2))\n",
    "\n",
    "# 🔁 Filas duplicadas\n",
    "print(\"\\n🔁 Filas duplicadas:\")\n",
    "print(df_ventas_2024.duplicated().sum())\n",
    "\n",
    "# 🔢 Cardinalidad (valores únicos)\n",
    "print(\"\\n🔢 Cardinalidad por columna:\")\n",
    "print(df_ventas_2024.nunique())\n"
   ]
  },
  {
   "cell_type": "code",
   "execution_count": 7,
   "metadata": {},
   "outputs": [
    {
     "name": "stdout",
     "output_type": "stream",
     "text": [
      "📊 Estadísticas descriptivas:\n"
     ]
    },
    {
     "data": {
      "application/vnd.microsoft.datawrangler.viewer.v0+json": {
       "columns": [
        {
         "name": "index",
         "rawType": "object",
         "type": "string"
        },
        {
         "name": "defecha",
         "rawType": "object",
         "type": "unknown"
        },
        {
         "name": "vr_gravado",
         "rawType": "float64",
         "type": "float"
        },
        {
         "name": "vr_nogravado",
         "rawType": "float64",
         "type": "float"
        },
        {
         "name": "subtotal",
         "rawType": "float64",
         "type": "float"
        },
        {
         "name": "costo",
         "rawType": "float64",
         "type": "float"
        },
        {
         "name": "utilidadps",
         "rawType": "float64",
         "type": "float"
        },
        {
         "name": "utilidadpc",
         "rawType": "float64",
         "type": "float"
        },
        {
         "name": "iva",
         "rawType": "float64",
         "type": "float"
        },
        {
         "name": "total",
         "rawType": "float64",
         "type": "float"
        },
        {
         "name": "bodega",
         "rawType": "float64",
         "type": "float"
        }
       ],
       "ref": "c55258ee-4a48-4e06-9067-98110493c892",
       "rows": [
        [
         "count",
         "59011",
         "59011.0",
         "59011.0",
         "59011.0",
         "59011.0",
         "59011.0",
         "59011.0",
         "59011.0",
         "59011.0",
         "58962.0"
        ],
        [
         "mean",
         "2024-07-07 16:27:20.317906688",
         "268601.58523580345",
         "21037.060072528853",
         "289638.64530833234",
         "113842.1632937927",
         "175796.48201453965",
         "9.79413716086831",
         "44320.98340987274",
         "333959.6287182051",
         "18.49477629659781"
        ],
        [
         "min",
         "2024-01-02 00:00:00",
         "-20472300.0",
         "-23000000.0",
         "-23000000.0",
         "-14536889.64",
         "-23000000.0",
         "-48.595",
         "-3889737.0",
         "-24362037.0",
         "1.0"
        ],
        [
         "25%",
         "2024-04-06 00:00:00",
         "22130.0",
         "0.0",
         "24370.0",
         "0.0",
         "23866.0",
         "0.0",
         "0.0",
         "27500.0",
         "4.0"
        ],
        [
         "50%",
         "2024-07-05 00:00:00",
         "48697.0",
         "0.0",
         "52807.0",
         "0.0",
         "51597.0",
         "0.0",
         "4328.0",
         "58500.0",
         "4.0"
        ],
        [
         "75%",
         "2024-10-10 00:00:00",
         "118785.9",
         "0.0",
         "125261.0",
         "0.0",
         "115546.0",
         "0.0",
         "13092.0",
         "136800.0",
         "44.0"
        ],
        [
         "max",
         "2024-12-31 00:00:00",
         "117343070.0",
         "148422000.0",
         "148422000.0",
         "80963979.44",
         "148422000.0",
         "541.126",
         "18259572.0",
         "148422000.0",
         "55.0"
        ],
        [
         "std",
         null,
         "1720864.592056755",
         "725482.99347157",
         "1907833.6639457704",
         "908229.455371172",
         "1140770.4598757727",
         "29.47987104736536",
         "318779.5624972981",
         "2204961.062313112",
         "20.44552897859219"
        ]
       ],
       "shape": {
        "columns": 10,
        "rows": 8
       }
      },
      "text/html": [
       "<div>\n",
       "<style scoped>\n",
       "    .dataframe tbody tr th:only-of-type {\n",
       "        vertical-align: middle;\n",
       "    }\n",
       "\n",
       "    .dataframe tbody tr th {\n",
       "        vertical-align: top;\n",
       "    }\n",
       "\n",
       "    .dataframe thead th {\n",
       "        text-align: right;\n",
       "    }\n",
       "</style>\n",
       "<table border=\"1\" class=\"dataframe\">\n",
       "  <thead>\n",
       "    <tr style=\"text-align: right;\">\n",
       "      <th></th>\n",
       "      <th>defecha</th>\n",
       "      <th>vr_gravado</th>\n",
       "      <th>vr_nogravado</th>\n",
       "      <th>subtotal</th>\n",
       "      <th>costo</th>\n",
       "      <th>utilidadps</th>\n",
       "      <th>utilidadpc</th>\n",
       "      <th>iva</th>\n",
       "      <th>total</th>\n",
       "      <th>bodega</th>\n",
       "    </tr>\n",
       "  </thead>\n",
       "  <tbody>\n",
       "    <tr>\n",
       "      <th>count</th>\n",
       "      <td>59011</td>\n",
       "      <td>5.901100e+04</td>\n",
       "      <td>5.901100e+04</td>\n",
       "      <td>5.901100e+04</td>\n",
       "      <td>5.901100e+04</td>\n",
       "      <td>5.901100e+04</td>\n",
       "      <td>59011.000000</td>\n",
       "      <td>5.901100e+04</td>\n",
       "      <td>5.901100e+04</td>\n",
       "      <td>58962.000000</td>\n",
       "    </tr>\n",
       "    <tr>\n",
       "      <th>mean</th>\n",
       "      <td>2024-07-07 16:27:20.317906688</td>\n",
       "      <td>2.686016e+05</td>\n",
       "      <td>2.103706e+04</td>\n",
       "      <td>2.896386e+05</td>\n",
       "      <td>1.138422e+05</td>\n",
       "      <td>1.757965e+05</td>\n",
       "      <td>9.794137</td>\n",
       "      <td>4.432098e+04</td>\n",
       "      <td>3.339596e+05</td>\n",
       "      <td>18.494776</td>\n",
       "    </tr>\n",
       "    <tr>\n",
       "      <th>min</th>\n",
       "      <td>2024-01-02 00:00:00</td>\n",
       "      <td>-2.047230e+07</td>\n",
       "      <td>-2.300000e+07</td>\n",
       "      <td>-2.300000e+07</td>\n",
       "      <td>-1.453689e+07</td>\n",
       "      <td>-2.300000e+07</td>\n",
       "      <td>-48.595000</td>\n",
       "      <td>-3.889737e+06</td>\n",
       "      <td>-2.436204e+07</td>\n",
       "      <td>1.000000</td>\n",
       "    </tr>\n",
       "    <tr>\n",
       "      <th>25%</th>\n",
       "      <td>2024-04-06 00:00:00</td>\n",
       "      <td>2.213000e+04</td>\n",
       "      <td>0.000000e+00</td>\n",
       "      <td>2.437000e+04</td>\n",
       "      <td>0.000000e+00</td>\n",
       "      <td>2.386600e+04</td>\n",
       "      <td>0.000000</td>\n",
       "      <td>0.000000e+00</td>\n",
       "      <td>2.750000e+04</td>\n",
       "      <td>4.000000</td>\n",
       "    </tr>\n",
       "    <tr>\n",
       "      <th>50%</th>\n",
       "      <td>2024-07-05 00:00:00</td>\n",
       "      <td>4.869700e+04</td>\n",
       "      <td>0.000000e+00</td>\n",
       "      <td>5.280700e+04</td>\n",
       "      <td>0.000000e+00</td>\n",
       "      <td>5.159700e+04</td>\n",
       "      <td>0.000000</td>\n",
       "      <td>4.328000e+03</td>\n",
       "      <td>5.850000e+04</td>\n",
       "      <td>4.000000</td>\n",
       "    </tr>\n",
       "    <tr>\n",
       "      <th>75%</th>\n",
       "      <td>2024-10-10 00:00:00</td>\n",
       "      <td>1.187859e+05</td>\n",
       "      <td>0.000000e+00</td>\n",
       "      <td>1.252610e+05</td>\n",
       "      <td>0.000000e+00</td>\n",
       "      <td>1.155460e+05</td>\n",
       "      <td>0.000000</td>\n",
       "      <td>1.309200e+04</td>\n",
       "      <td>1.368000e+05</td>\n",
       "      <td>44.000000</td>\n",
       "    </tr>\n",
       "    <tr>\n",
       "      <th>max</th>\n",
       "      <td>2024-12-31 00:00:00</td>\n",
       "      <td>1.173431e+08</td>\n",
       "      <td>1.484220e+08</td>\n",
       "      <td>1.484220e+08</td>\n",
       "      <td>8.096398e+07</td>\n",
       "      <td>1.484220e+08</td>\n",
       "      <td>541.126000</td>\n",
       "      <td>1.825957e+07</td>\n",
       "      <td>1.484220e+08</td>\n",
       "      <td>55.000000</td>\n",
       "    </tr>\n",
       "    <tr>\n",
       "      <th>std</th>\n",
       "      <td>NaN</td>\n",
       "      <td>1.720865e+06</td>\n",
       "      <td>7.254830e+05</td>\n",
       "      <td>1.907834e+06</td>\n",
       "      <td>9.082295e+05</td>\n",
       "      <td>1.140770e+06</td>\n",
       "      <td>29.479871</td>\n",
       "      <td>3.187796e+05</td>\n",
       "      <td>2.204961e+06</td>\n",
       "      <td>20.445529</td>\n",
       "    </tr>\n",
       "  </tbody>\n",
       "</table>\n",
       "</div>"
      ],
      "text/plain": [
       "                             defecha    vr_gravado  vr_nogravado  \\\n",
       "count                          59011  5.901100e+04  5.901100e+04   \n",
       "mean   2024-07-07 16:27:20.317906688  2.686016e+05  2.103706e+04   \n",
       "min              2024-01-02 00:00:00 -2.047230e+07 -2.300000e+07   \n",
       "25%              2024-04-06 00:00:00  2.213000e+04  0.000000e+00   \n",
       "50%              2024-07-05 00:00:00  4.869700e+04  0.000000e+00   \n",
       "75%              2024-10-10 00:00:00  1.187859e+05  0.000000e+00   \n",
       "max              2024-12-31 00:00:00  1.173431e+08  1.484220e+08   \n",
       "std                              NaN  1.720865e+06  7.254830e+05   \n",
       "\n",
       "           subtotal         costo    utilidadps    utilidadpc           iva  \\\n",
       "count  5.901100e+04  5.901100e+04  5.901100e+04  59011.000000  5.901100e+04   \n",
       "mean   2.896386e+05  1.138422e+05  1.757965e+05      9.794137  4.432098e+04   \n",
       "min   -2.300000e+07 -1.453689e+07 -2.300000e+07    -48.595000 -3.889737e+06   \n",
       "25%    2.437000e+04  0.000000e+00  2.386600e+04      0.000000  0.000000e+00   \n",
       "50%    5.280700e+04  0.000000e+00  5.159700e+04      0.000000  4.328000e+03   \n",
       "75%    1.252610e+05  0.000000e+00  1.155460e+05      0.000000  1.309200e+04   \n",
       "max    1.484220e+08  8.096398e+07  1.484220e+08    541.126000  1.825957e+07   \n",
       "std    1.907834e+06  9.082295e+05  1.140770e+06     29.479871  3.187796e+05   \n",
       "\n",
       "              total        bodega  \n",
       "count  5.901100e+04  58962.000000  \n",
       "mean   3.339596e+05     18.494776  \n",
       "min   -2.436204e+07      1.000000  \n",
       "25%    2.750000e+04      4.000000  \n",
       "50%    5.850000e+04      4.000000  \n",
       "75%    1.368000e+05     44.000000  \n",
       "max    1.484220e+08     55.000000  \n",
       "std    2.204961e+06     20.445529  "
      ]
     },
     "metadata": {},
     "output_type": "display_data"
    }
   ],
   "source": [
    "#Identificacion de las estadisticas numericas asociadas al histórico de Premium Choice \n",
    "# 📈 Estadísticas numéricas\n",
    "print(\"📊 Estadísticas descriptivas:\")\n",
    "display(df_ventas_2024.describe())\n"
   ]
  },
  {
   "cell_type": "code",
   "execution_count": 8,
   "metadata": {},
   "outputs": [
    {
     "name": "stdout",
     "output_type": "stream",
     "text": [
      "            cod_cliente                     cliente      documento    defecha  \\\n",
      "2697   CL  400000000006    VENTA MOSTRADOR - P.O.S.    4NCR   3772 2024-01-17   \n",
      "3373   CL  400000000006    VENTA MOSTRADOR - P.O.S.    4NCR   3775 2024-01-22   \n",
      "3873   CL  200000000015    VENTA MOSTRADOR - P.O.S.    2NCR   3787 2024-01-25   \n",
      "3882   CL  200000000015    VENTA MOSTRADOR - P.O.S.    2NCR   3788 2024-01-25   \n",
      "5573   CL  400000000006    VENTA MOSTRADOR - P.O.S.    4NCR   3817 2024-02-05   \n",
      "...                 ...                         ...            ...        ...   \n",
      "59004  CL  100000000398      CENCOSUD COLOMBIA S.A.    1NCR   4637 2024-12-26   \n",
      "59005          CL 10038      COUNTRY CLUB DE BOGOTA    1NCR   4639 2024-12-26   \n",
      "59006  CL  100000000168            MORANGO S. A. S.    1NCR   4647 2024-12-27   \n",
      "59007  CL  100000001067  SUPERTIENDAS CAÑAVERAL SAS    1NCR   4648 2024-12-28   \n",
      "59010  CL  100000000398      CENCOSUD COLOMBIA S.A.    1NCR   4652 2024-12-30   \n",
      "\n",
      "       vr_gravado  vr_nogravado    subtotal        costo  utilidadps  \\\n",
      "2697    -122407.0           0.0   -122407.0         0.00  -122407.00   \n",
      "3373     -47311.0      -29900.0    -77211.0         0.00   -77211.00   \n",
      "3873     -97438.4           0.0    -97438.4         0.00   -97438.40   \n",
      "3882    -151345.0      -34600.0   -185945.0         0.00  -185945.00   \n",
      "5573     -47479.0           0.0    -47479.0         0.00   -47479.00   \n",
      "...           ...           ...         ...          ...         ...   \n",
      "59004   -224136.0           0.0   -224136.0   -110342.76  -113793.24   \n",
      "59005 -20472300.0           0.0 -20472300.0 -14536889.64 -5935410.36   \n",
      "59006   -192000.0           0.0   -192000.0   -100309.71   -91690.29   \n",
      "59007    -79876.0           0.0    -79876.0    -47301.62   -32574.38   \n",
      "59010  -3456339.0     -145200.0  -3601539.0  -2084394.23 -1517144.77   \n",
      "\n",
      "       utilidadpc      iva       total tipodocumento  bodega  \\\n",
      "2697        0.000        0   -122407.0         F.POS     4.0   \n",
      "3373        0.000    -8989    -86200.0         F.POS     4.0   \n",
      "3873        0.000   -18513   -115951.4         F.POS     2.0   \n",
      "3882        0.000   -28755   -214700.0         F.POS     2.0   \n",
      "5573        0.000    -9021    -56500.0         F.POS     4.0   \n",
      "...           ...      ...         ...           ...     ...   \n",
      "59004     103.127   -42586   -266722.0       D.COMER     1.0   \n",
      "59005      40.830 -3889737 -24362037.0       D.COMER     1.0   \n",
      "59006      91.407   -36480   -228480.0       D.COMER     1.0   \n",
      "59007      68.865   -15176    -95052.0       D.COMER     1.0   \n",
      "59010      72.786  -537717  -4139256.0       D.COMER     1.0   \n",
      "\n",
      "                              vendedor       distrito  \n",
      "2697                         SALON 125            NaN  \n",
      "3373                          CAVA 125            NaN  \n",
      "3873   GONZALEZ ACEVEDO LUISA FERNANDA            NaN  \n",
      "3882   GONZALEZ ACEVEDO LUISA FERNANDA            NaN  \n",
      "5573                          CAVA 125            NaN  \n",
      "...                                ...            ...  \n",
      "59004                 BODEGA PRINCIPAL            NaN  \n",
      "59005                    ALZATE  ELENA  INSTITUCIONAL  \n",
      "59006                    ALZATE  ELENA  INSTITUCIONAL  \n",
      "59007                    ALZATE  ELENA  INSTITUCIONAL  \n",
      "59010                 BODEGA PRINCIPAL            NaN  \n",
      "\n",
      "[617 rows x 16 columns]\n"
     ]
    }
   ],
   "source": [
    "#Deteccion y exploracion de outliers\n",
    "#Identificacion de dato atipicos en el comportamiento de las ventaas en el horizonte de tiempo identificado para Premium Choice \n",
    "print(df_ventas_2024[df_ventas_2024['vr_gravado'] < 0])\n",
    "\n"
   ]
  },
  {
   "cell_type": "code",
   "execution_count": 9,
   "metadata": {},
   "outputs": [
    {
     "data": {
      "text/plain": [
       "<Axes: title={'center': 'Volumen de ventas por mes'}, xlabel='mes'>"
      ]
     },
     "execution_count": 9,
     "metadata": {},
     "output_type": "execute_result"
    },
    {
     "data": {
      "image/png": "[encoded data removed]",
      "text/plain": [
       "<Figure size 640x480 with 1 Axes>"
      ]
     },
     "metadata": {},
     "output_type": "display_data"
    }
   ],
   "source": [
    "#Análisis de distribución temporal de los datos aplicados a Premium Choice en el segmento de ventas\n",
    "df_ventas_2024['mes'] = df_ventas_2024['defecha'].dt.to_period('M')\n",
    "df_ventas_2024['mes'].value_counts().sort_index().plot(kind='bar', title='Volumen de ventas por mes')\n"
   ]
  },
  {
   "cell_type": "code",
   "execution_count": 12,
   "metadata": {},
   "outputs": [
    {
     "data": {
      "application/vnd.microsoft.datawrangler.viewer.v0+json": {
       "columns": [
        {
         "name": "cliente",
         "rawType": "object",
         "type": "string"
        },
        {
         "name": "frecuencia",
         "rawType": "int64",
         "type": "integer"
        },
        {
         "name": "monto_total",
         "rawType": "float64",
         "type": "float"
        }
       ],
       "ref": "3c64896d-bcb8-49e9-a763-db95c858b460",
       "rows": [
        [
         "CENCOSUD COLOMBIA S.A.",
         "1491",
         "5233002175.0"
        ],
        [
         "VENTA MOSTRADOR - P.O.S.",
         "51810",
         "4609882072.35"
        ],
        [
         "ALMACENES EXITO S A",
         "318",
         "1793788203.0"
        ],
        [
         "SUPERTIENDAS CAÑAVERAL SAS",
         "254",
         "1150595743.0"
        ],
        [
         "INVERSIONES EURO S. A.",
         "226",
         "721463687.0"
        ],
        [
         "SUPER A LIMITADA",
         "93",
         "483338959.0"
        ],
        [
         "DLK S.A.S.",
         "680",
         "384193915.0"
        ],
        [
         "AMORE GROUP S.A.S.",
         "106",
         "331870742.0"
        ],
        [
         "MERA EL DORADO S.A.S.",
         "104",
         "312969579.0"
        ],
        [
         "FARMATODO COLOMBIA S.A.",
         "39",
         "266182333.94"
        ]
       ],
       "shape": {
        "columns": 2,
        "rows": 10
       }
      },
      "text/html": [
       "<div>\n",
       "<style scoped>\n",
       "    .dataframe tbody tr th:only-of-type {\n",
       "        vertical-align: middle;\n",
       "    }\n",
       "\n",
       "    .dataframe tbody tr th {\n",
       "        vertical-align: top;\n",
       "    }\n",
       "\n",
       "    .dataframe thead th {\n",
       "        text-align: right;\n",
       "    }\n",
       "</style>\n",
       "<table border=\"1\" class=\"dataframe\">\n",
       "  <thead>\n",
       "    <tr style=\"text-align: right;\">\n",
       "      <th></th>\n",
       "      <th>frecuencia</th>\n",
       "      <th>monto_total</th>\n",
       "    </tr>\n",
       "    <tr>\n",
       "      <th>cliente</th>\n",
       "      <th></th>\n",
       "      <th></th>\n",
       "    </tr>\n",
       "  </thead>\n",
       "  <tbody>\n",
       "    <tr>\n",
       "      <th>CENCOSUD COLOMBIA S.A.</th>\n",
       "      <td>1491</td>\n",
       "      <td>5.233002e+09</td>\n",
       "    </tr>\n",
       "    <tr>\n",
       "      <th>VENTA MOSTRADOR - P.O.S.</th>\n",
       "      <td>51810</td>\n",
       "      <td>4.609882e+09</td>\n",
       "    </tr>\n",
       "    <tr>\n",
       "      <th>ALMACENES EXITO S A</th>\n",
       "      <td>318</td>\n",
       "      <td>1.793788e+09</td>\n",
       "    </tr>\n",
       "    <tr>\n",
       "      <th>SUPERTIENDAS CAÑAVERAL SAS</th>\n",
       "      <td>254</td>\n",
       "      <td>1.150596e+09</td>\n",
       "    </tr>\n",
       "    <tr>\n",
       "      <th>INVERSIONES EURO S. A.</th>\n",
       "      <td>226</td>\n",
       "      <td>7.214637e+08</td>\n",
       "    </tr>\n",
       "    <tr>\n",
       "      <th>SUPER A LIMITADA</th>\n",
       "      <td>93</td>\n",
       "      <td>4.833390e+08</td>\n",
       "    </tr>\n",
       "    <tr>\n",
       "      <th>DLK S.A.S.</th>\n",
       "      <td>680</td>\n",
       "      <td>3.841939e+08</td>\n",
       "    </tr>\n",
       "    <tr>\n",
       "      <th>AMORE GROUP S.A.S.</th>\n",
       "      <td>106</td>\n",
       "      <td>3.318707e+08</td>\n",
       "    </tr>\n",
       "    <tr>\n",
       "      <th>MERA EL DORADO S.A.S.</th>\n",
       "      <td>104</td>\n",
       "      <td>3.129696e+08</td>\n",
       "    </tr>\n",
       "    <tr>\n",
       "      <th>FARMATODO COLOMBIA S.A.</th>\n",
       "      <td>39</td>\n",
       "      <td>2.661823e+08</td>\n",
       "    </tr>\n",
       "  </tbody>\n",
       "</table>\n",
       "</div>"
      ],
      "text/plain": [
       "                            frecuencia   monto_total\n",
       "cliente                                             \n",
       "CENCOSUD COLOMBIA S.A.            1491  5.233002e+09\n",
       "VENTA MOSTRADOR - P.O.S.         51810  4.609882e+09\n",
       "ALMACENES EXITO S A                318  1.793788e+09\n",
       "SUPERTIENDAS CAÑAVERAL SAS         254  1.150596e+09\n",
       "INVERSIONES EURO S. A.             226  7.214637e+08\n",
       "SUPER A LIMITADA                    93  4.833390e+08\n",
       "DLK S.A.S.                         680  3.841939e+08\n",
       "AMORE GROUP S.A.S.                 106  3.318707e+08\n",
       "MERA EL DORADO S.A.S.              104  3.129696e+08\n",
       "FARMATODO COLOMBIA S.A.             39  2.661823e+08"
      ]
     },
     "metadata": {},
     "output_type": "display_data"
    }
   ],
   "source": [
    "#Análisis de RFM Preliminar aplicado a Premium Choice \n",
    "#Identificacion del comportamiento de distribuciones y ventas con frecuencias por cliente cada mes aplicados a Premium Choice \n",
    "#Se establece la frecuencia de compras aplicada por cliente como tambien el monto total vendido por cliente \n",
    "rfm = df_ventas_2024.groupby('cliente').agg({\n",
    "    'documento': 'count',\n",
    "    'total': 'sum'\n",
    "}).rename(columns={'documento': 'frecuencia', 'total': 'monto_total'}).sort_values('monto_total', ascending=False)\n",
    "display(rfm.head(10))\n",
    "\n"
   ]
  },
  {
   "cell_type": "code",
   "execution_count": 13,
   "metadata": {},
   "outputs": [
    {
     "name": "stdout",
     "output_type": "stream",
     "text": [
      "Duplicados lógicos: 0\n"
     ]
    }
   ],
   "source": [
    "#Verificacion de los duplicados logicos en el comportamiento con el ciente\n",
    "#Establecer la congruencia entre lo que seria los duplicados logicos (por cliente+fecha+documento)\n",
    "duplicados_logicos = df_ventas_2024.duplicated(subset=['cliente', 'defecha', 'documento']).sum()\n",
    "print(f\"Duplicados lógicos: {duplicados_logicos}\")\n"
   ]
  },
  {
   "cell_type": "code",
   "execution_count": 14,
   "metadata": {},
   "outputs": [
    {
     "data": {
      "application/vnd.microsoft.datawrangler.viewer.v0+json": {
       "columns": [
        {
         "name": "index",
         "rawType": "object",
         "type": "string"
        },
        {
         "name": "check_total",
         "rawType": "float64",
         "type": "float"
        }
       ],
       "ref": "6c2876da-b661-4364-a263-d7b7c9b75948",
       "rows": [
        [
         "count",
         "59011.0"
        ],
        [
         "mean",
         "3.3907040109478607e-15"
        ],
        [
         "std",
         "3.731859046677639e-13"
        ],
        [
         "min",
         "0.0"
        ],
        [
         "25%",
         "0.0"
        ],
        [
         "50%",
         "0.0"
        ],
        [
         "75%",
         "0.0"
        ],
        [
         "max",
         "5.820766091346741e-11"
        ]
       ],
       "shape": {
        "columns": 1,
        "rows": 8
       }
      },
      "text/plain": [
       "count    5.901100e+04\n",
       "mean     3.390704e-15\n",
       "std      3.731859e-13\n",
       "min      0.000000e+00\n",
       "25%      0.000000e+00\n",
       "50%      0.000000e+00\n",
       "75%      0.000000e+00\n",
       "max      5.820766e-11\n",
       "Name: check_total, dtype: float64"
      ]
     },
     "execution_count": 14,
     "metadata": {},
     "output_type": "execute_result"
    }
   ],
   "source": [
    "#Verificacion de consistencias aplicadas al comportamiento de los clientes de premium choice \n",
    "#Establecer las consistencias entre el subtotal y la suma de otros valores aplicados en las ventas\n",
    "df_ventas_2024['check_total'] = (df_ventas_2024['vr_gravado'] + df_ventas_2024['vr_nogravado']) - df_ventas_2024['subtotal']\n",
    "df_ventas_2024['check_total'].abs().describe()  # Debería estar cerca de cero\n"
   ]
  },
  {
   "cell_type": "code",
   "execution_count": 15,
   "metadata": {},
   "outputs": [
    {
     "data": {
      "text/plain": [
       "<Axes: title={'center': 'Total vendido por mes'}, xlabel='mes'>"
      ]
     },
     "execution_count": 15,
     "metadata": {},
     "output_type": "execute_result"
    },
    {
     "data": {
      "image/png": "[encoded data removed]",
      "text/plain": [
       "<Figure size 640x480 with 1 Axes>"
      ]
     },
     "metadata": {},
     "output_type": "display_data"
    }
   ],
   "source": [
    "#Analisis temporal mas profundo de las ventas en premium choice \n",
    "#Presentacion de un analisis temporal mas profundo presentando un grafico de evolucion de ventas mensual (suma del total vendido)\n",
    "df_ventas_2024.groupby('mes')['total'].sum().plot(kind='line', marker='o', title='Total vendido por mes')\n"
   ]
  },
  {
   "cell_type": "code",
   "execution_count": null,
   "metadata": {},
   "outputs": [
    {
     "name": "stdout",
     "output_type": "stream",
     "text": [
      "                            frecuencia   monto_total  recency_dias  \\\n",
      "cliente                                                              \n",
      "CENCOSUD COLOMBIA S.A.            1491  5.233002e+09             1   \n",
      "VENTA MOSTRADOR - P.O.S.         51810  4.609882e+09             0   \n",
      "ALMACENES EXITO S A                318  1.793788e+09             5   \n",
      "SUPERTIENDAS CAÑAVERAL SAS         254  1.150596e+09             1   \n",
      "INVERSIONES EURO S. A.             226  7.214637e+08            14   \n",
      "SUPER A LIMITADA                    93  4.833390e+08            14   \n",
      "DLK S.A.S.                         680  3.841939e+08             5   \n",
      "AMORE GROUP S.A.S.                 106  3.318707e+08             8   \n",
      "MERA EL DORADO S.A.S.              104  3.129696e+08             8   \n",
      "FARMATODO COLOMBIA S.A.             39  2.661823e+08            19   \n",
      "\n",
      "                            recency_semanas  recency_meses  \n",
      "cliente                                                     \n",
      "CENCOSUD COLOMBIA S.A.                    0            0.0  \n",
      "VENTA MOSTRADOR - P.O.S.                  0            0.0  \n",
      "ALMACENES EXITO S A                       0            0.2  \n",
      "SUPERTIENDAS CAÑAVERAL SAS                0            0.0  \n",
      "INVERSIONES EURO S. A.                    2            0.5  \n",
      "SUPER A LIMITADA                          2            0.5  \n",
      "DLK S.A.S.                                0            0.2  \n",
      "AMORE GROUP S.A.S.                        1            0.3  \n",
      "MERA EL DORADO S.A.S.                     1            0.3  \n",
      "FARMATODO COLOMBIA S.A.                   2            0.6  \n"
     ]
    }
   ],
   "source": [
    "#Analisis por cliente mas detallado y completo asociado con Premium Choice \n",
    "#Calculo de Recency (Identificacion de cuando fue la ultima compra del cliente) Ideal para determinar que tan reciente compra el cliente\n",
    "#El calculo del recency es una medida en días y tambien en meses\n",
    "# Análisis por cliente más detallado y completo asociado con Premium Choice\n",
    "# Cálculo de Recency (Identificación de cuándo fue la última compra del cliente) en días, semanas y meses\n",
    "\n",
    "from datetime import datetime\n",
    "\n",
    "fecha_max = df_ventas_2024['defecha'].max()\n",
    "\n",
    "# Recency en días\n",
    "rfm['recency_dias'] = df_ventas_2024.groupby('cliente')['defecha'].max().apply(lambda x: (fecha_max - x).days)\n",
    "\n",
    "# Recency en semanas (división entera)\n",
    "rfm['recency_semanas'] = (rfm['recency_dias'] // 7)\n",
    "\n",
    "# Recency en meses (aproximado)\n",
    "rfm['recency_meses'] = (rfm['recency_dias'] / 30).round(1)\n",
    "\n",
    "# Mostrar los primeros 10 clientes con las tres métricas\n",
    "print(rfm[['frecuencia', 'monto_total', 'recency_dias', 'recency_semanas', 'recency_meses']].head(10))\n",
    "\n"
   ]
  },
  {
   "cell_type": "code",
   "execution_count": 17,
   "metadata": {},
   "outputs": [
    {
     "data": {
      "application/vnd.microsoft.datawrangler.viewer.v0+json": {
       "columns": [
        {
         "name": "vendedor",
         "rawType": "object",
         "type": "string"
        },
        {
         "name": "total",
         "rawType": "float64",
         "type": "float"
        }
       ],
       "ref": "85689f88-6df6-4e7f-a9ec-94baf1746eb7",
       "rows": [
        [
         "BODEGA PRINCIPAL",
         "7455110887.0"
        ],
        [
         "ALZATE  ELENA",
         "4255401162.0"
        ],
        [
         "PELAEZ PARRA CLAUDIA",
         "1391466763.0"
        ],
        [
         "CAVA 125",
         "1052725109.22"
        ],
        [
         "VENDEDOR MOSTRADOR - P.O.S.",
         "1036024515.62"
        ],
        [
         "BODEGA MEDELLIN",
         "956486202.0"
        ],
        [
         "GONZALEZ ACEVEDO LUISA FERNANDA",
         "562671083.81"
        ],
        [
         "SALON 125",
         "539369506.97"
        ],
        [
         "MAESTRI ALVARADO VALTER GLULIANO",
         "463636542.46"
        ],
        [
         "BODEGA CALI",
         "372592544.0"
        ]
       ],
       "shape": {
        "columns": 1,
        "rows": 10
       }
      },
      "text/plain": [
       "vendedor\n",
       "BODEGA PRINCIPAL                    7.455111e+09\n",
       "ALZATE  ELENA                       4.255401e+09\n",
       "PELAEZ PARRA CLAUDIA                1.391467e+09\n",
       "CAVA 125                            1.052725e+09\n",
       "VENDEDOR MOSTRADOR - P.O.S.         1.036025e+09\n",
       "BODEGA MEDELLIN                     9.564862e+08\n",
       "GONZALEZ ACEVEDO LUISA FERNANDA     5.626711e+08\n",
       "SALON 125                           5.393695e+08\n",
       "MAESTRI ALVARADO VALTER GLULIANO    4.636365e+08\n",
       "BODEGA CALI                         3.725925e+08\n",
       "Name: total, dtype: float64"
      ]
     },
     "execution_count": 17,
     "metadata": {},
     "output_type": "execute_result"
    }
   ],
   "source": [
    "#Análisis por vendedor asociado a Premium Choice \n",
    "#Identificacion de cuales vendedores estan genrando mas ventas? Esto puede usarse para establecer una estrategia de comisiones o rendimiento\n",
    "df_ventas_2024.groupby('vendedor')['total'].sum().sort_values(ascending=False).head(10)\n"
   ]
  }
 ],
 "metadata": {
  "kernelspec": {
   "display_name": "3.10.14",
   "language": "python",
   "name": "python3"
  },
  "language_info": {
   "codemirror_mode": {
    "name": "ipython",
    "version": 3
   },
   "file_extension": ".py",
   "mimetype": "text/x-python",
   "name": "python",
   "nbconvert_exporter": "python",
   "pygments_lexer": "ipython3",
   "version": "3.10.14"
  }
 },
 "nbformat": 4,
 "nbformat_minor": 2
}
