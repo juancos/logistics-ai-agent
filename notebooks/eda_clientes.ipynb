{
 "cells": [
  {
   "cell_type": "code",
   "execution_count": 4,
   "metadata": {},
   "outputs": [],
   "source": [
    "#Importacion de librerias para el analisis de informacion de clientes de Premium Choice \n",
    "import pandas as pd\n",
    "import os\n",
    "\n"
   ]
  },
  {
   "cell_type": "code",
   "execution_count": 5,
   "metadata": {},
   "outputs": [],
   "source": [
    "from pathlib import Path\n",
    "import pandas as pd\n",
    "\n",
    "# Ruta base\n",
    "ruta_base = Path(\"../data/raw\")  # 👈 Esta es la ubicación real\n",
    "\n",
    "\n",
    "# Archivos relevantes (puedes ajustar si deseas incluir otros años)\n",
    "archivos_ventas = sorted([\n",
    "    archivo for archivo in ruta_base.glob(\"ventas_dcto_items_202*.xlsx\")\n",
    "])\n",
    "\n",
    "# Consolidar ventas\n",
    "ventas = pd.concat(\n",
    "    [pd.read_excel(f, engine=\"openpyxl\") for f in archivos_ventas],\n",
    "    ignore_index=True\n",
    ")\n",
    "\n",
    "# Revisar columnas clave\n",
    "ventas = ventas[['cod_cliente', 'cliente', 'defecha', 'cantidad', 'subtotal']]\n",
    "ventas['defecha'] = pd.to_datetime(ventas['defecha'], errors='coerce')\n",
    "ventas = ventas.dropna(subset=['defecha'])\n",
    "ventas['mes'] = ventas['defecha'].dt.to_period('M')\n",
    "\n",
    "\n"
   ]
  },
  {
   "cell_type": "code",
   "execution_count": 6,
   "metadata": {},
   "outputs": [],
   "source": [
    "#Calculo del comportamiento mensua del cliente\n",
    "# Agregación mensual por cliente\n",
    "cliente_mensual = ventas.groupby(['cod_cliente', 'mes']).agg({\n",
    "    'cantidad': 'sum',\n",
    "    'subtotal': 'sum'\n",
    "}).reset_index()\n",
    "\n",
    "# Métricas consolidadas por cliente\n",
    "resumen = cliente_mensual.groupby('cod_cliente').agg({\n",
    "    'mes': 'nunique',  # Cuántos meses distintos ha comprado\n",
    "    'cantidad': 'mean',\n",
    "    'subtotal': 'mean'\n",
    "}).reset_index()\n",
    "\n",
    "resumen.columns = ['cod_cliente', 'meses_con_compra', 'prom_cantidad_mensual', 'prom_gasto_mensual']\n"
   ]
  },
  {
   "cell_type": "code",
   "execution_count": 7,
   "metadata": {},
   "outputs": [
    {
     "name": "stderr",
     "output_type": "stream",
     "text": [
      "/var/folders/fl/4p9gdc5d3wj63rppd6xjpnmh0000gn/T/ipykernel_7000/191825516.py:7: UserWarning: This pattern is interpreted as a regular expression, and has match groups. To actually get the groups, use str.extract.\n",
      "  resumen['es_nombre_empresa'] = resumen['cliente'].str.contains(\n"
     ]
    }
   ],
   "source": [
    "#Añadir el nombre del cliente y clasificar B2B probable\n",
    "# Nombre de cliente desde ventas\n",
    "nombres = ventas[['cod_cliente', 'cliente']].drop_duplicates()\n",
    "resumen = resumen.merge(nombres, on='cod_cliente', how='left')\n",
    "\n",
    "# Heurística textual (empresas típicas B2B)\n",
    "resumen['es_nombre_empresa'] = resumen['cliente'].str.contains(\n",
    "    r'\\b(S[\\s\\.]?A[\\s\\.]?S|SAS|S\\.A\\.S\\.?|LTDA|LIMITADA|S\\.A|SA|SOCIEDAD\\s+ANONIMA|EMPRESA|DISTRIBUIDORA|INDUSTRIA|CORP|COMPAÑ[ÍI]A|IMPORTADORA|EXPORTADORA)\\b',\n",
    "    case=False,\n",
    "    na=False\n",
    ")\n",
    "\n",
    "# Clasificación B2B tentativa\n",
    "resumen['es_b2b_probable'] = (\n",
    "    (resumen['meses_con_compra'] > 8) |\n",
    "    (resumen['prom_cantidad_mensual'] > 300) |\n",
    "    (resumen['prom_gasto_mensual'] > 2_000_000) |\n",
    "    (resumen['es_nombre_empresa'])\n",
    ")\n"
   ]
  },
  {
   "cell_type": "code",
   "execution_count": 8,
   "metadata": {},
   "outputs": [
    {
     "name": "stderr",
     "output_type": "stream",
     "text": [
      "/var/folders/fl/4p9gdc5d3wj63rppd6xjpnmh0000gn/T/ipykernel_7000/3349300399.py:1: UserWarning: This pattern is interpreted as a regular expression, and has match groups. To actually get the groups, use str.extract.\n",
      "  resumen['es_nombre_empresa'] = resumen['cliente'].str.contains(\n"
     ]
    }
   ],
   "source": [
    "resumen['es_nombre_empresa'] = resumen['cliente'].str.contains(\n",
    "    r'\\b(S\\.?A\\.?S?\\.?|LTDA|EMPRESA|DISTRIBUIDORA?|IMPORTADORA?|INDUSTRIA)\\b',\n",
    "    case=False, na=False\n",
    ")\n",
    "\n"
   ]
  },
  {
   "cell_type": "code",
   "execution_count": 9,
   "metadata": {},
   "outputs": [
    {
     "data": {
      "application/vnd.microsoft.datawrangler.viewer.v0+json": {
       "columns": [
        {
         "name": "index",
         "rawType": "object",
         "type": "string"
        },
        {
         "name": "prom_gasto_mensual",
         "rawType": "float64",
         "type": "float"
        }
       ],
       "ref": "d79428d4-b849-49af-965b-c9c468f2cf50",
       "rows": [
        [
         "count",
         "689.0"
        ],
        [
         "mean",
         "2811885.7810596414"
        ],
        [
         "std",
         "14476543.495514626"
        ],
        [
         "min",
         "-4313441.0"
        ],
        [
         "25%",
         "192875.23076923078"
        ],
        [
         "50%",
         "629479.6666666666"
        ],
        [
         "75%",
         "1445572.9142857143"
        ],
        [
         "max",
         "230000000.0"
        ]
       ],
       "shape": {
        "columns": 1,
        "rows": 8
       }
      },
      "text/plain": [
       "count    6.890000e+02\n",
       "mean     2.811886e+06\n",
       "std      1.447654e+07\n",
       "min     -4.313441e+06\n",
       "25%      1.928752e+05\n",
       "50%      6.294797e+05\n",
       "75%      1.445573e+06\n",
       "max      2.300000e+08\n",
       "Name: prom_gasto_mensual, dtype: float64"
      ]
     },
     "execution_count": 9,
     "metadata": {},
     "output_type": "execute_result"
    }
   ],
   "source": [
    "#Exploracion de la distribucion de los patrones nulos \n",
    "# Revisión rápida de estadísticas\n",
    "resumen['prom_gasto_mensual'].describe()\n"
   ]
  },
  {
   "cell_type": "code",
   "execution_count": 10,
   "metadata": {},
   "outputs": [
    {
     "name": "stdout",
     "output_type": "stream",
     "text": [
      "Nulos: 0\n",
      "Negativos: 70\n"
     ]
    }
   ],
   "source": [
    "#Revision de datos nulos o extremadamente grandes\n",
    "# ¿Hay nulos o negativos?\n",
    "print(\"Nulos:\", resumen['prom_gasto_mensual'].isnull().sum())\n",
    "print(\"Negativos:\", (resumen['prom_gasto_mensual'] < 0).sum())\n"
   ]
  },
  {
   "cell_type": "code",
   "execution_count": 11,
   "metadata": {},
   "outputs": [
    {
     "data": {
      "image/png": "[encoded data removed]",
      "text/plain": [
       "<Figure size 1000x500 with 1 Axes>"
      ]
     },
     "metadata": {},
     "output_type": "display_data"
    }
   ],
   "source": [
    "#Visualizacion de la distribución de los datos\n",
    "import matplotlib.pyplot as plt\n",
    "import seaborn as sns\n",
    "\n",
    "plt.figure(figsize=(10,5))\n",
    "sns.histplot(resumen['prom_gasto_mensual'], bins=50, kde=True)\n",
    "plt.title(\"Distribución de Gasto Promedio Mensual\")\n",
    "plt.xlabel(\"Gasto mensual\")\n",
    "plt.show()\n"
   ]
  },
  {
   "cell_type": "code",
   "execution_count": 12,
   "metadata": {},
   "outputs": [
    {
     "name": "stdout",
     "output_type": "stream",
     "text": [
      "             count          mean           std           min           25%  \\\n",
      "nivel_gasto                                                                  \n",
      "alto          11.0  2.714800e+07  8.472423e+06  1.870003e+07  1.958265e+07   \n",
      "bajo         563.0  9.486066e+05  9.340533e+05  0.000000e+00  2.808209e+05   \n",
      "medio         38.0  7.828720e+06  3.213324e+06  4.512761e+06  5.360817e+06   \n",
      "\n",
      "                      50%           75%           max  \n",
      "nivel_gasto                                            \n",
      "alto         2.469084e+07  3.412859e+07  3.976600e+07  \n",
      "bajo         6.453733e+05  1.254801e+06  4.340080e+06  \n",
      "medio        6.668747e+06  9.605286e+06  1.519099e+07  \n"
     ]
    },
    {
     "data": {
      "image/png": "[encoded data removed]",
      "text/plain": [
       "<Figure size 1000x500 with 1 Axes>"
      ]
     },
     "metadata": {},
     "output_type": "display_data"
    }
   ],
   "source": [
    "from sklearn.cluster import KMeans\n",
    "import numpy as np\n",
    "\n",
    "# Paso 1: limpiar negativos\n",
    "resumen_filtrado = resumen[resumen['prom_gasto_mensual'] >= 0].copy()\n",
    "\n",
    "# Paso 2: opcional - limitar el percentil 99 para evitar distorsión de outliers\n",
    "p99 = resumen_filtrado['prom_gasto_mensual'].quantile(0.99)\n",
    "resumen_filtrado = resumen_filtrado[resumen_filtrado['prom_gasto_mensual'] <= p99]\n",
    "\n",
    "# Paso 3: aplicar KMeans con 3 clusters\n",
    "X = resumen_filtrado[['prom_gasto_mensual']]\n",
    "kmeans = KMeans(n_clusters=3, random_state=42)\n",
    "resumen_filtrado['cluster'] = kmeans.fit_predict(X)\n",
    "\n",
    "# Paso 4: analizar los clusters\n",
    "centroides = kmeans.cluster_centers_.flatten()\n",
    "cluster_ordenado = np.argsort(centroides)  # de menor a mayor\n",
    "\n",
    "# Asignamos nombres a los clusters según gasto\n",
    "cluster_map = {cluster_ordenado[0]: 'bajo', cluster_ordenado[1]: 'medio', cluster_ordenado[2]: 'alto'}\n",
    "resumen_filtrado['nivel_gasto'] = resumen_filtrado['cluster'].map(cluster_map)\n",
    "\n",
    "# Visualizar resumen de cada grupo\n",
    "print(resumen_filtrado.groupby('nivel_gasto')['prom_gasto_mensual'].describe())\n",
    "\n",
    "# Visualizar en gráfico\n",
    "import matplotlib.pyplot as plt\n",
    "import seaborn as sns\n",
    "\n",
    "plt.figure(figsize=(10,5))\n",
    "sns.histplot(data=resumen_filtrado, x='prom_gasto_mensual', hue='nivel_gasto', bins=50, palette='Set2')\n",
    "plt.title(\"Clusters de Gasto Promedio Mensual\")\n",
    "plt.xlabel(\"Gasto mensual\")\n",
    "plt.show()\n"
   ]
  },
  {
   "cell_type": "code",
   "execution_count": 14,
   "metadata": {},
   "outputs": [
    {
     "name": "stdout",
     "output_type": "stream",
     "text": [
      "Cluster 0 (medio): promedio de gasto mensual = 7,828,720\n",
      "Cluster 1 (bajo): promedio de gasto mensual = 948,607\n",
      "Cluster 2 (alto): promedio de gasto mensual = 27,148,002\n"
     ]
    },
    {
     "data": {
      "application/vnd.microsoft.datawrangler.viewer.v0+json": {
       "columns": [
        {
         "name": "index",
         "rawType": "int64",
         "type": "integer"
        },
        {
         "name": "Cluster",
         "rawType": "object",
         "type": "string"
        },
        {
         "name": "Promedio_gasto_mensual",
         "rawType": "float64",
         "type": "float"
        },
        {
         "name": "Promedio_gasto_anual",
         "rawType": "float64",
         "type": "float"
        }
       ],
       "ref": "260aa936-4d71-44c3-a768-e63eacd38c40",
       "rows": [
        [
         "0",
         "Bajo",
         "948606.6057734807",
         "11383279.26928177"
        ],
        [
         "1",
         "Medio",
         "7828720.16709808",
         "93944642.00517696"
        ],
        [
         "2",
         "Alto",
         "27148001.765788723",
         "325776021.1894647"
        ]
       ],
       "shape": {
        "columns": 3,
        "rows": 3
       }
      },
      "text/html": [
       "<div>\n",
       "<style scoped>\n",
       "    .dataframe tbody tr th:only-of-type {\n",
       "        vertical-align: middle;\n",
       "    }\n",
       "\n",
       "    .dataframe tbody tr th {\n",
       "        vertical-align: top;\n",
       "    }\n",
       "\n",
       "    .dataframe thead th {\n",
       "        text-align: right;\n",
       "    }\n",
       "</style>\n",
       "<table border=\"1\" class=\"dataframe\">\n",
       "  <thead>\n",
       "    <tr style=\"text-align: right;\">\n",
       "      <th></th>\n",
       "      <th>Cluster</th>\n",
       "      <th>Promedio_gasto_mensual</th>\n",
       "      <th>Promedio_gasto_anual</th>\n",
       "    </tr>\n",
       "  </thead>\n",
       "  <tbody>\n",
       "    <tr>\n",
       "      <th>0</th>\n",
       "      <td>Bajo</td>\n",
       "      <td>9.486066e+05</td>\n",
       "      <td>1.138328e+07</td>\n",
       "    </tr>\n",
       "    <tr>\n",
       "      <th>1</th>\n",
       "      <td>Medio</td>\n",
       "      <td>7.828720e+06</td>\n",
       "      <td>9.394464e+07</td>\n",
       "    </tr>\n",
       "    <tr>\n",
       "      <th>2</th>\n",
       "      <td>Alto</td>\n",
       "      <td>2.714800e+07</td>\n",
       "      <td>3.257760e+08</td>\n",
       "    </tr>\n",
       "  </tbody>\n",
       "</table>\n",
       "</div>"
      ],
      "text/plain": [
       "  Cluster  Promedio_gasto_mensual  Promedio_gasto_anual\n",
       "0    Bajo            9.486066e+05          1.138328e+07\n",
       "1   Medio            7.828720e+06          9.394464e+07\n",
       "2    Alto            2.714800e+07          3.257760e+08"
      ]
     },
     "execution_count": 14,
     "metadata": {},
     "output_type": "execute_result"
    }
   ],
   "source": [
    "# Crear carpeta outputs si no existe\n",
    "import os\n",
    "os.makedirs(\"outputs\", exist_ok=True)\n",
    "\n",
    "# Mostrar umbrales del KMeans\n",
    "for i, centroide in enumerate(centroides):\n",
    "    print(f\"Cluster {i} ({cluster_map[i]}): promedio de gasto mensual = {centroide:,.0f}\")\n",
    "\n",
    "# También exportarlo a Excel para mostrárselo al gerente\n",
    "df_centroides = pd.DataFrame({\n",
    "    'Cluster': ['Bajo', 'Medio', 'Alto'],\n",
    "    'Promedio_gasto_mensual': sorted(centroides)\n",
    "})\n",
    "\n",
    "df_centroides['Promedio_gasto_anual'] = df_centroides['Promedio_gasto_mensual'] * 12\n",
    "\n",
    "df_centroides.to_excel(\"./outputs/centroides_kmeans_clientes.xlsx\", index=False)\n",
    "df_centroides\n",
    "\n"
   ]
  },
  {
   "cell_type": "code",
   "execution_count": 15,
   "metadata": {},
   "outputs": [
    {
     "data": {
      "image/png": "[encoded data removed]",
      "text/plain": [
       "<Figure size 1000x600 with 1 Axes>"
      ]
     },
     "metadata": {},
     "output_type": "display_data"
    }
   ],
   "source": [
    "# Visualización de los clusters en boxplot\n",
    "import seaborn as sns\n",
    "import matplotlib.pyplot as plt\n",
    "\n",
    "plt.figure(figsize=(10, 6))\n",
    "sns.boxplot(x='nivel_gasto', y='prom_gasto_mensual', data=resumen_filtrado)\n",
    "plt.title(\"Distribución del Gasto Promedio Mensual por Cluster de Cliente\")\n",
    "plt.xlabel(\"Nivel de Gasto (Cluster)\")\n",
    "plt.ylabel(\"Gasto Promedio Mensual (COP)\")\n",
    "plt.grid(axis='y')\n",
    "plt.show()\n"
   ]
  },
  {
   "cell_type": "code",
   "execution_count": 16,
   "metadata": {},
   "outputs": [],
   "source": [
    "#Exportacion del archivo en excel asociado con el nivel de gasto de los clientes basado en las categorias asignadas de los clusters }\n",
    "# 1. Agregar la columna nivel_gasto a todo el resumen\n",
    "resumen = resumen.merge(\n",
    "    resumen_filtrado[['cod_cliente', 'nivel_gasto']],\n",
    "    on='cod_cliente',\n",
    "    how='left'\n",
    ")\n",
    "\n",
    "# 2. Llenar valores vacíos como 'no_clasificado'\n",
    "resumen['nivel_gasto'] = resumen['nivel_gasto'].fillna('no_clasificado')\n",
    "\n",
    "# 3. Calcular prom_gasto_anual\n",
    "resumen['prom_gasto_anual'] = resumen['prom_gasto_mensual'] * 12\n",
    "\n",
    "# 4. Seleccionar columnas a exportar\n",
    "columnas_exportar = [\n",
    "    'cod_cliente', 'cliente', \n",
    "    'prom_cantidad_mensual', 'prom_gasto_mensual', 'prom_gasto_anual', \n",
    "    'nivel_gasto'\n",
    "]\n",
    "\n",
    "# 5. Exportar a Excel\n",
    "resumen[columnas_exportar].to_excel(\"./outputs/clientes_segmentados_con_clusters.xlsx\", index=False)\n"
   ]
  },
  {
   "cell_type": "code",
   "execution_count": 40,
   "metadata": {},
   "outputs": [],
   "source": [
    "resumen = resumen.merge(\n",
    "    resumen_filtrado[['cod_cliente', 'nivel_gasto']],\n",
    "    on='cod_cliente',\n",
    "    how='left'\n",
    ")\n"
   ]
  },
  {
   "cell_type": "code",
   "execution_count": 41,
   "metadata": {},
   "outputs": [],
   "source": [
    "# Llenar los valores no asignados con 'no_clasificado'\n",
    "resumen['nivel_gasto'] = resumen['nivel_gasto'].fillna('no_clasificado')\n"
   ]
  },
  {
   "cell_type": "code",
   "execution_count": 42,
   "metadata": {},
   "outputs": [],
   "source": [
    "# Asignar comentario estratégico\n",
    "def clasificar_cliente(row):\n",
    "    if row['nivel_gasto'] == 'alto' and row['es_b2b_probable']:\n",
    "        return '🟢 Cliente ideal B2B'\n",
    "    elif row['nivel_gasto'] == 'medio':\n",
    "        return '🟡 Cliente potencial a desarrollar'\n",
    "    elif row['nivel_gasto'] == 'bajo':\n",
    "        return '🔘 Cliente pequeño o marginal'\n",
    "    elif row['nivel_gasto'] == 'no_clasificado':\n",
    "        return '🔴 Cliente con datos negativos o inconsistentes'\n",
    "    else:\n",
    "        return 'Sin clasificación'\n",
    "\n",
    "resumen['comentario_estrategico'] = resumen.apply(clasificar_cliente, axis=1)\n"
   ]
  },
  {
   "cell_type": "code",
   "execution_count": null,
   "metadata": {},
   "outputs": [],
   "source": []
  },
  {
   "cell_type": "code",
   "execution_count": 43,
   "metadata": {},
   "outputs": [],
   "source": [
    "resumen['prom_gasto_anual'] = resumen['prom_gasto_mensual'] * 12\n"
   ]
  },
  {
   "cell_type": "code",
   "execution_count": 44,
   "metadata": {},
   "outputs": [],
   "source": [
    "columnas_exportar = [\n",
    "    'cod_cliente', 'cliente',\n",
    "    'meses_con_compra', 'prom_cantidad_mensual',\n",
    "    'prom_gasto_mensual', 'prom_gasto_anual',\n",
    "    'nivel_gasto', 'es_nombre_empresa', 'es_b2b_probable', 'comentario_estrategico'  \n",
    "]\n",
    "\n",
    "resumen[columnas_exportar].to_excel(\"../outputs/clientes_segmentados_final.xlsx\", index=False)\n"
   ]
  },
  {
   "cell_type": "code",
   "execution_count": 15,
   "metadata": {},
   "outputs": [
    {
     "data": {
      "image/png": "[encoded data removed]",
      "text/plain": [
       "<Figure size 1200x600 with 1 Axes>"
      ]
     },
     "metadata": {},
     "output_type": "display_data"
    }
   ],
   "source": [
    "#Visualizacion de clientes probables y clientes no probables \n",
    "import seaborn as sns\n",
    "import matplotlib.pyplot as plt\n",
    "\n",
    "# Configuración general\n",
    "sns.set(style=\"whitegrid\")\n",
    "plt.figure(figsize=(12, 6))\n",
    "\n",
    "# Distribución de gasto mensual por tipo de cliente\n",
    "sns.boxplot(data=resumen, x='es_b2b_probable', y='prom_gasto_mensual')\n",
    "plt.title('Distribución del Gasto Mensual por Tipo de Cliente')\n",
    "plt.xlabel('¿Es B2B Probable?')\n",
    "plt.ylabel('Promedio de Gasto Mensual')\n",
    "plt.show()\n"
   ]
  },
  {
   "cell_type": "code",
   "execution_count": 16,
   "metadata": {},
   "outputs": [
    {
     "data": {
      "image/png": "[encoded data removed]",
      "text/plain": [
       "<Figure size 1200x600 with 1 Axes>"
      ]
     },
     "metadata": {},
     "output_type": "display_data"
    }
   ],
   "source": [
    "#Clientes Clasificados como B2B : Numero de meses con compra\n",
    "plt.figure(figsize=(12, 6))\n",
    "sns.histplot(data=resumen[resumen['es_b2b_probable']], x='meses_con_compra', bins=12, kde=True)\n",
    "plt.title('Distribución de Meses con Compra (Clientes B2B Probables)')\n",
    "plt.xlabel('Meses con Compra')\n",
    "plt.ylabel('Número de Clientes')\n",
    "plt.show()\n"
   ]
  },
  {
   "cell_type": "code",
   "execution_count": 17,
   "metadata": {},
   "outputs": [
    {
     "data": {
      "image/png": "[encoded data removed]",
      "text/plain": [
       "<Figure size 1200x600 with 1 Axes>"
      ]
     },
     "metadata": {},
     "output_type": "display_data"
    }
   ],
   "source": [
    "#Relacion entre gaso y frecuencia de clientes\n",
    "plt.figure(figsize=(12, 6))\n",
    "sns.scatterplot(data=resumen, x='meses_con_compra', y='prom_gasto_mensual', hue='es_b2b_probable', alpha=0.7)\n",
    "plt.title('Relación entre Frecuencia y Gasto Promedio Mensual')\n",
    "plt.xlabel('Meses con Compra')\n",
    "plt.ylabel('Promedio de Gasto Mensual')\n",
    "plt.legend(title='¿Es B2B?')\n",
    "plt.show()\n"
   ]
  },
  {
   "cell_type": "markdown",
   "metadata": {},
   "source": [
    "Revision estructural de los clientes\n",
    "\n",
    "Antes de ejecutar cualquier análisis, es esencial entender la estructura del archivo. Esto incluye:\n",
    "\n",
    "1. Las **columnas** que contiene el dataset.\n",
    "2. Los **tipos de datos** asociados a cada una, lo cual impacta directamente en el procesamiento y análisis posterior.\n"
   ]
  },
  {
   "cell_type": "code",
   "execution_count": 10,
   "metadata": {},
   "outputs": [
    {
     "name": "stdout",
     "output_type": "stream",
     "text": [
      "📌 Columnas del archivo (formato vertical):\n",
      "• codigo\n",
      "• razon social\n",
      "• direccion\n",
      "• nombre ciudad\n",
      "• cod ciudad\n",
      "• cupo\n",
      "• plazo\n",
      "• telefonos\n",
      "• contactos\n",
      "• telefonos.1\n",
      "• telefonos.2\n",
      "• email\n",
      "• vendedor\n",
      "• nit\n",
      "• dv\n",
      "• distrito\n",
      "• pais\n"
     ]
    }
   ],
   "source": [
    "#Identificacion de las columnas del archivo \n",
    "print(\"📌 Columnas del archivo (formato vertical):\")\n",
    "for col in df.columns:\n",
    "    print(f\"• {col}\")\n"
   ]
  },
  {
   "cell_type": "code",
   "execution_count": 9,
   "metadata": {},
   "outputs": [
    {
     "name": "stdout",
     "output_type": "stream",
     "text": [
      "🧠 Tipos de datos:\n",
      "codigo           object\n",
      "razon social     object\n",
      "direccion        object\n",
      "nombre ciudad    object\n",
      "cod ciudad        int64\n",
      "cupo              int64\n",
      "plazo             int64\n",
      "telefonos        object\n",
      "contactos        object\n",
      "telefonos.1      object\n",
      "telefonos.2      object\n",
      "email            object\n",
      "vendedor         object\n",
      "nit              object\n",
      "dv                int64\n",
      "distrito         object\n",
      "pais             object\n",
      "dtype: object\n"
     ]
    }
   ],
   "source": [
    "#Tipos de datos asociados en el archivo de clientes \n",
    "print(\"🧠 Tipos de datos:\")\n",
    "print(df.dtypes)\n"
   ]
  },
  {
   "cell_type": "code",
   "execution_count": 11,
   "metadata": {},
   "outputs": [
    {
     "name": "stdout",
     "output_type": "stream",
     "text": [
      "🔍 Primeras filas:\n"
     ]
    },
    {
     "data": {
      "application/vnd.microsoft.datawrangler.viewer.v0+json": {
       "columns": [
        {
         "name": "index",
         "rawType": "int64",
         "type": "integer"
        },
        {
         "name": "codigo",
         "rawType": "object",
         "type": "string"
        },
        {
         "name": "razon social",
         "rawType": "object",
         "type": "string"
        },
        {
         "name": "direccion",
         "rawType": "object",
         "type": "string"
        },
        {
         "name": "nombre ciudad",
         "rawType": "object",
         "type": "string"
        },
        {
         "name": "cod ciudad",
         "rawType": "int64",
         "type": "integer"
        },
        {
         "name": "cupo",
         "rawType": "int64",
         "type": "integer"
        },
        {
         "name": "plazo",
         "rawType": "int64",
         "type": "integer"
        },
        {
         "name": "telefonos",
         "rawType": "object",
         "type": "unknown"
        },
        {
         "name": "contactos",
         "rawType": "object",
         "type": "unknown"
        },
        {
         "name": "telefonos.1",
         "rawType": "object",
         "type": "string"
        },
        {
         "name": "telefonos.2",
         "rawType": "object",
         "type": "unknown"
        },
        {
         "name": "email",
         "rawType": "object",
         "type": "unknown"
        },
        {
         "name": "vendedor",
         "rawType": "object",
         "type": "unknown"
        },
        {
         "name": "nit",
         "rawType": "object",
         "type": "string"
        },
        {
         "name": "dv",
         "rawType": "int64",
         "type": "integer"
        },
        {
         "name": "distrito",
         "rawType": "object",
         "type": "unknown"
        },
        {
         "name": "pais",
         "rawType": "object",
         "type": "string"
        }
       ],
       "ref": "985e6a4b-6b16-4e5e-9a57-1df1a79d6a21",
       "rows": [
        [
         "0",
         "CL  200000000200",
         "  100NUTRITION SAS",
         "CALLE 95 # 11A -84 OFICINA 403",
         "BOGOTA - D.C.",
         "11001",
         "0",
         "0",
         null,
         null,
         "3162357062",
         null,
         "MANAGER@CIENUTRITION.ORG",
         null,
         "900967772",
         "2",
         null,
         "CO - COLOMBIA"
        ],
        [
         "1",
         "CL  400000000784",
         "  ACIE SAS",
         "CR 7 126 30",
         "BOGOTA D. C.",
         "11001",
         "0",
         "0",
         null,
         null,
         "3008003308",
         null,
         "ELGASANCHEZ@GMAIL.COM",
         null,
         "900421292",
         "5",
         null,
         "CO - COLOMBIA"
        ],
        [
         "2",
         "CL  400000000305",
         "  ADMINISTRADORA MONSERRAT",
         "CR 2 ESTE 21 48",
         "BOGOTA D. C.",
         "11001",
         "0",
         "0",
         "11111111",
         null,
         "3108847077",
         null,
         null,
         null,
         "800124979-1",
         "6",
         null,
         "CO - COLOMBIA"
        ],
        [
         "3",
         "CL  200000000319",
         "  ALMINISTRADORA MONSERRATE",
         "CARRERA 2 ESTE 21 48",
         "BOGOTA D. C.",
         "11001",
         "0",
         "0",
         "1111111",
         null,
         "3208031265",
         null,
         "DIRECCIONADMINISTRATIVA@RESTAURANTESMONSERRATE.COM",
         null,
         "800124979",
         "1",
         null,
         "CO - COLOMBIA"
        ],
        [
         "4",
         "CL  400000000508",
         "  AUDIASESORES",
         "XX",
         "BOGOTA D. C.",
         "11001",
         "0",
         "0",
         "XX",
         null,
         "XX",
         null,
         null,
         null,
         "800211129-9",
         "5",
         null,
         "CO - COLOMBIA"
        ]
       ],
       "shape": {
        "columns": 17,
        "rows": 5
       }
      },
      "text/html": [
       "<div>\n",
       "<style scoped>\n",
       "    .dataframe tbody tr th:only-of-type {\n",
       "        vertical-align: middle;\n",
       "    }\n",
       "\n",
       "    .dataframe tbody tr th {\n",
       "        vertical-align: top;\n",
       "    }\n",
       "\n",
       "    .dataframe thead th {\n",
       "        text-align: right;\n",
       "    }\n",
       "</style>\n",
       "<table border=\"1\" class=\"dataframe\">\n",
       "  <thead>\n",
       "    <tr style=\"text-align: right;\">\n",
       "      <th></th>\n",
       "      <th>codigo</th>\n",
       "      <th>razon social</th>\n",
       "      <th>direccion</th>\n",
       "      <th>nombre ciudad</th>\n",
       "      <th>cod ciudad</th>\n",
       "      <th>cupo</th>\n",
       "      <th>plazo</th>\n",
       "      <th>telefonos</th>\n",
       "      <th>contactos</th>\n",
       "      <th>telefonos.1</th>\n",
       "      <th>telefonos.2</th>\n",
       "      <th>email</th>\n",
       "      <th>vendedor</th>\n",
       "      <th>nit</th>\n",
       "      <th>dv</th>\n",
       "      <th>distrito</th>\n",
       "      <th>pais</th>\n",
       "    </tr>\n",
       "  </thead>\n",
       "  <tbody>\n",
       "    <tr>\n",
       "      <th>0</th>\n",
       "      <td>CL  200000000200</td>\n",
       "      <td>100NUTRITION SAS</td>\n",
       "      <td>CALLE 95 # 11A -84 OFICINA 403</td>\n",
       "      <td>BOGOTA - D.C.</td>\n",
       "      <td>11001</td>\n",
       "      <td>0</td>\n",
       "      <td>0</td>\n",
       "      <td>NaN</td>\n",
       "      <td>NaN</td>\n",
       "      <td>3162357062</td>\n",
       "      <td>NaN</td>\n",
       "      <td>MANAGER@CIENUTRITION.ORG</td>\n",
       "      <td>NaN</td>\n",
       "      <td>900967772</td>\n",
       "      <td>2</td>\n",
       "      <td>NaN</td>\n",
       "      <td>CO - COLOMBIA</td>\n",
       "    </tr>\n",
       "    <tr>\n",
       "      <th>1</th>\n",
       "      <td>CL  400000000784</td>\n",
       "      <td>ACIE SAS</td>\n",
       "      <td>CR 7 126 30</td>\n",
       "      <td>BOGOTA D. C.</td>\n",
       "      <td>11001</td>\n",
       "      <td>0</td>\n",
       "      <td>0</td>\n",
       "      <td>NaN</td>\n",
       "      <td>NaN</td>\n",
       "      <td>3008003308</td>\n",
       "      <td>NaN</td>\n",
       "      <td>ELGASANCHEZ@GMAIL.COM</td>\n",
       "      <td>NaN</td>\n",
       "      <td>900421292</td>\n",
       "      <td>5</td>\n",
       "      <td>NaN</td>\n",
       "      <td>CO - COLOMBIA</td>\n",
       "    </tr>\n",
       "    <tr>\n",
       "      <th>2</th>\n",
       "      <td>CL  400000000305</td>\n",
       "      <td>ADMINISTRADORA MONSERRAT</td>\n",
       "      <td>CR 2 ESTE 21 48</td>\n",
       "      <td>BOGOTA D. C.</td>\n",
       "      <td>11001</td>\n",
       "      <td>0</td>\n",
       "      <td>0</td>\n",
       "      <td>11111111</td>\n",
       "      <td>NaN</td>\n",
       "      <td>3108847077</td>\n",
       "      <td>NaN</td>\n",
       "      <td>NaN</td>\n",
       "      <td>NaN</td>\n",
       "      <td>800124979-1</td>\n",
       "      <td>6</td>\n",
       "      <td>NaN</td>\n",
       "      <td>CO - COLOMBIA</td>\n",
       "    </tr>\n",
       "    <tr>\n",
       "      <th>3</th>\n",
       "      <td>CL  200000000319</td>\n",
       "      <td>ALMINISTRADORA MONSERRATE</td>\n",
       "      <td>CARRERA 2 ESTE 21 48</td>\n",
       "      <td>BOGOTA D. C.</td>\n",
       "      <td>11001</td>\n",
       "      <td>0</td>\n",
       "      <td>0</td>\n",
       "      <td>1111111</td>\n",
       "      <td>NaN</td>\n",
       "      <td>3208031265</td>\n",
       "      <td>NaN</td>\n",
       "      <td>DIRECCIONADMINISTRATIVA@RESTAURANTESMONSERRATE...</td>\n",
       "      <td>NaN</td>\n",
       "      <td>800124979</td>\n",
       "      <td>1</td>\n",
       "      <td>NaN</td>\n",
       "      <td>CO - COLOMBIA</td>\n",
       "    </tr>\n",
       "    <tr>\n",
       "      <th>4</th>\n",
       "      <td>CL  400000000508</td>\n",
       "      <td>AUDIASESORES</td>\n",
       "      <td>XX</td>\n",
       "      <td>BOGOTA D. C.</td>\n",
       "      <td>11001</td>\n",
       "      <td>0</td>\n",
       "      <td>0</td>\n",
       "      <td>XX</td>\n",
       "      <td>NaN</td>\n",
       "      <td>XX</td>\n",
       "      <td>NaN</td>\n",
       "      <td>NaN</td>\n",
       "      <td>NaN</td>\n",
       "      <td>800211129-9</td>\n",
       "      <td>5</td>\n",
       "      <td>NaN</td>\n",
       "      <td>CO - COLOMBIA</td>\n",
       "    </tr>\n",
       "  </tbody>\n",
       "</table>\n",
       "</div>"
      ],
      "text/plain": [
       "             codigo                 razon social  \\\n",
       "0  CL  200000000200             100NUTRITION SAS   \n",
       "1  CL  400000000784                     ACIE SAS   \n",
       "2  CL  400000000305     ADMINISTRADORA MONSERRAT   \n",
       "3  CL  200000000319    ALMINISTRADORA MONSERRATE   \n",
       "4  CL  400000000508                 AUDIASESORES   \n",
       "\n",
       "                        direccion  nombre ciudad  cod ciudad  cupo  plazo  \\\n",
       "0  CALLE 95 # 11A -84 OFICINA 403  BOGOTA - D.C.       11001     0      0   \n",
       "1                     CR 7 126 30   BOGOTA D. C.       11001     0      0   \n",
       "2                 CR 2 ESTE 21 48   BOGOTA D. C.       11001     0      0   \n",
       "3            CARRERA 2 ESTE 21 48   BOGOTA D. C.       11001     0      0   \n",
       "4                              XX   BOGOTA D. C.       11001     0      0   \n",
       "\n",
       "  telefonos contactos telefonos.1 telefonos.2  \\\n",
       "0       NaN       NaN  3162357062         NaN   \n",
       "1       NaN       NaN  3008003308         NaN   \n",
       "2  11111111       NaN  3108847077         NaN   \n",
       "3   1111111       NaN  3208031265         NaN   \n",
       "4        XX       NaN          XX         NaN   \n",
       "\n",
       "                                               email vendedor          nit  \\\n",
       "0                           MANAGER@CIENUTRITION.ORG      NaN    900967772   \n",
       "1                              ELGASANCHEZ@GMAIL.COM      NaN    900421292   \n",
       "2                                                NaN      NaN  800124979-1   \n",
       "3  DIRECCIONADMINISTRATIVA@RESTAURANTESMONSERRATE...      NaN    800124979   \n",
       "4                                                NaN      NaN  800211129-9   \n",
       "\n",
       "   dv distrito           pais  \n",
       "0   2      NaN  CO - COLOMBIA  \n",
       "1   5      NaN  CO - COLOMBIA  \n",
       "2   6      NaN  CO - COLOMBIA  \n",
       "3   1      NaN  CO - COLOMBIA  \n",
       "4   5      NaN  CO - COLOMBIA  "
      ]
     },
     "execution_count": 11,
     "metadata": {},
     "output_type": "execute_result"
    }
   ],
   "source": [
    "#Primeras filas asociadas al archivo de clientes\n",
    "print(\"🔍 Primeras filas:\")\n",
    "df.head()\n"
   ]
  },
  {
   "cell_type": "code",
   "execution_count": 12,
   "metadata": {},
   "outputs": [
    {
     "name": "stdout",
     "output_type": "stream",
     "text": [
      "⚠️ Valores nulos por columna:\n",
      "codigo              0\n",
      "razon social        0\n",
      "direccion         253\n",
      "nombre ciudad       0\n",
      "cod ciudad          0\n",
      "cupo                0\n",
      "plazo               0\n",
      "telefonos        2362\n",
      "contactos        6793\n",
      "telefonos.1      2102\n",
      "telefonos.2      7482\n",
      "email            2304\n",
      "vendedor         5859\n",
      "nit                 8\n",
      "dv                  0\n",
      "distrito         6184\n",
      "pais              284\n",
      "dtype: int64\n"
     ]
    }
   ],
   "source": [
    "#Valores nulos asociados por columna\n",
    "print(\"⚠️ Valores nulos por columna:\")\n",
    "print(df.isnull().sum())\n"
   ]
  },
  {
   "cell_type": "code",
   "execution_count": 13,
   "metadata": {},
   "outputs": [
    {
     "name": "stdout",
     "output_type": "stream",
     "text": [
      "📉 Porcentaje de nulos por columna:\n",
      "codigo            0.00\n",
      "razon social      0.00\n",
      "direccion         3.20\n",
      "nombre ciudad     0.00\n",
      "cod ciudad        0.00\n",
      "cupo              0.00\n",
      "plazo             0.00\n",
      "telefonos        29.86\n",
      "contactos        85.89\n",
      "telefonos.1      26.58\n",
      "telefonos.2      94.60\n",
      "email            29.13\n",
      "vendedor         74.08\n",
      "nit               0.10\n",
      "dv                0.00\n",
      "distrito         78.19\n",
      "pais              3.59\n",
      "dtype: float64\n"
     ]
    }
   ],
   "source": [
    "#Porcentaje de nulos asociados al archivo de clientes\n",
    "print(\"📉 Porcentaje de nulos por columna:\")\n",
    "print((df.isnull().mean() * 100).round(2))\n"
   ]
  },
  {
   "cell_type": "code",
   "execution_count": 14,
   "metadata": {},
   "outputs": [
    {
     "name": "stdout",
     "output_type": "stream",
     "text": [
      "🧬 Filas duplicadas:\n",
      "0\n"
     ]
    }
   ],
   "source": [
    "#Filas dupicadas en el archivo de clientes\n",
    "print(\"🧬 Filas duplicadas:\")\n",
    "print(df.duplicated().sum())\n"
   ]
  },
  {
   "cell_type": "code",
   "execution_count": 15,
   "metadata": {},
   "outputs": [
    {
     "name": "stdout",
     "output_type": "stream",
     "text": [
      "🔢 Cardinalidad (valores únicos) por columna:\n",
      "codigo           7909\n",
      "razon social     7801\n",
      "direccion        6691\n",
      "nombre ciudad     125\n",
      "cod ciudad        124\n",
      "cupo               21\n",
      "plazo              10\n",
      "telefonos        5039\n",
      "contactos         916\n",
      "telefonos.1      5441\n",
      "telefonos.2       233\n",
      "email            5318\n",
      "vendedor           17\n",
      "nit              7446\n",
      "dv                 10\n",
      "distrito            5\n",
      "pais                3\n",
      "dtype: int64\n"
     ]
    }
   ],
   "source": [
    "#Cardinalidad de las columnas aplicadas en el archivo de clientes\n",
    "print(\"🔢 Cardinalidad (valores únicos) por columna:\")\n",
    "print(df.nunique())\n"
   ]
  },
  {
   "cell_type": "markdown",
   "metadata": {},
   "source": [
    "Con el fin de entender mejor la distribución de los valores numéricos en el archivo de clientes, se ejecutó un análisis estadístico básico sobre las siguientes variables:\n",
    "\n",
    "- `cod ciudad`\n",
    "- `cupo`\n",
    "- `plazo`\n",
    "- `dv`\n",
    "\n",
    "---Este resumen estadístico permite identificar outliers, inconsistencias o nulos relevantes que deben ser tenidos en cuenta en procesos de limpieza o validación antes de cualquier modelado avanzado o segmentación de clientes."
   ]
  },
  {
   "cell_type": "code",
   "execution_count": 16,
   "metadata": {},
   "outputs": [
    {
     "name": "stdout",
     "output_type": "stream",
     "text": [
      "📊 Estadísticas de columnas numéricas:\n"
     ]
    },
    {
     "data": {
      "application/vnd.microsoft.datawrangler.viewer.v0+json": {
       "columns": [
        {
         "name": "index",
         "rawType": "object",
         "type": "string"
        },
        {
         "name": "cod ciudad",
         "rawType": "float64",
         "type": "float"
        },
        {
         "name": "cupo",
         "rawType": "float64",
         "type": "float"
        },
        {
         "name": "plazo",
         "rawType": "float64",
         "type": "float"
        },
        {
         "name": "dv",
         "rawType": "float64",
         "type": "float"
        }
       ],
       "ref": "c044180c-0da0-412d-9e1d-d7e174b2c8e9",
       "rows": [
        [
         "count",
         "7909.0",
         "7909.0",
         "7909.0",
         "7909.0"
        ],
        [
         "mean",
         "14529.334555569605",
         "105563.28233657859",
         "1.7863193829814137",
         "3.106208117334682"
        ],
        [
         "std",
         "13773.335672849962",
         "1619304.3530188403",
         "6.775230854417979",
         "3.147302262299898"
        ],
        [
         "min",
         "5001.0",
         "0.0",
         "0.0",
         "0.0"
        ],
        [
         "25%",
         "11001.0",
         "0.0",
         "0.0",
         "0.0"
        ],
        [
         "50%",
         "11001.0",
         "0.0",
         "0.0",
         "2.0"
        ],
        [
         "75%",
         "11001.0",
         "0.0",
         "0.0",
         "6.0"
        ],
        [
         "max",
         "99991.0",
         "100000000.0",
         "60.0",
         "9.0"
        ]
       ],
       "shape": {
        "columns": 4,
        "rows": 8
       }
      },
      "text/html": [
       "<div>\n",
       "<style scoped>\n",
       "    .dataframe tbody tr th:only-of-type {\n",
       "        vertical-align: middle;\n",
       "    }\n",
       "\n",
       "    .dataframe tbody tr th {\n",
       "        vertical-align: top;\n",
       "    }\n",
       "\n",
       "    .dataframe thead th {\n",
       "        text-align: right;\n",
       "    }\n",
       "</style>\n",
       "<table border=\"1\" class=\"dataframe\">\n",
       "  <thead>\n",
       "    <tr style=\"text-align: right;\">\n",
       "      <th></th>\n",
       "      <th>cod ciudad</th>\n",
       "      <th>cupo</th>\n",
       "      <th>plazo</th>\n",
       "      <th>dv</th>\n",
       "    </tr>\n",
       "  </thead>\n",
       "  <tbody>\n",
       "    <tr>\n",
       "      <th>count</th>\n",
       "      <td>7909.000000</td>\n",
       "      <td>7.909000e+03</td>\n",
       "      <td>7909.000000</td>\n",
       "      <td>7909.000000</td>\n",
       "    </tr>\n",
       "    <tr>\n",
       "      <th>mean</th>\n",
       "      <td>14529.334556</td>\n",
       "      <td>1.055633e+05</td>\n",
       "      <td>1.786319</td>\n",
       "      <td>3.106208</td>\n",
       "    </tr>\n",
       "    <tr>\n",
       "      <th>std</th>\n",
       "      <td>13773.335673</td>\n",
       "      <td>1.619304e+06</td>\n",
       "      <td>6.775231</td>\n",
       "      <td>3.147302</td>\n",
       "    </tr>\n",
       "    <tr>\n",
       "      <th>min</th>\n",
       "      <td>5001.000000</td>\n",
       "      <td>0.000000e+00</td>\n",
       "      <td>0.000000</td>\n",
       "      <td>0.000000</td>\n",
       "    </tr>\n",
       "    <tr>\n",
       "      <th>25%</th>\n",
       "      <td>11001.000000</td>\n",
       "      <td>0.000000e+00</td>\n",
       "      <td>0.000000</td>\n",
       "      <td>0.000000</td>\n",
       "    </tr>\n",
       "    <tr>\n",
       "      <th>50%</th>\n",
       "      <td>11001.000000</td>\n",
       "      <td>0.000000e+00</td>\n",
       "      <td>0.000000</td>\n",
       "      <td>2.000000</td>\n",
       "    </tr>\n",
       "    <tr>\n",
       "      <th>75%</th>\n",
       "      <td>11001.000000</td>\n",
       "      <td>0.000000e+00</td>\n",
       "      <td>0.000000</td>\n",
       "      <td>6.000000</td>\n",
       "    </tr>\n",
       "    <tr>\n",
       "      <th>max</th>\n",
       "      <td>99991.000000</td>\n",
       "      <td>1.000000e+08</td>\n",
       "      <td>60.000000</td>\n",
       "      <td>9.000000</td>\n",
       "    </tr>\n",
       "  </tbody>\n",
       "</table>\n",
       "</div>"
      ],
      "text/plain": [
       "         cod ciudad          cupo        plazo           dv\n",
       "count   7909.000000  7.909000e+03  7909.000000  7909.000000\n",
       "mean   14529.334556  1.055633e+05     1.786319     3.106208\n",
       "std    13773.335673  1.619304e+06     6.775231     3.147302\n",
       "min     5001.000000  0.000000e+00     0.000000     0.000000\n",
       "25%    11001.000000  0.000000e+00     0.000000     0.000000\n",
       "50%    11001.000000  0.000000e+00     0.000000     2.000000\n",
       "75%    11001.000000  0.000000e+00     0.000000     6.000000\n",
       "max    99991.000000  1.000000e+08    60.000000     9.000000"
      ]
     },
     "execution_count": 16,
     "metadata": {},
     "output_type": "execute_result"
    }
   ],
   "source": [
    "#Estadisticas descriptivas del archivo de clientes asociadas a las columnas numericas\n",
    "print(\"📊 Estadísticas de columnas numéricas:\")\n",
    "df.describe()\n"
   ]
  },
  {
   "cell_type": "markdown",
   "metadata": {},
   "source": [
    "\n",
    "Este análisis explora las variables categóricas del archivo de clientes, mostrando los 10 valores más frecuentes para cada una. Es útil para identificar duplicidades, valores dominantes y posibles problemas de calidad de datos.\n",
    "\n",
    "---\n",
    "\n",
    "1. Se seleccionan todas las columnas categóricas (`dtype = object`) del dataframe.\n",
    "2. Para cada columna categórica, se calcula el `value_counts()` y se muestran los 10 valores más frecuentes.\n",
    "3. Esto permite visualizar:\n",
    "   - Si hay clientes repetidos (`codigo`)\n",
    "   - Si hay razones sociales duplicadas o mal registradas\n",
    "   - La diversidad de países y su frecuencia\n",
    "\n",
    "\n",
    "\n",
    "- **Código del cliente**: Todos los valores del top 10 aparecen una sola vez, lo cual es esperable si cada cliente tiene un identificador único.\n",
    "- **Razón social**: Algunas razones sociales como `PEREA PEREZ MARIA ANGELICA`, `GROW DATA SAS` o `CORPORACION CLUB PAYANDE` aparecen tres veces, lo que puede sugerir:\n",
    "  - Clientes registrados múltiples veces (posible duplicidad).\n",
    "  - Diferentes puntos de venta o sucursales que comparten razón social.\n",
    "\n",
    "- **País**: Claramente dominado por `CO – COLOMBIA` con más de 7.600 registros, seguido muy de lejos por otros países como `PORTUGAL` o `AFGANISTAN` con apenas 1 ocurrencia cada uno.\n",
    "\n",
    "---\n",
    "\n",
    "\n",
    "- Ayuda a detectar registros duplicados o inconsistencias en campos clave.\n",
    "- Da contexto sobre la concentración geográfica de los clientes.\n",
    "- Permite enfocar procesos de limpieza o estandarización de datos.\n",
    "\n",
    "Este análisis es clave antes de realizar segmentaciones, análisis de rotación o atribución de patrones de compra, asegurando que los valores categóricos estén limpios y correctamente estructurados.\n"
   ]
  },
  {
   "cell_type": "code",
   "execution_count": 17,
   "metadata": {},
   "outputs": [
    {
     "name": "stdout",
     "output_type": "stream",
     "text": [
      "📈 Frecuencia de valores categóricos (top 10):\n",
      "\n",
      "🔸 codigo (top 10):\n",
      "codigo\n",
      "CL  200000000200    1\n",
      "CL 5200000001042    1\n",
      "CL 5200000001343    1\n",
      "CL  200000000173    1\n",
      "CL 5200000000580    1\n",
      "CL  200000000137    1\n",
      "CL  400000000391    1\n",
      "CL  200000000264    1\n",
      "CL  400000000282    1\n",
      "CL  400000002587    1\n",
      "Name: count, dtype: int64\n",
      "\n",
      "🔸 razon social (top 10):\n",
      "razon social\n",
      "PEREA PEREZ MARIA ANGELICA                        3\n",
      "GROW DATA SAS                                     3\n",
      "CORPORACION CLUB PAYANDE                          3\n",
      "LABORATORIO FRANCO COLOMBIANO LAFRANCOL S.A.S.    3\n",
      "MAGNUS SEGURIDAD LTDA                             2\n",
      "SELIOS SAS                                        2\n",
      "DONADO GARZON MAURICIO ANDRES                     2\n",
      "DALIMENTOS SAS                                    2\n",
      "INVERSIONES TOMATE SAS                            2\n",
      "SISTEMAS Y SOLUCIONES ATHENEA S.A.S               2\n",
      "Name: count, dtype: int64\n",
      "\n",
      "🔸 direccion (top 10):\n",
      "direccion\n",
      "...          156\n",
      "---          100\n",
      "----          86\n",
      "....          64\n",
      "***           34\n",
      "PENDIENTE     34\n",
      "XXX           31\n",
      "XX            31\n",
      "..            24\n",
      "0             23\n",
      "Name: count, dtype: int64\n",
      "\n",
      "🔸 nombre ciudad (top 10):\n",
      "nombre ciudad\n",
      "BOGOTA - D.C.    3658\n",
      "BOGOTA D. C.     2883\n",
      "MEDELLIN          275\n",
      "CALI              130\n",
      "BARRANQUILLA      122\n",
      "CARTAGENA          80\n",
      "CHIA               63\n",
      "BUCARAMANGA        55\n",
      "PEREIRA            38\n",
      "ENVIGADO           34\n",
      "Name: count, dtype: int64\n",
      "\n",
      "🔸 telefonos (top 10):\n",
      "telefonos\n",
      "...             151\n",
      "....             76\n",
      "..               47\n",
      ".....            30\n",
      "NR               19\n",
      "......           14\n",
      "XXX              13\n",
      ".                 7\n",
      "5333180           5\n",
      "............      5\n",
      "Name: count, dtype: int64\n",
      "\n",
      "🔸 contactos (top 10):\n",
      "contactos\n",
      "-------               27\n",
      "--------              25\n",
      "------                24\n",
      "-----                 19\n",
      "---------             19\n",
      "----------            17\n",
      "-----------           14\n",
      "-----------------     13\n",
      "------------------     8\n",
      "-------------          6\n",
      "Name: count, dtype: int64\n",
      "\n",
      "🔸 telefonos.1 (top 10):\n",
      "telefonos.1\n",
      "***          29\n",
      ".....        26\n",
      "....         22\n",
      "---          17\n",
      "...          15\n",
      "-----        13\n",
      "----         11\n",
      "****          7\n",
      "**            7\n",
      "PENDIENTE     6\n",
      "Name: count, dtype: int64\n",
      "\n",
      "🔸 telefonos.2 (top 10):\n",
      "telefonos.2\n",
      "-------               40\n",
      "--------              28\n",
      "---------             23\n",
      "----------            20\n",
      "------                18\n",
      "-----------------     13\n",
      "-----------           12\n",
      "------------------     8\n",
      "--------------         6\n",
      "-------------          5\n",
      "Name: count, dtype: int64\n",
      "\n",
      "🔸 email (top 10):\n",
      "email\n",
      "asesor.premiumch@gmail.com          119\n",
      "medellin.premiumch@gmail.com         87\n",
      "JOHAY.RODRIGUEZ@GMAIL.COM             4\n",
      "ADMON@ARFLINA .COM                    4\n",
      "HARKERYCIA@YAHOO.COM                  3\n",
      "ADMINISTRATIVA@AXON360.CO             3\n",
      "FACTURASAANGELICAPEREA@GMAIL.COM      3\n",
      "CMIBAGASES@GMAIL.COM                  3\n",
      "LLANRINQR@HOTMAIL.COM                 2\n",
      "CHEKARESTREPO@GMAIL.COM               2\n",
      "Name: count, dtype: int64\n",
      "\n",
      "🔸 vendedor (top 10):\n",
      "vendedor\n",
      "PELAEZ PARRA CLAUDIA                675\n",
      "ALZATE  ELENA                       631\n",
      "BODEGA PRINCIPAL                    291\n",
      "BODEGA MEDELLIN                     199\n",
      "CAVA ONLINE                         164\n",
      "BODEGA BARRANQUILLA                  23\n",
      "MAESTRI ALVARADO VALTER GLULIANO     20\n",
      "CAVA OESTE                           17\n",
      "HERNANDEZ BECERRA AMANDA LUCIA       15\n",
      "BODEGA CALI                           7\n",
      "Name: count, dtype: int64\n",
      "\n",
      "🔸 nit (top 10):\n",
      "nit\n",
      "830025638       84\n",
      "860002095       79\n",
      "890107487       51\n",
      "PENDIENTE       35\n",
      "890900608        8\n",
      "222222222222     6\n",
      "830054028        5\n",
      "860027573        5\n",
      "800196314        4\n",
      "830013434        3\n",
      "Name: count, dtype: int64\n",
      "\n",
      "🔸 distrito (top 10):\n",
      "distrito\n",
      "INSTITUCIONAL    1574\n",
      "CARULLA            68\n",
      "JUMBO              53\n",
      "OLIMPICA           29\n",
      "ANTIOQUIA           1\n",
      "Name: count, dtype: int64\n",
      "\n",
      "🔸 pais (top 10):\n",
      "pais\n",
      "CO - COLOMBIA      7623\n",
      "PT - PORTUGAL         1\n",
      "AF - AFGANISTAN       1\n",
      "Name: count, dtype: int64\n"
     ]
    }
   ],
   "source": [
    "#Frecuencia de valores categoricos \n",
    "columnas_categoricas = df.select_dtypes(include='object').columns\n",
    "\n",
    "print(\"📈 Frecuencia de valores categóricos (top 10):\")\n",
    "for col in columnas_categoricas:\n",
    "    print(f\"\\n🔸 {col} (top 10):\")\n",
    "    print(df[col].value_counts().head(10))\n"
   ]
  },
  {
   "cell_type": "markdown",
   "metadata": {},
   "source": [
    "Analisis Avanzado de clientes premium:; \n",
    "Identificacion y presentacion de clientes especializado para identificar el comportamiento de los clientes de alto valor."
   ]
  },
  {
   "cell_type": "code",
   "execution_count": 1,
   "metadata": {},
   "outputs": [
    {
     "ename": "NameError",
     "evalue": "name 'centroides' is not defined",
     "output_type": "error",
     "traceback": [
      "\u001b[0;31m---------------------------------------------------------------------------\u001b[0m",
      "\u001b[0;31mNameError\u001b[0m                                 Traceback (most recent call last)",
      "Cell \u001b[0;32mIn[1], line 2\u001b[0m\n\u001b[1;32m      1\u001b[0m \u001b[38;5;66;03m# Ver valores de los centroides\u001b[39;00m\n\u001b[0;32m----> 2\u001b[0m \u001b[38;5;28;01mfor\u001b[39;00m i, centroide \u001b[38;5;129;01min\u001b[39;00m \u001b[38;5;28menumerate\u001b[39m(\u001b[43mcentroides\u001b[49m):\n\u001b[1;32m      3\u001b[0m     \u001b[38;5;28mprint\u001b[39m(\u001b[38;5;124mf\u001b[39m\u001b[38;5;124m\"\u001b[39m\u001b[38;5;124mCluster \u001b[39m\u001b[38;5;132;01m{\u001b[39;00mi\u001b[38;5;132;01m}\u001b[39;00m\u001b[38;5;124m (\u001b[39m\u001b[38;5;132;01m{\u001b[39;00mcluster_map[i]\u001b[38;5;132;01m}\u001b[39;00m\u001b[38;5;124m): promedio de gasto mensual = \u001b[39m\u001b[38;5;132;01m{\u001b[39;00mcentroide\u001b[38;5;132;01m:\u001b[39;00m\u001b[38;5;124m,.0f\u001b[39m\u001b[38;5;132;01m}\u001b[39;00m\u001b[38;5;124m\"\u001b[39m)\n\u001b[1;32m      5\u001b[0m \u001b[38;5;66;03m# También en DataFrame para exportar si se quiere\u001b[39;00m\n",
      "\u001b[0;31mNameError\u001b[0m: name 'centroides' is not defined"
     ]
    }
   ],
   "source": [
    "# Ver valores de los centroides\n",
    "for i, centroide in enumerate(centroides):\n",
    "    print(f\"Cluster {i} ({cluster_map[i]}): promedio de gasto mensual = {centroide:,.0f}\")\n",
    "\n",
    "# También en DataFrame para exportar si se quiere\n",
    "import pandas as pd\n",
    "df_centroides = pd.DataFrame({\n",
    "    'Cluster': ['Bajo', 'Medio', 'Alto'],\n",
    "    'Promedio_gasto_mensual': sorted(centroides)\n",
    "})\n",
    "\n",
    "df_centroides['Promedio_gasto_anual'] = df_centroides['Promedio_gasto_mensual'] * 12\n",
    "\n",
    "df_centroides.to_excel(\"./outputs/centroides_kmeans_clientes.xlsx\", index=False)\n",
    "df_centroides\n"
   ]
  },
  {
   "cell_type": "code",
   "execution_count": null,
   "metadata": {},
   "outputs": [],
   "source": [
    "#Frecuencia de Compra\n",
    "#Detectar clientes recurrentes vs. transaccionales ocasionales."
   ]
  },
  {
   "cell_type": "code",
   "execution_count": null,
   "metadata": {},
   "outputs": [],
   "source": [
    "#Categorias mas compradas por cliente premium \n",
    "#Entender qué líneas de producto prefieren los mejores clientes."
   ]
  },
  {
   "cell_type": "code",
   "execution_count": null,
   "metadata": {},
   "outputs": [],
   "source": [
    "#Segmentacion de Clientes por nivel de valor \n",
    "#Generar etiquetas o segmentos para identificar a la “inmensa minoría”."
   ]
  }
 ],
 "metadata": {
  "kernelspec": {
   "display_name": "3.10.14",
   "language": "python",
   "name": "python3"
  },
  "language_info": {
   "codemirror_mode": {
    "name": "ipython",
    "version": 3
   },
   "file_extension": ".py",
   "mimetype": "text/x-python",
   "name": "python",
   "nbconvert_exporter": "python",
   "pygments_lexer": "ipython3",
   "version": "3.10.14"
  }
 },
 "nbformat": 4,
 "nbformat_minor": 2
}
