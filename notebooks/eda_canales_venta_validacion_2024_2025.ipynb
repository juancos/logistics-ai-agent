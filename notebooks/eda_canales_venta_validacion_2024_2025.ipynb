{
 "cells": [
  {
   "cell_type": "code",
   "execution_count": 1,
   "metadata": {},
   "outputs": [
    {
     "name": "stdout",
     "output_type": "stream",
     "text": [
      "Se encontraron 15 archivos de ventas históricas.\n"
     ]
    },
    {
     "data": {
      "text/plain": [
       "Index(['cod_cliente', 'cliente', 'documento', 'defecha',\n",
       "       'cod_articulo_servicio', 'nombre_articulo_servicio', 'cantidad',\n",
       "       'porc_iva', 'vrgravado', 'vrnogravado', 'descuento', 'subtotal',\n",
       "       'costo', 'utilidadps', 'utilidadpc', 'tipodocumento', 'cuenta',\n",
       "       'nomcuenta', 'icolicoresunitario', 'bodega', 'vendedor', 'distrito'],\n",
       "      dtype='object')"
      ]
     },
     "execution_count": 1,
     "metadata": {},
     "output_type": "execute_result"
    }
   ],
   "source": [
    "from pathlib import Path\n",
    "import pandas as pd\n",
    "\n",
    "# Ruta base\n",
    "ruta_base = Path(\"../data/raw\")\n",
    "\n",
    "# Cargar todos los archivos de ventas históricas (incluyendo items si es necesario)\n",
    "archivos_ventas = sorted(ruta_base.glob(\"ventas_dcto_items_*.xlsx\"))\n",
    "print(f\"Se encontraron {len(archivos_ventas)} archivos de ventas históricas.\")\n",
    "\n",
    "# Unir en un único DataFrame\n",
    "ventas_items = pd.concat([pd.read_excel(f, engine=\"openpyxl\") for f in archivos_ventas], ignore_index=True)\n",
    "\n",
    "# Verificar columnas disponibles\n",
    "ventas_items.columns\n"
   ]
  },
  {
   "cell_type": "code",
   "execution_count": 2,
   "metadata": {},
   "outputs": [],
   "source": [
    "# Convertir la columna 'defecha' a datetime\n",
    "ventas_items['defecha'] = pd.to_datetime(ventas_items['defecha'])\n",
    "\n",
    "# Crear la columna 'mes' en formato AAAA-MM\n",
    "ventas_items['mes'] = ventas_items['defecha'].dt.to_period('M').astype(str)\n"
   ]
  },
  {
   "cell_type": "code",
   "execution_count": 3,
   "metadata": {},
   "outputs": [
    {
     "data": {
      "application/vnd.microsoft.datawrangler.viewer.v0+json": {
       "columns": [
        {
         "name": "index",
         "rawType": "int64",
         "type": "integer"
        },
        {
         "name": "mes",
         "rawType": "object",
         "type": "string"
        },
        {
         "name": "cuenta",
         "rawType": "object",
         "type": "string"
        },
        {
         "name": "ventas_totales",
         "rawType": "float64",
         "type": "float"
        }
       ],
       "ref": "96c5557a-c306-4acf-a3a3-8fa3c5337cb9",
       "rows": [
        [
         "0",
         "2019-01",
         "4175 95 25",
         "-111.875"
        ],
        [
         "1",
         "2019-01",
         "4175 95 39",
         "-667.63"
        ],
        [
         "2",
         "2019-02",
         "4175 95 25",
         "-95.92"
        ],
        [
         "3",
         "2019-02",
         "4175 95 39",
         "-4225.224999999999"
        ],
        [
         "4",
         "2019-03",
         "4175 95 25",
         "-176.7"
        ]
       ],
       "shape": {
        "columns": 3,
        "rows": 5
       }
      },
      "text/html": [
       "<div>\n",
       "<style scoped>\n",
       "    .dataframe tbody tr th:only-of-type {\n",
       "        vertical-align: middle;\n",
       "    }\n",
       "\n",
       "    .dataframe tbody tr th {\n",
       "        vertical-align: top;\n",
       "    }\n",
       "\n",
       "    .dataframe thead th {\n",
       "        text-align: right;\n",
       "    }\n",
       "</style>\n",
       "<table border=\"1\" class=\"dataframe\">\n",
       "  <thead>\n",
       "    <tr style=\"text-align: right;\">\n",
       "      <th></th>\n",
       "      <th>mes</th>\n",
       "      <th>cuenta</th>\n",
       "      <th>ventas_totales</th>\n",
       "    </tr>\n",
       "  </thead>\n",
       "  <tbody>\n",
       "    <tr>\n",
       "      <th>0</th>\n",
       "      <td>2019-01</td>\n",
       "      <td>4175 95 25</td>\n",
       "      <td>-111.875</td>\n",
       "    </tr>\n",
       "    <tr>\n",
       "      <th>1</th>\n",
       "      <td>2019-01</td>\n",
       "      <td>4175 95 39</td>\n",
       "      <td>-667.630</td>\n",
       "    </tr>\n",
       "    <tr>\n",
       "      <th>2</th>\n",
       "      <td>2019-02</td>\n",
       "      <td>4175 95 25</td>\n",
       "      <td>-95.920</td>\n",
       "    </tr>\n",
       "    <tr>\n",
       "      <th>3</th>\n",
       "      <td>2019-02</td>\n",
       "      <td>4175 95 39</td>\n",
       "      <td>-4225.225</td>\n",
       "    </tr>\n",
       "    <tr>\n",
       "      <th>4</th>\n",
       "      <td>2019-03</td>\n",
       "      <td>4175 95 25</td>\n",
       "      <td>-176.700</td>\n",
       "    </tr>\n",
       "  </tbody>\n",
       "</table>\n",
       "</div>"
      ],
      "text/plain": [
       "       mes      cuenta  ventas_totales\n",
       "0  2019-01  4175 95 25        -111.875\n",
       "1  2019-01  4175 95 39        -667.630\n",
       "2  2019-02  4175 95 25         -95.920\n",
       "3  2019-02  4175 95 39       -4225.225\n",
       "4  2019-03  4175 95 25        -176.700"
      ]
     },
     "execution_count": 3,
     "metadata": {},
     "output_type": "execute_result"
    }
   ],
   "source": [
    "#Agrupar ventas por canal y mes\n",
    "# Agrupar ventas por canal (cuenta) y mes\n",
    "ventas_canales = ventas_items.groupby(['mes', 'cuenta'])['cantidad'].sum().reset_index()\n",
    "\n",
    "# Renombrar para claridad\n",
    "ventas_canales.rename(columns={'cantidad': 'ventas_totales'}, inplace=True)\n",
    "\n",
    "# Mostrar primeras filas para validar\n",
    "ventas_canales.head()\n"
   ]
  },
  {
   "cell_type": "code",
   "execution_count": 10,
   "metadata": {},
   "outputs": [],
   "source": []
  },
  {
   "cell_type": "code",
   "execution_count": 4,
   "metadata": {},
   "outputs": [],
   "source": [
    "df_cuentas = pd.read_excel(\"../data/raw/clientes.xlsx\")\n"
   ]
  },
  {
   "cell_type": "code",
   "execution_count": 5,
   "metadata": {},
   "outputs": [
    {
     "data": {
      "text/plain": [
       "Index(['codigo', 'razon social', 'direccion', 'nombre ciudad', 'cod ciudad',\n",
       "       'cupo', 'plazo', 'telefonos', 'contactos', 'telefonos.1', 'telefonos.2',\n",
       "       'email', 'vendedor', 'nit', 'dv', 'distrito', 'pais'],\n",
       "      dtype='object')"
      ]
     },
     "execution_count": 5,
     "metadata": {},
     "output_type": "execute_result"
    }
   ],
   "source": [
    "df_cuentas.columns\n"
   ]
  },
  {
   "cell_type": "code",
   "execution_count": 6,
   "metadata": {},
   "outputs": [],
   "source": [
    "# Renombrar columna 'codigo' de df_cuentas a 'cuenta' para hacer el merge\n",
    "df_cuentas_renombrado = df_cuentas.rename(columns={'codigo': 'cuenta'})\n",
    "\n",
    "# Hacer merge para agregar información del canal\n",
    "ventas_canales = ventas_canales.merge(\n",
    "    df_cuentas_renombrado[['cuenta', 'razon social']],  # puedes agregar más columnas si quieres\n",
    "    on='cuenta',\n",
    "    how='left'\n",
    ")\n",
    "\n",
    "# Reorganizar columnas para claridad\n",
    "ventas_canales = ventas_canales[['mes', 'cuenta', 'razon social', 'ventas_totales']]\n"
   ]
  },
  {
   "cell_type": "code",
   "execution_count": 7,
   "metadata": {},
   "outputs": [],
   "source": [
    "# Filtrar canales con ventas negativas\n",
    "ventas_negativas = ventas_canales[ventas_canales['ventas_totales'] < 0]\n"
   ]
  },
  {
   "cell_type": "code",
   "execution_count": 8,
   "metadata": {},
   "outputs": [],
   "source": [
    "# Agregar columnas vacías para validación manual\n",
    "ventas_canales['Validar Canal'] = ''\n",
    "ventas_canales['Requiere Revisión'] = ''\n",
    "ventas_canales['Observaciones'] = ''\n",
    "ventas_canales['Acciones Sugeridas'] = ''\n",
    "ventas_canales['Notas de Apoyo'] = ''\n",
    "\n"
   ]
  },
  {
   "cell_type": "code",
   "execution_count": 9,
   "metadata": {},
   "outputs": [],
   "source": [
    "ventas_canales = ventas_canales[[\n",
    "    'mes', 'cuenta', 'razon social', 'ventas_totales',\n",
    "    'Validar Canal', 'Requiere Revisión', 'Observaciones',\n",
    "    'Acciones Sugeridas', 'Notas de Apoyo'\n",
    "]]\n"
   ]
  },
  {
   "cell_type": "code",
   "execution_count": 10,
   "metadata": {},
   "outputs": [
    {
     "data": {
      "text/plain": [
       "(463, 9)"
      ]
     },
     "execution_count": 10,
     "metadata": {},
     "output_type": "execute_result"
    }
   ],
   "source": [
    "# Ver cuántos registros hay con ventas_totales positivas\n",
    "ventas_canales[ventas_canales['ventas_totales'] > 0].shape\n"
   ]
  },
  {
   "cell_type": "code",
   "execution_count": 11,
   "metadata": {},
   "outputs": [],
   "source": [
    "ventas_canales['ventas_totales'] = pd.to_numeric(ventas_canales['ventas_totales'], errors='coerce')\n"
   ]
  },
  {
   "cell_type": "code",
   "execution_count": 12,
   "metadata": {},
   "outputs": [
    {
     "name": "stdout",
     "output_type": "stream",
     "text": [
      "Index(['mes', 'cuenta', 'razon social', 'ventas_totales', 'Validar Canal',\n",
      "       'Requiere Revisión', 'Observaciones', 'Acciones Sugeridas',\n",
      "       'Notas de Apoyo'],\n",
      "      dtype='object')\n"
     ]
    }
   ],
   "source": [
    "print(ventas_canales.columns)\n"
   ]
  },
  {
   "cell_type": "code",
   "execution_count": 13,
   "metadata": {},
   "outputs": [],
   "source": [
    "ventas_validas = ventas_canales[ventas_canales['ventas_totales'].notna() & (ventas_canales['ventas_totales'] > 0)]\n",
    "\n"
   ]
  },
  {
   "cell_type": "code",
   "execution_count": 14,
   "metadata": {},
   "outputs": [
    {
     "name": "stdout",
     "output_type": "stream",
     "text": [
      "object\n",
      "object\n"
     ]
    }
   ],
   "source": [
    "print(ventas_canales['cuenta'].dtype)\n",
    "print(df_cuentas_renombrado['cuenta'].dtype)\n",
    "\n",
    "\n"
   ]
  },
  {
   "cell_type": "code",
   "execution_count": 15,
   "metadata": {},
   "outputs": [],
   "source": [
    "# Eliminar espacios y convertir todo a texto plano y limpio\n",
    "ventas_canales['cuenta'] = ventas_canales['cuenta'].str.strip()\n",
    "df_cuentas_renombrado['cuenta'] = df_cuentas_renombrado['cuenta'].astype(str).str.strip()\n"
   ]
  },
  {
   "cell_type": "code",
   "execution_count": 16,
   "metadata": {},
   "outputs": [],
   "source": [
    "ventas_canales = ventas_canales.merge(\n",
    "    df_cuentas_renombrado[['cuenta', 'razon social']],\n",
    "    on='cuenta',\n",
    "    how='left'\n",
    ")\n"
   ]
  },
  {
   "cell_type": "code",
   "execution_count": 17,
   "metadata": {},
   "outputs": [
    {
     "name": "stdout",
     "output_type": "stream",
     "text": [
      "['mes', 'cuenta', 'razon social_x', 'ventas_totales', 'Validar Canal', 'Requiere Revisión', 'Observaciones', 'Acciones Sugeridas', 'Notas de Apoyo', 'razon social_y']\n"
     ]
    }
   ],
   "source": [
    "print(ventas_canales.columns.tolist())\n",
    "\n"
   ]
  },
  {
   "cell_type": "code",
   "execution_count": 18,
   "metadata": {},
   "outputs": [],
   "source": [
    "ventas_canales.rename(columns={'razon social_y': 'razon social'}, inplace=True)\n"
   ]
  },
  {
   "cell_type": "code",
   "execution_count": 19,
   "metadata": {},
   "outputs": [
    {
     "data": {
      "application/vnd.microsoft.datawrangler.viewer.v0+json": {
       "columns": [
        {
         "name": "index",
         "rawType": "int64",
         "type": "integer"
        },
        {
         "name": "cuenta",
         "rawType": "object",
         "type": "string"
        },
        {
         "name": "razon social",
         "rawType": "object",
         "type": "unknown"
        }
       ],
       "ref": "02400bb8-697e-4b29-aecd-defd0de498da",
       "rows": [
        [
         "0",
         "4175 95 25",
         null
        ],
        [
         "1",
         "4175 95 39",
         null
        ],
        [
         "8",
         "4175 95 20",
         null
        ],
        [
         "40",
         "4175 97 01",
         null
        ],
        [
         "53",
         "4175 98 01",
         null
        ],
        [
         "73",
         "4175 97 19",
         null
        ],
        [
         "101",
         "2408 52 20",
         null
        ],
        [
         "102",
         "4135 95  5",
         null
        ],
        [
         "103",
         "4135 95 10",
         null
        ],
        [
         "104",
         "4135 95 15",
         null
        ]
       ],
       "shape": {
        "columns": 2,
        "rows": 10
       }
      },
      "text/html": [
       "<div>\n",
       "<style scoped>\n",
       "    .dataframe tbody tr th:only-of-type {\n",
       "        vertical-align: middle;\n",
       "    }\n",
       "\n",
       "    .dataframe tbody tr th {\n",
       "        vertical-align: top;\n",
       "    }\n",
       "\n",
       "    .dataframe thead th {\n",
       "        text-align: right;\n",
       "    }\n",
       "</style>\n",
       "<table border=\"1\" class=\"dataframe\">\n",
       "  <thead>\n",
       "    <tr style=\"text-align: right;\">\n",
       "      <th></th>\n",
       "      <th>cuenta</th>\n",
       "      <th>razon social</th>\n",
       "    </tr>\n",
       "  </thead>\n",
       "  <tbody>\n",
       "    <tr>\n",
       "      <th>0</th>\n",
       "      <td>4175 95 25</td>\n",
       "      <td>NaN</td>\n",
       "    </tr>\n",
       "    <tr>\n",
       "      <th>1</th>\n",
       "      <td>4175 95 39</td>\n",
       "      <td>NaN</td>\n",
       "    </tr>\n",
       "    <tr>\n",
       "      <th>8</th>\n",
       "      <td>4175 95 20</td>\n",
       "      <td>NaN</td>\n",
       "    </tr>\n",
       "    <tr>\n",
       "      <th>40</th>\n",
       "      <td>4175 97 01</td>\n",
       "      <td>NaN</td>\n",
       "    </tr>\n",
       "    <tr>\n",
       "      <th>53</th>\n",
       "      <td>4175 98 01</td>\n",
       "      <td>NaN</td>\n",
       "    </tr>\n",
       "    <tr>\n",
       "      <th>73</th>\n",
       "      <td>4175 97 19</td>\n",
       "      <td>NaN</td>\n",
       "    </tr>\n",
       "    <tr>\n",
       "      <th>101</th>\n",
       "      <td>2408 52 20</td>\n",
       "      <td>NaN</td>\n",
       "    </tr>\n",
       "    <tr>\n",
       "      <th>102</th>\n",
       "      <td>4135 95  5</td>\n",
       "      <td>NaN</td>\n",
       "    </tr>\n",
       "    <tr>\n",
       "      <th>103</th>\n",
       "      <td>4135 95 10</td>\n",
       "      <td>NaN</td>\n",
       "    </tr>\n",
       "    <tr>\n",
       "      <th>104</th>\n",
       "      <td>4135 95 15</td>\n",
       "      <td>NaN</td>\n",
       "    </tr>\n",
       "  </tbody>\n",
       "</table>\n",
       "</div>"
      ],
      "text/plain": [
       "         cuenta razon social\n",
       "0    4175 95 25          NaN\n",
       "1    4175 95 39          NaN\n",
       "8    4175 95 20          NaN\n",
       "40   4175 97 01          NaN\n",
       "53   4175 98 01          NaN\n",
       "73   4175 97 19          NaN\n",
       "101  2408 52 20          NaN\n",
       "102  4135 95  5          NaN\n",
       "103  4135 95 10          NaN\n",
       "104  4135 95 15          NaN"
      ]
     },
     "execution_count": 19,
     "metadata": {},
     "output_type": "execute_result"
    }
   ],
   "source": [
    "ventas_canales[['cuenta', 'razon social']].drop_duplicates().head(10)\n"
   ]
  },
  {
   "cell_type": "code",
   "execution_count": 20,
   "metadata": {},
   "outputs": [
    {
     "name": "stdout",
     "output_type": "stream",
     "text": [
      "101    2408 52 20\n",
      "102    4135 95  5\n",
      "103    4135 95 10\n",
      "104    4135 95 15\n",
      "105    4135 95 19\n",
      "106    4135 95 25\n",
      "107    4135 95 30\n",
      "108    4135 95 39\n",
      "109    4135 95 60\n",
      "110    4135 95 65\n",
      "Name: cuenta, dtype: object\n",
      "5053    CL  100000000001\n",
      "684     CL  100000000002\n",
      "5234    CL  100000000003\n",
      "3835    CL  100000000004\n",
      "3989    CL  100000000005\n",
      "5218    CL  100000000006\n",
      "169     CL  100000000007\n",
      "249     CL  100000000008\n",
      "2327    CL  100000000009\n",
      "3100    CL  100000000010\n",
      "Name: cuenta, dtype: object\n"
     ]
    }
   ],
   "source": [
    "print(ventas_canales['cuenta'].drop_duplicates().sort_values().head(10))\n",
    "print(df_cuentas_renombrado['cuenta'].drop_duplicates().sort_values().head(10))\n"
   ]
  },
  {
   "cell_type": "code",
   "execution_count": 21,
   "metadata": {},
   "outputs": [
    {
     "name": "stdout",
     "output_type": "stream",
     "text": [
      "Index(['cod_cliente', 'cliente', 'documento', 'defecha',\n",
      "       'cod_articulo_servicio', 'nombre_articulo_servicio', 'cantidad',\n",
      "       'porc_iva', 'vrgravado', 'vrnogravado', 'descuento', 'subtotal',\n",
      "       'costo', 'utilidadps', 'utilidadpc', 'tipodocumento', 'cuenta',\n",
      "       'nomcuenta', 'icolicoresunitario', 'bodega', 'vendedor', 'distrito',\n",
      "       'mes'],\n",
      "      dtype='object')\n",
      "Index(['codigo', 'razon social', 'direccion', 'nombre ciudad', 'cod ciudad',\n",
      "       'cupo', 'plazo', 'telefonos', 'contactos', 'telefonos.1', 'telefonos.2',\n",
      "       'email', 'vendedor', 'nit', 'dv', 'distrito', 'pais'],\n",
      "      dtype='object')\n"
     ]
    }
   ],
   "source": [
    "print(ventas_items.columns)\n",
    "print(df_cuentas.columns)\n"
   ]
  },
  {
   "cell_type": "code",
   "execution_count": 22,
   "metadata": {},
   "outputs": [
    {
     "name": "stdout",
     "output_type": "stream",
     "text": [
      "object\n",
      "object\n"
     ]
    }
   ],
   "source": [
    "print(ventas_items['cod_cliente'].dtype)\n",
    "print(df_cuentas['codigo'].dtype)\n"
   ]
  },
  {
   "cell_type": "code",
   "execution_count": 23,
   "metadata": {},
   "outputs": [
    {
     "name": "stdout",
     "output_type": "stream",
     "text": [
      "321               CL 10001\n",
      "485               CL 10003\n",
      "360               CL 10023\n",
      "1825              CL 10024\n",
      "344415            CL 10028\n",
      "340007            CL 10031\n",
      "529805            CL 10034\n",
      "747               CL 10038\n",
      "3384              CL 10039\n",
      "289176            CL 10062\n",
      "Name: cod_cliente, dtype: object\n",
      "642             CL 10001\n",
      "2465            CL 10002\n",
      "400             CL 10003\n",
      "1771            CL 10004\n",
      "984             CL 10005\n",
      "1138            CL 10006\n",
      "601             CL 10007\n",
      "768             CL 10008\n",
      "209             CL 10009\n",
      "3844            CL 10010\n",
      "Name: codigo, dtype: object\n"
     ]
    }
   ],
   "source": [
    "print(ventas_items['cod_cliente'].drop_duplicates().sort_values().head(10))\n",
    "print(df_cuentas['codigo'].drop_duplicates().sort_values().head(10))\n"
   ]
  },
  {
   "cell_type": "code",
   "execution_count": 24,
   "metadata": {},
   "outputs": [
    {
     "name": "stdout",
     "output_type": "stream",
     "text": [
      "False\n",
      "False\n"
     ]
    }
   ],
   "source": [
    "# Buscar si hay espacios adelante o atrás\n",
    "print(ventas_items['cod_cliente'].astype(str).str.strip().equals(ventas_items['cod_cliente'].astype(str)))\n",
    "\n",
    "print(df_cuentas['codigo'].astype(str).str.strip().equals(df_cuentas['codigo'].astype(str)))\n"
   ]
  },
  {
   "cell_type": "code",
   "execution_count": 25,
   "metadata": {},
   "outputs": [
    {
     "name": "stdout",
     "output_type": "stream",
     "text": [
      "469705\n",
      "0\n"
     ]
    }
   ],
   "source": [
    "print(ventas_items['cod_cliente'].isna().sum())\n",
    "print(df_cuentas['codigo'].isna().sum())\n"
   ]
  },
  {
   "cell_type": "code",
   "execution_count": 26,
   "metadata": {},
   "outputs": [],
   "source": [
    "ventas_items_filtrado = ventas_items[ventas_items['cod_cliente'].notna()]\n"
   ]
  },
  {
   "cell_type": "code",
   "execution_count": 27,
   "metadata": {},
   "outputs": [
    {
     "name": "stderr",
     "output_type": "stream",
     "text": [
      "/var/folders/fl/4p9gdc5d3wj63rppd6xjpnmh0000gn/T/ipykernel_10836/2659117234.py:1: SettingWithCopyWarning: \n",
      "A value is trying to be set on a copy of a slice from a DataFrame.\n",
      "Try using .loc[row_indexer,col_indexer] = value instead\n",
      "\n",
      "See the caveats in the documentation: https://pandas.pydata.org/pandas-docs/stable/user_guide/indexing.html#returning-a-view-versus-a-copy\n",
      "  ventas_items_filtrado['cod_cliente'] = ventas_items_filtrado['cod_cliente'].astype(str).str.strip()\n"
     ]
    }
   ],
   "source": [
    "ventas_items_filtrado['cod_cliente'] = ventas_items_filtrado['cod_cliente'].astype(str).str.strip()\n",
    "df_cuentas['codigo'] = df_cuentas['codigo'].astype(str).str.strip()\n"
   ]
  },
  {
   "cell_type": "code",
   "execution_count": 28,
   "metadata": {},
   "outputs": [],
   "source": [
    "ventas_con_info_cliente = ventas_items_filtrado.merge(\n",
    "    df_cuentas[['codigo', 'razon social']],\n",
    "    left_on='cod_cliente',\n",
    "    right_on='codigo',\n",
    "    how='left'\n",
    ")\n"
   ]
  },
  {
   "cell_type": "code",
   "execution_count": 29,
   "metadata": {},
   "outputs": [
    {
     "data": {
      "text/plain": [
       "0"
      ]
     },
     "execution_count": 29,
     "metadata": {},
     "output_type": "execute_result"
    }
   ],
   "source": [
    "ventas_con_info_cliente['razon social'].isna().sum()\n"
   ]
  },
  {
   "cell_type": "code",
   "execution_count": 30,
   "metadata": {},
   "outputs": [
    {
     "data": {
      "application/vnd.microsoft.datawrangler.viewer.v0+json": {
       "columns": [
        {
         "name": "index",
         "rawType": "int64",
         "type": "integer"
        },
        {
         "name": "cod_cliente",
         "rawType": "object",
         "type": "string"
        },
        {
         "name": "cliente",
         "rawType": "object",
         "type": "string"
        },
        {
         "name": "documento",
         "rawType": "object",
         "type": "string"
        },
        {
         "name": "defecha",
         "rawType": "datetime64[ns]",
         "type": "datetime"
        },
        {
         "name": "cod_articulo_servicio",
         "rawType": "object",
         "type": "unknown"
        },
        {
         "name": "nombre_articulo_servicio",
         "rawType": "object",
         "type": "string"
        },
        {
         "name": "cantidad",
         "rawType": "float64",
         "type": "float"
        },
        {
         "name": "porc_iva",
         "rawType": "int64",
         "type": "integer"
        },
        {
         "name": "vrgravado",
         "rawType": "float64",
         "type": "float"
        },
        {
         "name": "vrnogravado",
         "rawType": "float64",
         "type": "float"
        },
        {
         "name": "descuento",
         "rawType": "int64",
         "type": "integer"
        },
        {
         "name": "subtotal",
         "rawType": "float64",
         "type": "float"
        },
        {
         "name": "costo",
         "rawType": "float64",
         "type": "float"
        },
        {
         "name": "utilidadps",
         "rawType": "float64",
         "type": "float"
        },
        {
         "name": "utilidadpc",
         "rawType": "float64",
         "type": "float"
        },
        {
         "name": "tipodocumento",
         "rawType": "object",
         "type": "string"
        },
        {
         "name": "cuenta",
         "rawType": "object",
         "type": "string"
        },
        {
         "name": "nomcuenta",
         "rawType": "object",
         "type": "string"
        },
        {
         "name": "icolicoresunitario",
         "rawType": "int64",
         "type": "integer"
        },
        {
         "name": "bodega",
         "rawType": "float64",
         "type": "float"
        },
        {
         "name": "vendedor",
         "rawType": "object",
         "type": "string"
        },
        {
         "name": "distrito",
         "rawType": "object",
         "type": "unknown"
        },
        {
         "name": "mes",
         "rawType": "object",
         "type": "string"
        },
        {
         "name": "codigo",
         "rawType": "object",
         "type": "string"
        },
        {
         "name": "razon social",
         "rawType": "object",
         "type": "string"
        }
       ],
       "ref": "6f9597e4-089f-4675-a1d5-1e61332cfbd9",
       "rows": [
        [
         "0",
         "CL  100000001179",
         "CORTES GARZON BLANCA JAZMIN",
         "  1      8262",
         "2019-01-10 00:00:00",
         "120692",
         "MAESE 6 MESES X 150 GRS",
         "-2.0",
         "19",
         "-22689.0",
         "0.0",
         "0",
         "-22689.0",
         "-14350.06",
         "-8338.94",
         "58.111",
         "D.COMER",
         "4175 95 39",
         "DEVOLUCION EN VENTAS COMERCIAL AL 19%",
         "0",
         "1.0",
         "ALVARADO  CARLOS",
         null,
         "2019-01",
         "CL  100000001179",
         "CORTES GARZON BLANCA JAZMIN"
        ],
        [
         "1",
         "CL  100000000398",
         "CENCOSUD COLOMBIA S.A.",
         "  1      8266",
         "2019-01-15 00:00:00",
         "156083",
         "COLBY JACK X 3 KL APROX",
         "-0.43",
         "0",
         "0.0",
         "-26698.0",
         "0",
         "-26698.0",
         "-12567.01",
         "-14130.99",
         "112.445",
         "D.COMER",
         "4175 95 25",
         "DEVOLUCIONES NO GRAVADAS COMERCIAL",
         "0",
         "1.0",
         "BODEGA PRINCIPAL",
         null,
         "2019-01",
         "CL  100000000398",
         "CENCOSUD COLOMBIA S.A."
        ],
        [
         "2",
         "CL  100000000398",
         "CENCOSUD COLOMBIA S.A.",
         "  1      8266",
         "2019-01-15 00:00:00",
         "156079",
         "MUENSTER X KL",
         "-0.345",
         "0",
         "0.0",
         "-14383.0",
         "0",
         "-14383.0",
         "-8756.08",
         "-5626.92",
         "64.263",
         "D.COMER",
         "4175 95 25",
         "DEVOLUCIONES NO GRAVADAS COMERCIAL",
         "0",
         "1.0",
         "BODEGA PRINCIPAL",
         null,
         "2019-01",
         "CL  100000000398",
         "CENCOSUD COLOMBIA S.A."
        ],
        [
         "3",
         "CL  100000000398",
         "CENCOSUD COLOMBIA S.A.",
         "  1      8266",
         "2019-01-15 00:00:00",
         "156077",
         "MILD CHEDDARx X KL",
         "-0.29",
         "19",
         "-18119.0",
         "0.0",
         "0",
         "-18119.0",
         "-10025.33",
         "-8093.67",
         "80.732",
         "D.COMER",
         "4175 95 39",
         "DEVOLUCION EN VENTAS COMERCIAL AL 19%",
         "0",
         "1.0",
         "BODEGA PRINCIPAL",
         null,
         "2019-01",
         "CL  100000000398",
         "CENCOSUD COLOMBIA S.A."
        ],
        [
         "4",
         "CL  100000000398",
         "CENCOSUD COLOMBIA S.A.",
         "  1      8267",
         "2019-01-15 00:00:00",
         "156050",
         "RICOTTA REGULARx15oz",
         "-3.0",
         "0",
         "0.0",
         "-36465.0",
         "0",
         "-36465.0",
         "-23211.9",
         "-13253.1",
         "57.096",
         "D.COMER",
         "4175 95 25",
         "DEVOLUCIONES NO GRAVADAS COMERCIAL",
         "0",
         "1.0",
         "BODEGA PRINCIPAL",
         null,
         "2019-01",
         "CL  100000000398",
         "CENCOSUD COLOMBIA S.A."
        ],
        [
         "5",
         "CL 10691",
         "LA RESERVA VINOS Y LICORES S.A.S.",
         "  1      8263",
         "2019-01-16 00:00:00",
         "170011",
         "ARLA CAMEMBERT ROSENBOGR X 125 GR",
         "-92.0",
         "19",
         "-850420.0",
         "0.0",
         "0",
         "-850420.0",
         "-624834.56",
         "-225585.44",
         "36.103",
         "D.COMER",
         "4175 95 39",
         "DEVOLUCION EN VENTAS COMERCIAL AL 19%",
         "0",
         "1.0",
         "ALZATE  ELENA",
         null,
         "2019-01",
         "CL 10691",
         "LA RESERVA VINOS Y LICORES S.A.S."
        ],
        [
         "6",
         "CL  100000000821",
         "ECHEVERRI OQUENDO MONICA MARCELA",
         "  1      8264",
         "2019-01-17 00:00:00",
         "121222",
         "ALMOND BREEZE L.V. UNSWEETENED VAIINILLA X 946",
         "-24.0",
         "19",
         "-254118.0",
         "0.0",
         "0",
         "-254118.0",
         "-148875.12",
         "-105242.88",
         "70.692",
         "D.COMER",
         "4175 95 39",
         "DEVOLUCION EN VENTAS COMERCIAL AL 19%",
         "0",
         "1.0",
         "PELAEZ PARRA CLAUDIA",
         null,
         "2019-01",
         "CL  100000000821",
         "ECHEVERRI OQUENDO MONICA MARCELA"
        ],
        [
         "7",
         "CL  100000000168",
         "MORANGO S. A. S.",
         "  1      8265",
         "2019-01-21 00:00:00",
         "121038",
         "HOL GOUDA BARRA GRAND X3.1 X KL",
         "-0.32",
         "19",
         "-8040.0",
         "0.0",
         "0",
         "-8040.0",
         "-5248.67",
         "-2791.33",
         "53.182",
         "D.COMER",
         "4175 95 39",
         "DEVOLUCION EN VENTAS COMERCIAL AL 19%",
         "0",
         "1.0",
         "ALZATE  ELENA",
         null,
         "2019-01",
         "CL  100000000168",
         "MORANGO S. A. S."
        ],
        [
         "8",
         "CL  100000000398",
         "CENCOSUD COLOMBIA S.A.",
         "  1      8274",
         "2019-01-22 00:00:00",
         "121011",
         "TOMATES AL GRANEL PYMx X KL",
         "-4.5",
         "19",
         "-296505.0",
         "0.0",
         "0",
         "-296505.0",
         "-234450.0",
         "-62055.0",
         "26.468",
         "D.COMER",
         "4175 95 39",
         "DEVOLUCION EN VENTAS COMERCIAL AL 19%",
         "0",
         "1.0",
         "BODEGA PRINCIPAL",
         null,
         "2019-01",
         "CL  100000000398",
         "CENCOSUD COLOMBIA S.A."
        ],
        [
         "9",
         "CL  100000000398",
         "CENCOSUD COLOMBIA S.A.",
         "  1      8275",
         "2019-01-22 00:00:00",
         "156050",
         "RICOTTA REGULARx15oz",
         "-12.0",
         "0",
         "0.0",
         "-145860.0",
         "0",
         "-145860.0",
         "-92847.6",
         "-53012.4",
         "57.096",
         "D.COMER",
         "4175 95 25",
         "DEVOLUCIONES NO GRAVADAS COMERCIAL",
         "0",
         "1.0",
         "BODEGA PRINCIPAL",
         null,
         "2019-01",
         "CL  100000000398",
         "CENCOSUD COLOMBIA S.A."
        ]
       ],
       "shape": {
        "columns": 25,
        "rows": 10
       }
      },
      "text/html": [
       "<div>\n",
       "<style scoped>\n",
       "    .dataframe tbody tr th:only-of-type {\n",
       "        vertical-align: middle;\n",
       "    }\n",
       "\n",
       "    .dataframe tbody tr th {\n",
       "        vertical-align: top;\n",
       "    }\n",
       "\n",
       "    .dataframe thead th {\n",
       "        text-align: right;\n",
       "    }\n",
       "</style>\n",
       "<table border=\"1\" class=\"dataframe\">\n",
       "  <thead>\n",
       "    <tr style=\"text-align: right;\">\n",
       "      <th></th>\n",
       "      <th>cod_cliente</th>\n",
       "      <th>cliente</th>\n",
       "      <th>documento</th>\n",
       "      <th>defecha</th>\n",
       "      <th>cod_articulo_servicio</th>\n",
       "      <th>nombre_articulo_servicio</th>\n",
       "      <th>cantidad</th>\n",
       "      <th>porc_iva</th>\n",
       "      <th>vrgravado</th>\n",
       "      <th>vrnogravado</th>\n",
       "      <th>...</th>\n",
       "      <th>tipodocumento</th>\n",
       "      <th>cuenta</th>\n",
       "      <th>nomcuenta</th>\n",
       "      <th>icolicoresunitario</th>\n",
       "      <th>bodega</th>\n",
       "      <th>vendedor</th>\n",
       "      <th>distrito</th>\n",
       "      <th>mes</th>\n",
       "      <th>codigo</th>\n",
       "      <th>razon social</th>\n",
       "    </tr>\n",
       "  </thead>\n",
       "  <tbody>\n",
       "    <tr>\n",
       "      <th>0</th>\n",
       "      <td>CL  100000001179</td>\n",
       "      <td>CORTES GARZON BLANCA JAZMIN</td>\n",
       "      <td>1      8262</td>\n",
       "      <td>2019-01-10</td>\n",
       "      <td>120692</td>\n",
       "      <td>MAESE 6 MESES X 150 GRS</td>\n",
       "      <td>-2.000</td>\n",
       "      <td>19</td>\n",
       "      <td>-22689.0</td>\n",
       "      <td>0.0</td>\n",
       "      <td>...</td>\n",
       "      <td>D.COMER</td>\n",
       "      <td>4175 95 39</td>\n",
       "      <td>DEVOLUCION EN VENTAS COMERCIAL AL 19%</td>\n",
       "      <td>0</td>\n",
       "      <td>1.0</td>\n",
       "      <td>ALVARADO  CARLOS</td>\n",
       "      <td>NaN</td>\n",
       "      <td>2019-01</td>\n",
       "      <td>CL  100000001179</td>\n",
       "      <td>CORTES GARZON BLANCA JAZMIN</td>\n",
       "    </tr>\n",
       "    <tr>\n",
       "      <th>1</th>\n",
       "      <td>CL  100000000398</td>\n",
       "      <td>CENCOSUD COLOMBIA S.A.</td>\n",
       "      <td>1      8266</td>\n",
       "      <td>2019-01-15</td>\n",
       "      <td>156083</td>\n",
       "      <td>COLBY JACK X 3 KL APROX</td>\n",
       "      <td>-0.430</td>\n",
       "      <td>0</td>\n",
       "      <td>0.0</td>\n",
       "      <td>-26698.0</td>\n",
       "      <td>...</td>\n",
       "      <td>D.COMER</td>\n",
       "      <td>4175 95 25</td>\n",
       "      <td>DEVOLUCIONES NO GRAVADAS COMERCIAL</td>\n",
       "      <td>0</td>\n",
       "      <td>1.0</td>\n",
       "      <td>BODEGA PRINCIPAL</td>\n",
       "      <td>NaN</td>\n",
       "      <td>2019-01</td>\n",
       "      <td>CL  100000000398</td>\n",
       "      <td>CENCOSUD COLOMBIA S.A.</td>\n",
       "    </tr>\n",
       "    <tr>\n",
       "      <th>2</th>\n",
       "      <td>CL  100000000398</td>\n",
       "      <td>CENCOSUD COLOMBIA S.A.</td>\n",
       "      <td>1      8266</td>\n",
       "      <td>2019-01-15</td>\n",
       "      <td>156079</td>\n",
       "      <td>MUENSTER X KL</td>\n",
       "      <td>-0.345</td>\n",
       "      <td>0</td>\n",
       "      <td>0.0</td>\n",
       "      <td>-14383.0</td>\n",
       "      <td>...</td>\n",
       "      <td>D.COMER</td>\n",
       "      <td>4175 95 25</td>\n",
       "      <td>DEVOLUCIONES NO GRAVADAS COMERCIAL</td>\n",
       "      <td>0</td>\n",
       "      <td>1.0</td>\n",
       "      <td>BODEGA PRINCIPAL</td>\n",
       "      <td>NaN</td>\n",
       "      <td>2019-01</td>\n",
       "      <td>CL  100000000398</td>\n",
       "      <td>CENCOSUD COLOMBIA S.A.</td>\n",
       "    </tr>\n",
       "    <tr>\n",
       "      <th>3</th>\n",
       "      <td>CL  100000000398</td>\n",
       "      <td>CENCOSUD COLOMBIA S.A.</td>\n",
       "      <td>1      8266</td>\n",
       "      <td>2019-01-15</td>\n",
       "      <td>156077</td>\n",
       "      <td>MILD CHEDDARx X KL</td>\n",
       "      <td>-0.290</td>\n",
       "      <td>19</td>\n",
       "      <td>-18119.0</td>\n",
       "      <td>0.0</td>\n",
       "      <td>...</td>\n",
       "      <td>D.COMER</td>\n",
       "      <td>4175 95 39</td>\n",
       "      <td>DEVOLUCION EN VENTAS COMERCIAL AL 19%</td>\n",
       "      <td>0</td>\n",
       "      <td>1.0</td>\n",
       "      <td>BODEGA PRINCIPAL</td>\n",
       "      <td>NaN</td>\n",
       "      <td>2019-01</td>\n",
       "      <td>CL  100000000398</td>\n",
       "      <td>CENCOSUD COLOMBIA S.A.</td>\n",
       "    </tr>\n",
       "    <tr>\n",
       "      <th>4</th>\n",
       "      <td>CL  100000000398</td>\n",
       "      <td>CENCOSUD COLOMBIA S.A.</td>\n",
       "      <td>1      8267</td>\n",
       "      <td>2019-01-15</td>\n",
       "      <td>156050</td>\n",
       "      <td>RICOTTA REGULARx15oz</td>\n",
       "      <td>-3.000</td>\n",
       "      <td>0</td>\n",
       "      <td>0.0</td>\n",
       "      <td>-36465.0</td>\n",
       "      <td>...</td>\n",
       "      <td>D.COMER</td>\n",
       "      <td>4175 95 25</td>\n",
       "      <td>DEVOLUCIONES NO GRAVADAS COMERCIAL</td>\n",
       "      <td>0</td>\n",
       "      <td>1.0</td>\n",
       "      <td>BODEGA PRINCIPAL</td>\n",
       "      <td>NaN</td>\n",
       "      <td>2019-01</td>\n",
       "      <td>CL  100000000398</td>\n",
       "      <td>CENCOSUD COLOMBIA S.A.</td>\n",
       "    </tr>\n",
       "    <tr>\n",
       "      <th>5</th>\n",
       "      <td>CL 10691</td>\n",
       "      <td>LA RESERVA VINOS Y LICORES S.A.S.</td>\n",
       "      <td>1      8263</td>\n",
       "      <td>2019-01-16</td>\n",
       "      <td>170011</td>\n",
       "      <td>ARLA CAMEMBERT ROSENBOGR X 125 GR</td>\n",
       "      <td>-92.000</td>\n",
       "      <td>19</td>\n",
       "      <td>-850420.0</td>\n",
       "      <td>0.0</td>\n",
       "      <td>...</td>\n",
       "      <td>D.COMER</td>\n",
       "      <td>4175 95 39</td>\n",
       "      <td>DEVOLUCION EN VENTAS COMERCIAL AL 19%</td>\n",
       "      <td>0</td>\n",
       "      <td>1.0</td>\n",
       "      <td>ALZATE  ELENA</td>\n",
       "      <td>NaN</td>\n",
       "      <td>2019-01</td>\n",
       "      <td>CL 10691</td>\n",
       "      <td>LA RESERVA VINOS Y LICORES S.A.S.</td>\n",
       "    </tr>\n",
       "    <tr>\n",
       "      <th>6</th>\n",
       "      <td>CL  100000000821</td>\n",
       "      <td>ECHEVERRI OQUENDO MONICA MARCELA</td>\n",
       "      <td>1      8264</td>\n",
       "      <td>2019-01-17</td>\n",
       "      <td>121222</td>\n",
       "      <td>ALMOND BREEZE L.V. UNSWEETENED VAIINILLA X 946</td>\n",
       "      <td>-24.000</td>\n",
       "      <td>19</td>\n",
       "      <td>-254118.0</td>\n",
       "      <td>0.0</td>\n",
       "      <td>...</td>\n",
       "      <td>D.COMER</td>\n",
       "      <td>4175 95 39</td>\n",
       "      <td>DEVOLUCION EN VENTAS COMERCIAL AL 19%</td>\n",
       "      <td>0</td>\n",
       "      <td>1.0</td>\n",
       "      <td>PELAEZ PARRA CLAUDIA</td>\n",
       "      <td>NaN</td>\n",
       "      <td>2019-01</td>\n",
       "      <td>CL  100000000821</td>\n",
       "      <td>ECHEVERRI OQUENDO MONICA MARCELA</td>\n",
       "    </tr>\n",
       "    <tr>\n",
       "      <th>7</th>\n",
       "      <td>CL  100000000168</td>\n",
       "      <td>MORANGO S. A. S.</td>\n",
       "      <td>1      8265</td>\n",
       "      <td>2019-01-21</td>\n",
       "      <td>121038</td>\n",
       "      <td>HOL GOUDA BARRA GRAND X3.1 X KL</td>\n",
       "      <td>-0.320</td>\n",
       "      <td>19</td>\n",
       "      <td>-8040.0</td>\n",
       "      <td>0.0</td>\n",
       "      <td>...</td>\n",
       "      <td>D.COMER</td>\n",
       "      <td>4175 95 39</td>\n",
       "      <td>DEVOLUCION EN VENTAS COMERCIAL AL 19%</td>\n",
       "      <td>0</td>\n",
       "      <td>1.0</td>\n",
       "      <td>ALZATE  ELENA</td>\n",
       "      <td>NaN</td>\n",
       "      <td>2019-01</td>\n",
       "      <td>CL  100000000168</td>\n",
       "      <td>MORANGO S. A. S.</td>\n",
       "    </tr>\n",
       "    <tr>\n",
       "      <th>8</th>\n",
       "      <td>CL  100000000398</td>\n",
       "      <td>CENCOSUD COLOMBIA S.A.</td>\n",
       "      <td>1      8274</td>\n",
       "      <td>2019-01-22</td>\n",
       "      <td>121011</td>\n",
       "      <td>TOMATES AL GRANEL PYMx X KL</td>\n",
       "      <td>-4.500</td>\n",
       "      <td>19</td>\n",
       "      <td>-296505.0</td>\n",
       "      <td>0.0</td>\n",
       "      <td>...</td>\n",
       "      <td>D.COMER</td>\n",
       "      <td>4175 95 39</td>\n",
       "      <td>DEVOLUCION EN VENTAS COMERCIAL AL 19%</td>\n",
       "      <td>0</td>\n",
       "      <td>1.0</td>\n",
       "      <td>BODEGA PRINCIPAL</td>\n",
       "      <td>NaN</td>\n",
       "      <td>2019-01</td>\n",
       "      <td>CL  100000000398</td>\n",
       "      <td>CENCOSUD COLOMBIA S.A.</td>\n",
       "    </tr>\n",
       "    <tr>\n",
       "      <th>9</th>\n",
       "      <td>CL  100000000398</td>\n",
       "      <td>CENCOSUD COLOMBIA S.A.</td>\n",
       "      <td>1      8275</td>\n",
       "      <td>2019-01-22</td>\n",
       "      <td>156050</td>\n",
       "      <td>RICOTTA REGULARx15oz</td>\n",
       "      <td>-12.000</td>\n",
       "      <td>0</td>\n",
       "      <td>0.0</td>\n",
       "      <td>-145860.0</td>\n",
       "      <td>...</td>\n",
       "      <td>D.COMER</td>\n",
       "      <td>4175 95 25</td>\n",
       "      <td>DEVOLUCIONES NO GRAVADAS COMERCIAL</td>\n",
       "      <td>0</td>\n",
       "      <td>1.0</td>\n",
       "      <td>BODEGA PRINCIPAL</td>\n",
       "      <td>NaN</td>\n",
       "      <td>2019-01</td>\n",
       "      <td>CL  100000000398</td>\n",
       "      <td>CENCOSUD COLOMBIA S.A.</td>\n",
       "    </tr>\n",
       "  </tbody>\n",
       "</table>\n",
       "<p>10 rows × 25 columns</p>\n",
       "</div>"
      ],
      "text/plain": [
       "        cod_cliente                            cliente      documento  \\\n",
       "0  CL  100000001179        CORTES GARZON BLANCA JAZMIN    1      8262   \n",
       "1  CL  100000000398             CENCOSUD COLOMBIA S.A.    1      8266   \n",
       "2  CL  100000000398             CENCOSUD COLOMBIA S.A.    1      8266   \n",
       "3  CL  100000000398             CENCOSUD COLOMBIA S.A.    1      8266   \n",
       "4  CL  100000000398             CENCOSUD COLOMBIA S.A.    1      8267   \n",
       "5          CL 10691  LA RESERVA VINOS Y LICORES S.A.S.    1      8263   \n",
       "6  CL  100000000821   ECHEVERRI OQUENDO MONICA MARCELA    1      8264   \n",
       "7  CL  100000000168                   MORANGO S. A. S.    1      8265   \n",
       "8  CL  100000000398             CENCOSUD COLOMBIA S.A.    1      8274   \n",
       "9  CL  100000000398             CENCOSUD COLOMBIA S.A.    1      8275   \n",
       "\n",
       "     defecha cod_articulo_servicio  \\\n",
       "0 2019-01-10                120692   \n",
       "1 2019-01-15                156083   \n",
       "2 2019-01-15                156079   \n",
       "3 2019-01-15                156077   \n",
       "4 2019-01-15                156050   \n",
       "5 2019-01-16                170011   \n",
       "6 2019-01-17                121222   \n",
       "7 2019-01-21                121038   \n",
       "8 2019-01-22                121011   \n",
       "9 2019-01-22                156050   \n",
       "\n",
       "                         nombre_articulo_servicio  cantidad  porc_iva  \\\n",
       "0                         MAESE 6 MESES X 150 GRS    -2.000        19   \n",
       "1                         COLBY JACK X 3 KL APROX    -0.430         0   \n",
       "2                                   MUENSTER X KL    -0.345         0   \n",
       "3                              MILD CHEDDARx X KL    -0.290        19   \n",
       "4                            RICOTTA REGULARx15oz    -3.000         0   \n",
       "5               ARLA CAMEMBERT ROSENBOGR X 125 GR   -92.000        19   \n",
       "6  ALMOND BREEZE L.V. UNSWEETENED VAIINILLA X 946   -24.000        19   \n",
       "7                 HOL GOUDA BARRA GRAND X3.1 X KL    -0.320        19   \n",
       "8                     TOMATES AL GRANEL PYMx X KL    -4.500        19   \n",
       "9                            RICOTTA REGULARx15oz   -12.000         0   \n",
       "\n",
       "   vrgravado  vrnogravado  ...  tipodocumento      cuenta  \\\n",
       "0   -22689.0          0.0  ...        D.COMER  4175 95 39   \n",
       "1        0.0     -26698.0  ...        D.COMER  4175 95 25   \n",
       "2        0.0     -14383.0  ...        D.COMER  4175 95 25   \n",
       "3   -18119.0          0.0  ...        D.COMER  4175 95 39   \n",
       "4        0.0     -36465.0  ...        D.COMER  4175 95 25   \n",
       "5  -850420.0          0.0  ...        D.COMER  4175 95 39   \n",
       "6  -254118.0          0.0  ...        D.COMER  4175 95 39   \n",
       "7    -8040.0          0.0  ...        D.COMER  4175 95 39   \n",
       "8  -296505.0          0.0  ...        D.COMER  4175 95 39   \n",
       "9        0.0    -145860.0  ...        D.COMER  4175 95 25   \n",
       "\n",
       "                               nomcuenta  icolicoresunitario  bodega  \\\n",
       "0  DEVOLUCION EN VENTAS COMERCIAL AL 19%                   0     1.0   \n",
       "1     DEVOLUCIONES NO GRAVADAS COMERCIAL                   0     1.0   \n",
       "2     DEVOLUCIONES NO GRAVADAS COMERCIAL                   0     1.0   \n",
       "3  DEVOLUCION EN VENTAS COMERCIAL AL 19%                   0     1.0   \n",
       "4     DEVOLUCIONES NO GRAVADAS COMERCIAL                   0     1.0   \n",
       "5  DEVOLUCION EN VENTAS COMERCIAL AL 19%                   0     1.0   \n",
       "6  DEVOLUCION EN VENTAS COMERCIAL AL 19%                   0     1.0   \n",
       "7  DEVOLUCION EN VENTAS COMERCIAL AL 19%                   0     1.0   \n",
       "8  DEVOLUCION EN VENTAS COMERCIAL AL 19%                   0     1.0   \n",
       "9     DEVOLUCIONES NO GRAVADAS COMERCIAL                   0     1.0   \n",
       "\n",
       "               vendedor distrito      mes            codigo  \\\n",
       "0      ALVARADO  CARLOS      NaN  2019-01  CL  100000001179   \n",
       "1      BODEGA PRINCIPAL      NaN  2019-01  CL  100000000398   \n",
       "2      BODEGA PRINCIPAL      NaN  2019-01  CL  100000000398   \n",
       "3      BODEGA PRINCIPAL      NaN  2019-01  CL  100000000398   \n",
       "4      BODEGA PRINCIPAL      NaN  2019-01  CL  100000000398   \n",
       "5         ALZATE  ELENA      NaN  2019-01          CL 10691   \n",
       "6  PELAEZ PARRA CLAUDIA      NaN  2019-01  CL  100000000821   \n",
       "7         ALZATE  ELENA      NaN  2019-01  CL  100000000168   \n",
       "8      BODEGA PRINCIPAL      NaN  2019-01  CL  100000000398   \n",
       "9      BODEGA PRINCIPAL      NaN  2019-01  CL  100000000398   \n",
       "\n",
       "                        razon social  \n",
       "0        CORTES GARZON BLANCA JAZMIN  \n",
       "1             CENCOSUD COLOMBIA S.A.  \n",
       "2             CENCOSUD COLOMBIA S.A.  \n",
       "3             CENCOSUD COLOMBIA S.A.  \n",
       "4             CENCOSUD COLOMBIA S.A.  \n",
       "5  LA RESERVA VINOS Y LICORES S.A.S.  \n",
       "6   ECHEVERRI OQUENDO MONICA MARCELA  \n",
       "7                   MORANGO S. A. S.  \n",
       "8             CENCOSUD COLOMBIA S.A.  \n",
       "9             CENCOSUD COLOMBIA S.A.  \n",
       "\n",
       "[10 rows x 25 columns]"
      ]
     },
     "execution_count": 30,
     "metadata": {},
     "output_type": "execute_result"
    }
   ],
   "source": [
    "ventas_con_info_cliente.head(10)\n"
   ]
  },
  {
   "cell_type": "code",
   "execution_count": 31,
   "metadata": {},
   "outputs": [
    {
     "data": {
      "application/vnd.microsoft.datawrangler.viewer.v0+json": {
       "columns": [
        {
         "name": "index",
         "rawType": "int64",
         "type": "integer"
        },
        {
         "name": "cod_cliente",
         "rawType": "object",
         "type": "string"
        },
        {
         "name": "razon social",
         "rawType": "object",
         "type": "string"
        }
       ],
       "ref": "1aeea0c2-f465-4c14-a63b-522298ad11fe",
       "rows": [
        [
         "0",
         "CL  100000001179",
         "CORTES GARZON BLANCA JAZMIN"
        ],
        [
         "1",
         "CL  100000000398",
         "CENCOSUD COLOMBIA S.A."
        ],
        [
         "5",
         "CL 10691",
         "LA RESERVA VINOS Y LICORES S.A.S."
        ],
        [
         "6",
         "CL  100000000821",
         "ECHEVERRI OQUENDO MONICA MARCELA"
        ],
        [
         "7",
         "CL  100000000168",
         "MORANGO S. A. S."
        ],
        [
         "10",
         "CL  100000000798",
         "COMERCIALIZADORA MERCALDAS S.A"
        ],
        [
         "12",
         "CL  100000001144",
         "LAURELES S.A.S"
        ],
        [
         "14",
         "CL  100000000502",
         "NEGOCIOS LA PLAZA SAS"
        ],
        [
         "20",
         "CL  100000001177",
         "FIDEICOMISO G H BOGOTA - FIDUBOGOTA"
        ],
        [
         "21",
         "CL  100000000260",
         "ADMINISTRADORA MONSERRATE S.A.S"
        ]
       ],
       "shape": {
        "columns": 2,
        "rows": 10
       }
      },
      "text/html": [
       "<div>\n",
       "<style scoped>\n",
       "    .dataframe tbody tr th:only-of-type {\n",
       "        vertical-align: middle;\n",
       "    }\n",
       "\n",
       "    .dataframe tbody tr th {\n",
       "        vertical-align: top;\n",
       "    }\n",
       "\n",
       "    .dataframe thead th {\n",
       "        text-align: right;\n",
       "    }\n",
       "</style>\n",
       "<table border=\"1\" class=\"dataframe\">\n",
       "  <thead>\n",
       "    <tr style=\"text-align: right;\">\n",
       "      <th></th>\n",
       "      <th>cod_cliente</th>\n",
       "      <th>razon social</th>\n",
       "    </tr>\n",
       "  </thead>\n",
       "  <tbody>\n",
       "    <tr>\n",
       "      <th>0</th>\n",
       "      <td>CL  100000001179</td>\n",
       "      <td>CORTES GARZON BLANCA JAZMIN</td>\n",
       "    </tr>\n",
       "    <tr>\n",
       "      <th>1</th>\n",
       "      <td>CL  100000000398</td>\n",
       "      <td>CENCOSUD COLOMBIA S.A.</td>\n",
       "    </tr>\n",
       "    <tr>\n",
       "      <th>5</th>\n",
       "      <td>CL 10691</td>\n",
       "      <td>LA RESERVA VINOS Y LICORES S.A.S.</td>\n",
       "    </tr>\n",
       "    <tr>\n",
       "      <th>6</th>\n",
       "      <td>CL  100000000821</td>\n",
       "      <td>ECHEVERRI OQUENDO MONICA MARCELA</td>\n",
       "    </tr>\n",
       "    <tr>\n",
       "      <th>7</th>\n",
       "      <td>CL  100000000168</td>\n",
       "      <td>MORANGO S. A. S.</td>\n",
       "    </tr>\n",
       "    <tr>\n",
       "      <th>10</th>\n",
       "      <td>CL  100000000798</td>\n",
       "      <td>COMERCIALIZADORA MERCALDAS S.A</td>\n",
       "    </tr>\n",
       "    <tr>\n",
       "      <th>12</th>\n",
       "      <td>CL  100000001144</td>\n",
       "      <td>LAURELES S.A.S</td>\n",
       "    </tr>\n",
       "    <tr>\n",
       "      <th>14</th>\n",
       "      <td>CL  100000000502</td>\n",
       "      <td>NEGOCIOS LA PLAZA SAS</td>\n",
       "    </tr>\n",
       "    <tr>\n",
       "      <th>20</th>\n",
       "      <td>CL  100000001177</td>\n",
       "      <td>FIDEICOMISO G H BOGOTA - FIDUBOGOTA</td>\n",
       "    </tr>\n",
       "    <tr>\n",
       "      <th>21</th>\n",
       "      <td>CL  100000000260</td>\n",
       "      <td>ADMINISTRADORA MONSERRATE S.A.S</td>\n",
       "    </tr>\n",
       "  </tbody>\n",
       "</table>\n",
       "</div>"
      ],
      "text/plain": [
       "         cod_cliente                         razon social\n",
       "0   CL  100000001179          CORTES GARZON BLANCA JAZMIN\n",
       "1   CL  100000000398               CENCOSUD COLOMBIA S.A.\n",
       "5           CL 10691    LA RESERVA VINOS Y LICORES S.A.S.\n",
       "6   CL  100000000821     ECHEVERRI OQUENDO MONICA MARCELA\n",
       "7   CL  100000000168                     MORANGO S. A. S.\n",
       "10  CL  100000000798       COMERCIALIZADORA MERCALDAS S.A\n",
       "12  CL  100000001144                       LAURELES S.A.S\n",
       "14  CL  100000000502                NEGOCIOS LA PLAZA SAS\n",
       "20  CL  100000001177  FIDEICOMISO G H BOGOTA - FIDUBOGOTA\n",
       "21  CL  100000000260      ADMINISTRADORA MONSERRATE S.A.S"
      ]
     },
     "execution_count": 31,
     "metadata": {},
     "output_type": "execute_result"
    }
   ],
   "source": [
    "ventas_con_info_cliente[['cod_cliente', 'razon social']].drop_duplicates().head(10)\n"
   ]
  },
  {
   "cell_type": "code",
   "execution_count": 32,
   "metadata": {},
   "outputs": [
    {
     "data": {
      "application/vnd.microsoft.datawrangler.viewer.v0+json": {
       "columns": [
        {
         "name": "('cod_cliente', 'razon social')",
         "rawType": "object",
         "type": "unknown"
        },
        {
         "name": "cantidad",
         "rawType": "float64",
         "type": "float"
        }
       ],
       "ref": "49787896-230e-4dd4-93ca-4638c9853083",
       "rows": [
        [
         "('CL  100000000398', 'CENCOSUD COLOMBIA S.A.')",
         "570605.808"
        ],
        [
         "('CL 10003', 'ALMACENES EXITO S A')",
         "265292.0"
        ],
        [
         "('CL  100000001067', 'SUPERTIENDAS CAÑAVERAL SAS')",
         "96532.091"
        ],
        [
         "('CL 10451', 'INVERSIONES EURO S. A.')",
         "72296.848"
        ],
        [
         "('CL  100000000502', 'NEGOCIOS LA PLAZA SAS')",
         "39973.57"
        ],
        [
         "('CL  100000001602', 'FARMATODO COLOMBIA S.A.')",
         "38088.0"
        ],
        [
         "('CL 10292', 'SUPER A LIMITADA')",
         "33703.757"
        ],
        [
         "('CL 10351', 'DLK S.A.S.')",
         "32076.916"
        ],
        [
         "('CL  100000001136', 'ADWELLCH S.A.S.')",
         "31935.0"
        ],
        [
         "('CL  100000000055', 'GODDARD CATERING GROUP BOGOTA SAS')",
         "28914.7"
        ]
       ],
       "shape": {
        "columns": 1,
        "rows": 10
       }
      },
      "text/plain": [
       "cod_cliente       razon social                     \n",
       "CL  100000000398  CENCOSUD COLOMBIA S.A.               570605.808\n",
       "CL 10003          ALMACENES EXITO S A                  265292.000\n",
       "CL  100000001067  SUPERTIENDAS CAÑAVERAL SAS            96532.091\n",
       "CL 10451          INVERSIONES EURO S. A.                72296.848\n",
       "CL  100000000502  NEGOCIOS LA PLAZA SAS                 39973.570\n",
       "CL  100000001602  FARMATODO COLOMBIA S.A.               38088.000\n",
       "CL 10292          SUPER A LIMITADA                      33703.757\n",
       "CL 10351          DLK S.A.S.                            32076.916\n",
       "CL  100000001136  ADWELLCH S.A.S.                       31935.000\n",
       "CL  100000000055  GODDARD CATERING GROUP BOGOTA SAS     28914.700\n",
       "Name: cantidad, dtype: float64"
      ]
     },
     "execution_count": 32,
     "metadata": {},
     "output_type": "execute_result"
    }
   ],
   "source": [
    "ventas_con_info_cliente.groupby(['cod_cliente', 'razon social'])['cantidad'].sum().sort_values(ascending=False).head(10)\n"
   ]
  },
  {
   "cell_type": "code",
   "execution_count": 33,
   "metadata": {},
   "outputs": [],
   "source": [
    "ventas_por_cliente = ventas_con_info_cliente.groupby(\n",
    "    ['cod_cliente', 'razon social']\n",
    ")['cantidad'].sum().reset_index()\n",
    "ventas_por_cliente.rename(columns={'cantidad': 'ventas_totales'}, inplace=True)\n"
   ]
  },
  {
   "cell_type": "code",
   "execution_count": 34,
   "metadata": {},
   "outputs": [],
   "source": [
    "ventas_por_cliente['Validar Canal'] = ''\n",
    "ventas_por_cliente['Requiere Revisión'] = ''\n",
    "ventas_por_cliente['Observaciones'] = ''\n",
    "ventas_por_cliente['Acciones Sugeridas'] = ''\n",
    "ventas_por_cliente['Notas de Apoyo'] = ''\n"
   ]
  },
  {
   "cell_type": "code",
   "execution_count": 35,
   "metadata": {},
   "outputs": [],
   "source": [
    "columnas_ordenadas = [\n",
    "    'cod_cliente', 'razon social', 'ventas_totales',\n",
    "    'Validar Canal', 'Requiere Revisión',\n",
    "    'Observaciones', 'Acciones Sugeridas', 'Notas de Apoyo'\n",
    "]\n",
    "ventas_para_exportar = ventas_por_cliente[columnas_ordenadas]\n"
   ]
  },
  {
   "cell_type": "code",
   "execution_count": 36,
   "metadata": {},
   "outputs": [],
   "source": [
    "# Agrupar por cliente y sumar cantidad y valor\n",
    "ventas_por_cliente = ventas_con_info_cliente.groupby(\n",
    "    ['cod_cliente', 'razon social']\n",
    ")[['cantidad', 'subtotal']].sum().reset_index()\n",
    "\n",
    "# Renombrar columnas para claridad\n",
    "ventas_por_cliente.rename(columns={\n",
    "    'cantidad': 'ventas_totales_unidades',\n",
    "    'subtotal': 'ventas_totales_valor'\n",
    "}, inplace=True)\n",
    "\n",
    "ventas_por_cliente = ventas_por_cliente[ventas_por_cliente['ventas_totales_unidades'] > 0]\n",
    "\n",
    "# Calcular ticket promedio (sin división por cero)\n",
    "ventas_por_cliente['ticket_promedio'] = (\n",
    "    ventas_por_cliente['ventas_totales_valor'] / ventas_por_cliente['ventas_totales_unidades']\n",
    ")\n",
    "\n"
   ]
  },
  {
   "cell_type": "code",
   "execution_count": 37,
   "metadata": {},
   "outputs": [
    {
     "name": "stdout",
     "output_type": "stream",
     "text": [
      "count    6.130000e+02\n",
      "mean     8.582491e+05\n",
      "std      1.144976e+07\n",
      "min     -2.744876e+04\n",
      "25%      1.420680e+04\n",
      "50%      1.662774e+04\n",
      "75%      2.550972e+04\n",
      "max      2.300000e+08\n",
      "Name: ticket_promedio, dtype: float64\n"
     ]
    }
   ],
   "source": [
    "# Ver resumen estadístico\n",
    "print(ventas_por_cliente['ticket_promedio'].describe())\n"
   ]
  },
  {
   "cell_type": "code",
   "execution_count": 38,
   "metadata": {},
   "outputs": [],
   "source": [
    "#Usar categorizacion de K-means para analisis del comportamiento\n",
    "from sklearn.cluster import KMeans\n",
    "import numpy as np\n",
    "\n",
    "# Crear matriz de valores\n",
    "X = ventas_por_cliente[['ticket_promedio']].values\n",
    "\n",
    "# Aplicar K-Means con 4 clusters\n",
    "kmeans = KMeans(n_clusters=4, random_state=42)\n",
    "ventas_por_cliente['cluster'] = kmeans.fit_predict(X)\n",
    "\n",
    "# Ordenar los clusters según valor promedio para asignar etiquetas\n",
    "cluster_centers = kmeans.cluster_centers_.flatten()\n",
    "sorted_clusters = np.argsort(cluster_centers)\n",
    "\n",
    "# Crear etiquetas ordenadas\n",
    "etiquetas = ['Muy Bajo', 'Bajo', 'Medio', 'Alto']\n",
    "cluster_labels = dict(zip(sorted_clusters, etiquetas))\n",
    "ventas_por_cliente['categoria_cliente'] = ventas_por_cliente['cluster'].map(cluster_labels)\n"
   ]
  },
  {
   "cell_type": "code",
   "execution_count": 39,
   "metadata": {},
   "outputs": [
    {
     "data": {
      "image/png": "[encoded data removed]",
      "text/plain": [
       "<Figure size 1000x600 with 1 Axes>"
      ]
     },
     "metadata": {},
     "output_type": "display_data"
    }
   ],
   "source": [
    "#Grafico de distribucion de ticket promedio por categoria\n",
    "import seaborn as sns\n",
    "import matplotlib.pyplot as plt\n",
    "\n",
    "plt.figure(figsize=(10, 6))\n",
    "sns.boxplot(data=ventas_por_cliente, x='categoria_cliente', y='ticket_promedio', order=['Muy Bajo', 'Bajo', 'Medio', 'Alto'])\n",
    "plt.title('Distribución del Ticket Promedio por Categoría de Cliente')\n",
    "plt.xlabel('Categoría de Cliente')\n",
    "plt.ylabel('Ticket Promedio ($)')\n",
    "plt.yscale('log')  # Útil si hay mucha dispersión\n",
    "plt.grid(True)\n",
    "plt.tight_layout()\n",
    "plt.show()\n"
   ]
  },
  {
   "cell_type": "code",
   "execution_count": 40,
   "metadata": {},
   "outputs": [
    {
     "data": {
      "application/vnd.microsoft.datawrangler.viewer.v0+json": {
       "columns": [
        {
         "name": "index",
         "rawType": "int64",
         "type": "integer"
        },
        {
         "name": "categoria_cliente",
         "rawType": "object",
         "type": "string"
        },
        {
         "name": "clientes",
         "rawType": "int64",
         "type": "integer"
        },
        {
         "name": "ticket_promedio_medio",
         "rawType": "float64",
         "type": "float"
        },
        {
         "name": "ventas_totales",
         "rawType": "float64",
         "type": "float"
        }
       ],
       "ref": "444063bc-a007-4d3f-9fdf-2aa395ae2019",
       "rows": [
        [
         "0",
         "Alto",
         "1",
         "230000000.0",
         "230000000.0"
        ],
        [
         "1",
         "Bajo",
         "3",
         "40554333.333333336",
         "121663000.0"
        ],
        [
         "2",
         "Medio",
         "1",
         "148422000.0",
         "148422000.0"
        ],
        [
         "3",
         "Muy Bajo",
         "608",
         "42798.86479153996",
         "41313535102.72"
        ]
       ],
       "shape": {
        "columns": 4,
        "rows": 4
       }
      },
      "text/html": [
       "<div>\n",
       "<style scoped>\n",
       "    .dataframe tbody tr th:only-of-type {\n",
       "        vertical-align: middle;\n",
       "    }\n",
       "\n",
       "    .dataframe tbody tr th {\n",
       "        vertical-align: top;\n",
       "    }\n",
       "\n",
       "    .dataframe thead th {\n",
       "        text-align: right;\n",
       "    }\n",
       "</style>\n",
       "<table border=\"1\" class=\"dataframe\">\n",
       "  <thead>\n",
       "    <tr style=\"text-align: right;\">\n",
       "      <th></th>\n",
       "      <th>categoria_cliente</th>\n",
       "      <th>clientes</th>\n",
       "      <th>ticket_promedio_medio</th>\n",
       "      <th>ventas_totales</th>\n",
       "    </tr>\n",
       "  </thead>\n",
       "  <tbody>\n",
       "    <tr>\n",
       "      <th>0</th>\n",
       "      <td>Alto</td>\n",
       "      <td>1</td>\n",
       "      <td>2.300000e+08</td>\n",
       "      <td>2.300000e+08</td>\n",
       "    </tr>\n",
       "    <tr>\n",
       "      <th>1</th>\n",
       "      <td>Bajo</td>\n",
       "      <td>3</td>\n",
       "      <td>4.055433e+07</td>\n",
       "      <td>1.216630e+08</td>\n",
       "    </tr>\n",
       "    <tr>\n",
       "      <th>2</th>\n",
       "      <td>Medio</td>\n",
       "      <td>1</td>\n",
       "      <td>1.484220e+08</td>\n",
       "      <td>1.484220e+08</td>\n",
       "    </tr>\n",
       "    <tr>\n",
       "      <th>3</th>\n",
       "      <td>Muy Bajo</td>\n",
       "      <td>608</td>\n",
       "      <td>4.279886e+04</td>\n",
       "      <td>4.131354e+10</td>\n",
       "    </tr>\n",
       "  </tbody>\n",
       "</table>\n",
       "</div>"
      ],
      "text/plain": [
       "  categoria_cliente  clientes  ticket_promedio_medio  ventas_totales\n",
       "0              Alto         1           2.300000e+08    2.300000e+08\n",
       "1              Bajo         3           4.055433e+07    1.216630e+08\n",
       "2             Medio         1           1.484220e+08    1.484220e+08\n",
       "3          Muy Bajo       608           4.279886e+04    4.131354e+10"
      ]
     },
     "metadata": {},
     "output_type": "display_data"
    }
   ],
   "source": [
    "#Tabla de resumen por categoria\n",
    "resumen_categoria = ventas_por_cliente.groupby('categoria_cliente').agg(\n",
    "    clientes=('cod_cliente', 'count'),\n",
    "    ticket_promedio_medio=('ticket_promedio', 'mean'),\n",
    "    ventas_totales=('ventas_totales_valor', 'sum')\n",
    ").reset_index()\n",
    "\n",
    "display(resumen_categoria)\n"
   ]
  },
  {
   "cell_type": "code",
   "execution_count": 41,
   "metadata": {},
   "outputs": [],
   "source": [
    "#Exportacion de los archivos de tickets promedios \n",
    "output_path = \"../outputs/reports/clientes_ticket_promedio_kmeans.xlsx\"\n",
    "ventas_por_cliente.to_excel(output_path, index=False)\n"
   ]
  },
  {
   "cell_type": "code",
   "execution_count": 42,
   "metadata": {},
   "outputs": [
    {
     "name": "stdout",
     "output_type": "stream",
     "text": [
      "categoria_cliente\n",
      "Muy Bajo    608\n",
      "Bajo          3\n",
      "Alto          1\n",
      "Medio         1\n",
      "Name: count, dtype: int64\n"
     ]
    }
   ],
   "source": [
    "print(ventas_por_cliente['categoria_cliente'].value_counts())\n"
   ]
  },
  {
   "cell_type": "code",
   "execution_count": 48,
   "metadata": {},
   "outputs": [
    {
     "data": {
      "text/plain": [
       "['cod_cliente',\n",
       " 'razon social',\n",
       " 'ventas_totales_unidades',\n",
       " 'ventas_totales_valor',\n",
       " 'ticket_promedio',\n",
       " 'cluster',\n",
       " 'categoria_cliente',\n",
       " 'validacion_potencia',\n",
       " 'promedio_dias_entre_compras_x',\n",
       " 'promedio_dias_entre_compras_y',\n",
       " 'promedio_dias_entre_compras']"
      ]
     },
     "execution_count": 48,
     "metadata": {},
     "output_type": "execute_result"
    }
   ],
   "source": [
    "ventas_por_cliente.columns.tolist()\n"
   ]
  },
  {
   "cell_type": "code",
   "execution_count": null,
   "metadata": {},
   "outputs": [
    {
     "data": {
      "application/vnd.microsoft.datawrangler.viewer.v0+json": {
       "columns": [
        {
         "name": "index",
         "rawType": "int64",
         "type": "integer"
        },
        {
         "name": "cod_cliente",
         "rawType": "object",
         "type": "string"
        },
        {
         "name": "razon social",
         "rawType": "object",
         "type": "string"
        },
        {
         "name": "promedio_dias_entre_compras",
         "rawType": "float64",
         "type": "float"
        }
       ],
       "ref": "c10fdc69-f731-4af6-8e60-8c2a386c48f4",
       "rows": [
        [
         "0",
         "CL  100000000011",
         "MUÑOZ MEDINA NANCY",
         "19.523076923076925"
        ],
        [
         "1",
         "CL  100000000033",
         "TAKAMI SA",
         "19.78723404255319"
        ],
        [
         "2",
         "CL  100000000055",
         "GODDARD CATERING GROUP BOGOTA SAS",
         "5.4731707317073175"
        ],
        [
         "3",
         "CL  100000000064",
         "VARGAS TORO JAIME FELIPE",
         "60.125"
        ],
        [
         "4",
         "CL  100000000075",
         "KATA S A S",
         "9.397435897435898"
        ],
        [
         "5",
         "CL  100000000087",
         "D Y D INVERSIONES S.A.S",
         "9.443478260869565"
        ],
        [
         "6",
         "CL  100000000090",
         "ABEL Y SOFIA SAS",
         "6.266272189349112"
        ],
        [
         "7",
         "CL  100000000098",
         "MULTISERVICIOS OP EMPRESA UNIPERSONAL",
         "7.740088105726873"
        ],
        [
         "8",
         "CL  100000000100",
         "MERCADER DEL VINO SAS",
         "6.910891089108911"
        ],
        [
         "9",
         "CL  100000000113",
         "BIOPLAZA SOCIEDAD POR ACCIONES SIMPLIFICADA",
         "30.928571428571427"
        ]
       ],
       "shape": {
        "columns": 3,
        "rows": 10
       }
      },
      "text/html": [
       "<div>\n",
       "<style scoped>\n",
       "    .dataframe tbody tr th:only-of-type {\n",
       "        vertical-align: middle;\n",
       "    }\n",
       "\n",
       "    .dataframe tbody tr th {\n",
       "        vertical-align: top;\n",
       "    }\n",
       "\n",
       "    .dataframe thead th {\n",
       "        text-align: right;\n",
       "    }\n",
       "</style>\n",
       "<table border=\"1\" class=\"dataframe\">\n",
       "  <thead>\n",
       "    <tr style=\"text-align: right;\">\n",
       "      <th></th>\n",
       "      <th>cod_cliente</th>\n",
       "      <th>razon social</th>\n",
       "      <th>promedio_dias_entre_compras</th>\n",
       "    </tr>\n",
       "  </thead>\n",
       "  <tbody>\n",
       "    <tr>\n",
       "      <th>0</th>\n",
       "      <td>CL  100000000011</td>\n",
       "      <td>MUÑOZ MEDINA NANCY</td>\n",
       "      <td>19.523077</td>\n",
       "    </tr>\n",
       "    <tr>\n",
       "      <th>1</th>\n",
       "      <td>CL  100000000033</td>\n",
       "      <td>TAKAMI SA</td>\n",
       "      <td>19.787234</td>\n",
       "    </tr>\n",
       "    <tr>\n",
       "      <th>2</th>\n",
       "      <td>CL  100000000055</td>\n",
       "      <td>GODDARD CATERING GROUP BOGOTA SAS</td>\n",
       "      <td>5.473171</td>\n",
       "    </tr>\n",
       "    <tr>\n",
       "      <th>3</th>\n",
       "      <td>CL  100000000064</td>\n",
       "      <td>VARGAS TORO JAIME FELIPE</td>\n",
       "      <td>60.125000</td>\n",
       "    </tr>\n",
       "    <tr>\n",
       "      <th>4</th>\n",
       "      <td>CL  100000000075</td>\n",
       "      <td>KATA S A S</td>\n",
       "      <td>9.397436</td>\n",
       "    </tr>\n",
       "    <tr>\n",
       "      <th>5</th>\n",
       "      <td>CL  100000000087</td>\n",
       "      <td>D Y D INVERSIONES S.A.S</td>\n",
       "      <td>9.443478</td>\n",
       "    </tr>\n",
       "    <tr>\n",
       "      <th>6</th>\n",
       "      <td>CL  100000000090</td>\n",
       "      <td>ABEL Y SOFIA SAS</td>\n",
       "      <td>6.266272</td>\n",
       "    </tr>\n",
       "    <tr>\n",
       "      <th>7</th>\n",
       "      <td>CL  100000000098</td>\n",
       "      <td>MULTISERVICIOS OP EMPRESA UNIPERSONAL</td>\n",
       "      <td>7.740088</td>\n",
       "    </tr>\n",
       "    <tr>\n",
       "      <th>8</th>\n",
       "      <td>CL  100000000100</td>\n",
       "      <td>MERCADER DEL VINO SAS</td>\n",
       "      <td>6.910891</td>\n",
       "    </tr>\n",
       "    <tr>\n",
       "      <th>9</th>\n",
       "      <td>CL  100000000113</td>\n",
       "      <td>BIOPLAZA SOCIEDAD POR ACCIONES SIMPLIFICADA</td>\n",
       "      <td>30.928571</td>\n",
       "    </tr>\n",
       "  </tbody>\n",
       "</table>\n",
       "</div>"
      ],
      "text/plain": [
       "        cod_cliente                                 razon social  \\\n",
       "0  CL  100000000011                           MUÑOZ MEDINA NANCY   \n",
       "1  CL  100000000033                                    TAKAMI SA   \n",
       "2  CL  100000000055            GODDARD CATERING GROUP BOGOTA SAS   \n",
       "3  CL  100000000064                     VARGAS TORO JAIME FELIPE   \n",
       "4  CL  100000000075                                   KATA S A S   \n",
       "5  CL  100000000087                      D Y D INVERSIONES S.A.S   \n",
       "6  CL  100000000090                             ABEL Y SOFIA SAS   \n",
       "7  CL  100000000098        MULTISERVICIOS OP EMPRESA UNIPERSONAL   \n",
       "8  CL  100000000100                        MERCADER DEL VINO SAS   \n",
       "9  CL  100000000113  BIOPLAZA SOCIEDAD POR ACCIONES SIMPLIFICADA   \n",
       "\n",
       "   promedio_dias_entre_compras  \n",
       "0                    19.523077  \n",
       "1                    19.787234  \n",
       "2                     5.473171  \n",
       "3                    60.125000  \n",
       "4                     9.397436  \n",
       "5                     9.443478  \n",
       "6                     6.266272  \n",
       "7                     7.740088  \n",
       "8                     6.910891  \n",
       "9                    30.928571  "
      ]
     },
     "execution_count": 51,
     "metadata": {},
     "output_type": "execute_result"
    }
   ],
   "source": [
    "# Eliminar columnas duplicadas antes del merge\n",
    "columnas_a_borrar = [col for col in ventas_por_cliente.columns if 'promedio_dias_entre_compras' in col]\n",
    "\n",
    "ventas_por_cliente = ventas_por_cliente.drop(columns=columnas_a_borrar)\n",
    "\n",
    "# Realizacion el merge de categorias por clientes.\n",
    "ventas_por_cliente = ventas_por_cliente.merge(promedio_dias_entre_compras, on='cod_cliente', how='left')\n",
    "\n",
    "# Visualizar los primeros registros (Primeros 10 registros asociados a clientes)\n",
    "ventas_por_cliente[['cod_cliente', 'razon social', 'promedio_dias_entre_compras']].head(10)\n",
    "\n",
    "\n",
    "\n"
   ]
  },
  {
   "cell_type": "code",
   "execution_count": 69,
   "metadata": {},
   "outputs": [],
   "source": [
    "output_path = \"../outputs/reports/clientes_ticket_promedio_kmeans.xlsx\"\n",
    "ventas_por_cliente.to_excel(output_path, index=False)\n"
   ]
  }
 ],
 "metadata": {
  "kernelspec": {
   "display_name": "3.10.14",
   "language": "python",
   "name": "python3"
  },
  "language_info": {
   "codemirror_mode": {
    "name": "ipython",
    "version": 3
   },
   "file_extension": ".py",
   "mimetype": "text/x-python",
   "name": "python",
   "nbconvert_exporter": "python",
   "pygments_lexer": "ipython3",
   "version": "3.10.14"
  }
 },
 "nbformat": 4,
 "nbformat_minor": 2
}
